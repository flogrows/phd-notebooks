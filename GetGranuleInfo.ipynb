{
 "cells": [
  {
   "cell_type": "code",
   "execution_count": 3,
   "metadata": {},
   "outputs": [],
   "source": [
    "from modis_tools.auth import ModisSession\n",
    "from modis_tools.resources import CollectionApi, GranuleApi\n",
    "from modis_tools.granule_handler import GranuleHandler\n",
    "\n",
    "from modis_tools.auth import add_earthdata_netrc, remove_earthdata_netrc\n",
    "\n",
    "from datetime import datetime, timedelta\n",
    "from pathlib import Path\n",
    "import yaml\n",
    "import datetime as dt"
   ]
  },
  {
   "cell_type": "code",
   "execution_count": null,
   "metadata": {},
   "outputs": [],
   "source": [
    "# Create an entry for Earthdata in the ~/.netrc file, only needs to be run once\n",
    "\n",
    "#username = \"\"\n",
    "#password = \"\"\n",
    "#add_earthdata_netrc(username, password)"
   ]
  },
  {
   "cell_type": "code",
   "execution_count": 4,
   "metadata": {},
   "outputs": [],
   "source": [
    "# Create a session\n",
    "session = ModisSession()"
   ]
  },
  {
   "cell_type": "code",
   "execution_count": 5,
   "metadata": {},
   "outputs": [
    {
     "data": {
      "text/plain": [
       "[Collection(id='C1379758607-LAADS', title='MODIS/Aqua Calibrated Radiances 5-Min L1B Swath 1km', dataset_id='MODIS/Aqua Calibrated Radiances 5-Min L1B Swath 1km', coordinate_system='CARTESIAN', time_start='2002-07-04T00:00:00.000Z', updated=None, links=[CollectionLink(hreflang='en-US', href=AnyUrl('https://mcst.gsfc.nasa.gov/sites/default/files/file_attachments/M1054D_PUG_083112_final.pdf', scheme='https', host='mcst.gsfc.nasa.gov', tld='gov', host_type='domain', path='/sites/default/files/file_attachments/M1054D_PUG_083112_final.pdf'), type=None), CollectionLink(hreflang='en-US', href=AnyUrl('https://doi.org/10.5067/MODIS/MYD021KM.061', scheme='https', host='doi.org', tld='org', host_type='domain', path='/10.5067/MODIS/MYD021KM.061'), type=None), CollectionLink(hreflang='en-US', href=AnyUrl('https://ladsweb.modaps.eosdis.nasa.gov/search/order/2/MYD021KM--61', scheme='https', host='ladsweb.modaps.eosdis.nasa.gov', tld='gov', host_type='domain', path='/search/order/2/MYD021KM--61'), type=None), CollectionLink(hreflang='en-US', href=AnyUrl('https://ladsweb.modaps.eosdis.nasa.gov/opendap/RemoteResources/laads/allData/61/MYD021KM/contents.html', scheme='https', host='ladsweb.modaps.eosdis.nasa.gov', tld='gov', host_type='domain', path='/opendap/RemoteResources/laads/allData/61/MYD021KM/contents.html'), type='text/html'), CollectionLink(hreflang='en-US', href=AnyUrl('https://ladsweb.modaps.eosdis.nasa.gov/archive/allData/61/MYD021KM/', scheme='https', host='ladsweb.modaps.eosdis.nasa.gov', tld='gov', host_type='domain', path='/archive/allData/61/MYD021KM/'), type=None), CollectionLink(hreflang='en-US', href=AnyUrl('https://mcst.gsfc.nasa.gov/sites/default/files/file_attachments/MODIS_L1B_ATBD_ver4.pdf', scheme='https', host='mcst.gsfc.nasa.gov', tld='gov', host_type='domain', path='/sites/default/files/file_attachments/MODIS_L1B_ATBD_ver4.pdf'), type=None)], processing_level_id='1B', short_name='MYD021KM', summary='The MODIS/Aqua Calibrated Radiances 5Min L1B Swath 1km data set contains calibrated and geolocated at-aperture radiances for 36 discrete bands located in the 0.4 to 14.4 micron region of the electromagnetic spectrum. These data are generated from the MODIS Level 1A scans of raw radiance which during processing are converted to geophysical units of W / (m^2 um sr). Additional data are provided including quality flags, error estimates and calibration data.\\r\\n\\r\\nVisible, shortwave infrared, and near infrared measurements are only made during the daytime (except band 26), while radiances for the thermal infrared region (bands 20-25, 27-36) are measured continuously.\\r\\n\\r\\nThe shortname for this product is MYD021KM and is stored in the Earth Observing System Hierarchical Data Format (HDF-EOS). A typical file size is approximately 115 MB.\\r\\n\\r\\nEnvironmental information derived from MODIS L1B measurements will offer a comprehensive and unprecedented look at terrestrial, atmospheric, and ocean phenomenology for a wide and diverse community of users throughout the world.\\r\\n\\r\\nSee the MODIS Characterization Support Team webpage for more C6 product information at:\\r\\n\\r\\nhttps://mcst.gsfc.nasa.gov/l1b/product-information\\r\\n\\r\\n\\r\\nor visit Science Team homepage at:\\r\\nhttps://modis.gsfc.nasa.gov/data/dataprod/', version_id='6.1'),\n",
       " Collection(id='C1379841358-LAADS', title='MODIS/Aqua Geolocation Fields 5-Min L1A Swath 1km', dataset_id='MODIS/Aqua Geolocation Fields 5-Min L1A Swath 1km', coordinate_system='CARTESIAN', time_start='2002-07-03T23:55:00.000Z', updated=None, links=[CollectionLink(hreflang='en-US', href=AnyUrl('https://doi.org/10.5067/MODIS/MYD03.061', scheme='https', host='doi.org', tld='org', host_type='domain', path='/10.5067/MODIS/MYD03.061'), type=None), CollectionLink(hreflang='en-US', href=AnyUrl('https://modis.gsfc.nasa.gov/data/atbd/atbd_mod28_v3.pdf', scheme='https', host='modis.gsfc.nasa.gov', tld='gov', host_type='domain', path='/data/atbd/atbd_mod28_v3.pdf'), type=None), CollectionLink(hreflang='en-US', href=AnyUrl('https://ladsweb.modaps.eosdis.nasa.gov/search/order/2/MYD03--61', scheme='https', host='ladsweb.modaps.eosdis.nasa.gov', tld='gov', host_type='domain', path='/search/order/2/MYD03--61'), type=None), CollectionLink(hreflang='en-US', href=AnyUrl('https://ladsweb.modaps.eosdis.nasa.gov/archive/allData/61/MYD03/', scheme='https', host='ladsweb.modaps.eosdis.nasa.gov', tld='gov', host_type='domain', path='/archive/allData/61/MYD03/'), type=None), CollectionLink(hreflang='en-US', href=AnyUrl('https://ladsweb.modaps.eosdis.nasa.gov/opendap/RemoteResources/laads/allData/61/MYD03/contents.html', scheme='https', host='ladsweb.modaps.eosdis.nasa.gov', tld='gov', host_type='domain', path='/opendap/RemoteResources/laads/allData/61/MYD03/contents.html'), type='text/html')], processing_level_id='1A', short_name='MYD03', summary=\"The MODIS/Aqua Geolocation Fields 5-Min L1A Swath 1km  are calculated for each 1 km MODIS Instantaneous Field of Views (IFOV) for all orbits daily (in Collection 6 and later, information is provided to calculate 500m geolocation fields).  The locations and ancillary information corresponds to the intersection of the centers of each IFOV from 10 detectors in an ideal 1 km band on the Earth's surface. A digital terrain model is used to model the Earth's surface. The main inputs are the spacecraft attitude and orbit, the instrument telemetry and the digital elevation model. The geolocation fields include geodetic Latitude, Longitude, surface height above geoid, solar zenith and azimuth angles, satellite zenith and azimuth angles, and a land/sea mask for each 1 km sample. Additional information is included in the header to enable the calculation of the approximate location of the center of the detectors of any of the 36 MODIS bands. This product is used as input by a large number of subsequent MODIS products, particularly the products produced by the Land team.\\r\\n\\r\\nThe short name for this product is MYD03. Each file is roughly 30 MB in size, and the total data volume is approximately 8 GB/day.\\r\\n\\r\\nSee the MODIS Science Team homepage for more data set\\r\\ninformation:\\r\\n\\r\\nhttps://modis.gsfc.nasa.gov/data/dataprod/\", version_id='6.1')]"
      ]
     },
     "execution_count": 5,
     "metadata": {},
     "output_type": "execute_result"
    }
   ],
   "source": [
    "# Query the MODIS catalog for collections\n",
    "collection_client = CollectionApi(session=session)\n",
    "\n",
    "# Define the collections to query\n",
    "\n",
    "collections = collection_client.query(short_name=[\"MYD021KM\", \"MYD03\"], version=\"6.1\")      #Aqua\n",
    "#collections = collection_client.query(short_name=[\"MOD021KM\", \"MOD03\"], version=\"6.1\")      #Terra\n",
    "\n",
    "# Or maybe do them all at once?\n",
    "#collections = collection_client.query(short_name=[\"MYD021KM\", \"MYD03\", \"MOD021KM\", \"MOD03\"], version=\"6.1\")\n",
    "\n",
    "collections"
   ]
  },
  {
   "cell_type": "code",
   "execution_count": null,
   "metadata": {},
   "outputs": [],
   "source": [
    "# Criteria to filter the selected granules via spatial and temporal parameters\n",
    "# See https://cmr.earthdata.nasa.gov/search/site/docs/search/api.html for more options\n",
    "\n",
    "# Date range:\n",
    "start_date = \"2022-01-01\"\n",
    "end_date = \"2022-12-31\"\n"
   ]
  },
  {
   "cell_type": "code",
   "execution_count": null,
   "metadata": {},
   "outputs": [],
   "source": [
    "# Spatial extent\n",
    "\n",
    "# NB point co-ordinate is in lon, lat (opposite to earthdata web search!)\n",
    "# Default option for point search is AND, i.e. all points will be within each granule\n",
    "\n",
    "# bounding boxes and polygons for study area:\n",
    "aoi_corners = [[-65,45],[-10,45],[-10,60],[10,60],[10,65],[65,65],[65,82],[-30,82],[-30,70],[-65,70],[-65,45]]\n",
    "aoi_poly = \",\".join([\",\".join([str(x) for x in y]) for y in aoi_corners])\n",
    "\n",
    "bb1_corners = [[-65,45],[-25,45],[-25,70],[-65,70],[-65,45]] # Labrador Sea West\n",
    "bb2_corners = [[-25,45],[-10,45],[-10,60],[-25,60],[-25,45]] # Labrador Sea East\n",
    "bb3_corners = [[-25,60],[15,60],[15,82],[-25,82],[-25,60]] # GIN Seas\n",
    "bb4_corners = [[15,70],[65,70],[65,82],[15,82],[15,70]] # Barents Sea\n",
    "\n",
    "bb1 = \",\".join([str(x) for x in [bb1_corners[0][0], bb1_corners[0][1], bb1_corners[2][0], bb1_corners[2][1]]])\n",
    "bb2 = \",\".join([str(x) for x in [bb2_corners[0][0], bb2_corners[0][1], bb2_corners[2][0], bb2_corners[2][1]]])\n",
    "bb3 = \",\".join([str(x) for x in [bb3_corners[0][0], bb3_corners[0][1], bb3_corners[2][0], bb3_corners[2][1]]])\n",
    "bb4 = \",\".join([str(x) for x in [bb4_corners[0][0], bb4_corners[0][1], bb4_corners[2][0], bb4_corners[2][1]]])\n",
    "\n",
    "# Similar bounding boxes but with a buffer of 5-10 degrees to avoid granules with only tiny intersection:\n",
    "buffered_bb1_corners = [[-55,50],[-30,50],[-30,65],[-55,65],[-55,50]] # Labrador Sea West\n",
    "buffered_bb2_corners = [[-30,50],[-20,50],[-20,65],[-30,65],[-30,50]] # Labrador Sea East\n",
    "buffered_bb3_corners = [[-15,65],[5,65],[5,80],[-15,80],[-15,65]] # GIN Seas\n",
    "buffered_bb4_corners = [[5,75],[55,75],[55,80],[5,80],[5,75]] # Barents Sea\n",
    "\n",
    "buffer_bb1 = \",\".join([str(x) for x in [buffered_bb1_corners[0][0], buffered_bb1_corners[0][1], buffered_bb1_corners[2][0], buffered_bb1_corners[2][1]]])\n",
    "buffer_bb2 = \",\".join([str(x) for x in [buffered_bb2_corners[0][0], buffered_bb2_corners[0][1], buffered_bb2_corners[2][0], buffered_bb2_corners[2][1]]])\n",
    "buffer_bb3 = \",\".join([str(x) for x in [buffered_bb3_corners[0][0], buffered_bb3_corners[0][1], buffered_bb3_corners[2][0], buffered_bb3_corners[2][1]]])\n",
    "buffer_bb4 = \",\".join([str(x) for x in [buffered_bb4_corners[0][0], buffered_bb4_corners[0][1], buffered_bb4_corners[2][0], buffered_bb4_corners[2][1]]])\n"
   ]
  },
  {
   "cell_type": "code",
   "execution_count": 40,
   "metadata": {},
   "outputs": [],
   "source": [
    "# Query args with multiple bounding boxes\n",
    "# Switch on day flag for daylight only\n",
    "query_args = {'start_date':start_date, 'end_date':end_date, \n",
    "                   'day_night_flag':'day', \n",
    "                   #'bounding_box[]':[bb1,bb2,bb3,bb4], \n",
    "                   'bounding_box[]':[buffer_bb1,buffer_bb2,buffer_bb3,buffer_bb4],\n",
    "                   'options[bounding_box][or]':\"true\"}\n"
   ]
  },
  {
   "cell_type": "code",
   "execution_count": 41,
   "metadata": {},
   "outputs": [
    {
     "data": {
      "text/plain": [
       "4377"
      ]
     },
     "execution_count": 41,
     "metadata": {},
     "output_type": "execute_result"
    }
   ],
   "source": [
    "# Query the selected collection for granules (only one collection at a time)\n",
    "granule_client_data = GranuleApi.from_collection(collections[0], session=session)\n",
    "\n",
    "# Get list of granules fitting given criteria:\n",
    "data_granules = granule_client_data.query(**query_args) \n",
    "\n",
    "# Check how many granules before downloading!\n",
    "data_granules = list(data_granules) # make it a list as generator can only be used once\n",
    "len(data_granules)"
   ]
  },
  {
   "cell_type": "code",
   "execution_count": 26,
   "metadata": {},
   "outputs": [
    {
     "data": {
      "text/plain": [
       "[Granule(id='G2210657743-LAADS', title='LAADS:6843051677', dataset_id='MODIS/Aqua Calibrated Radiances 5-Min L1B Swath 1km', coordinate_system='GEODETIC', time_start='2022-01-31T17:00:00.000Z', updated=datetime.datetime(2024, 8, 18, 12, 34, 24, 940000, tzinfo=datetime.timezone.utc), links=[GranuleLink(hreflang='en-US', href=AnyUrl('https://data.laadsdaac.earthdatacloud.nasa.gov/prod-lads/MYD021KM/MYD021KM.A2022031.1700.061.2022032160035.hdf', scheme='https', host='data.laadsdaac.earthdatacloud.nasa.gov', tld='gov', host_type='domain', path='/prod-lads/MYD021KM/MYD021KM.A2022031.1700.061.2022032160035.hdf'), type='application/x-hdfeos', inherited=None), GranuleLink(hreflang='en-US', href=AnyUrl('s3://prod-lads/MYD021KM/MYD021KM.A2022031.1700.061.2022032160035.hdf', scheme='s3', host='prod-lads', host_type='int_domain', path='/MYD021KM/MYD021KM.A2022031.1700.061.2022032160035.hdf'), type='application/x-hdfeos', inherited=None), GranuleLink(hreflang='en-US', href=AnyUrl('https://ladsweb.modaps.eosdis.nasa.gov/opendap/RemoteResources/laads/allData/61/MYD021KM/2022/031/MYD021KM.A2022031.1700.061.2022032160035.hdf.html', scheme='https', host='ladsweb.modaps.eosdis.nasa.gov', tld='gov', host_type='domain', path='/opendap/RemoteResources/laads/allData/61/MYD021KM/2022/031/MYD021KM.A2022031.1700.061.2022032160035.hdf.html'), type='text/html', inherited=None), GranuleLink(hreflang='en-US', href=AnyUrl('http://doi.org/10.5067/MODIS/MYD021KM.061', scheme='http', host='doi.org', tld='org', host_type='domain', path='/10.5067/MODIS/MYD021KM.061'), type='text/html', inherited=None), GranuleLink(hreflang='en-US', href=AnyUrl('https://ladsweb.modaps.eosdis.nasa.gov/archive/allData/61/MYBRGB/2022/031/MYBRGB.A2022031.1700.061.2022032163820.jpg', scheme='https', host='ladsweb.modaps.eosdis.nasa.gov', tld='gov', host_type='domain', path='/archive/allData/61/MYBRGB/2022/031/MYBRGB.A2022031.1700.061.2022032163820.jpg'), type='image/jpeg', inherited=None), GranuleLink(hreflang='en-US', href=AnyUrl('https://mcst.gsfc.nasa.gov/sites/default/files/file_attachments/M1054D_PUG_083112_final.pdf', scheme='https', host='mcst.gsfc.nasa.gov', tld='gov', host_type='domain', path='/sites/default/files/file_attachments/M1054D_PUG_083112_final.pdf'), type=None, inherited=True), GranuleLink(hreflang='en-US', href=AnyUrl('https://doi.org/10.5067/MODIS/MYD021KM.061', scheme='https', host='doi.org', tld='org', host_type='domain', path='/10.5067/MODIS/MYD021KM.061'), type=None, inherited=True), GranuleLink(hreflang='en-US', href=AnyUrl('https://ladsweb.modaps.eosdis.nasa.gov/search/order/2/MYD021KM--61', scheme='https', host='ladsweb.modaps.eosdis.nasa.gov', tld='gov', host_type='domain', path='/search/order/2/MYD021KM--61'), type=None, inherited=True), GranuleLink(hreflang='en-US', href=AnyUrl('https://ladsweb.modaps.eosdis.nasa.gov/opendap/RemoteResources/laads/allData/61/MYD021KM/contents.html', scheme='https', host='ladsweb.modaps.eosdis.nasa.gov', tld='gov', host_type='domain', path='/opendap/RemoteResources/laads/allData/61/MYD021KM/contents.html'), type='text/html', inherited=True), GranuleLink(hreflang='en-US', href=AnyUrl('https://ladsweb.modaps.eosdis.nasa.gov/archive/allData/61/MYD021KM/', scheme='https', host='ladsweb.modaps.eosdis.nasa.gov', tld='gov', host_type='domain', path='/archive/allData/61/MYD021KM/'), type=None, inherited=True), GranuleLink(hreflang='en-US', href=AnyUrl('https://mcst.gsfc.nasa.gov/sites/default/files/file_attachments/MODIS_L1B_ATBD_ver4.pdf', scheme='https', host='mcst.gsfc.nasa.gov', tld='gov', host_type='domain', path='/sites/default/files/file_attachments/MODIS_L1B_ATBD_ver4.pdf'), type=None, inherited=True)], cloud_cover=None, collection_concept_id='C1379758607-LAADS', day_night_flag='DAY', granule_size=145.391483306885, polygons=[['57.330665 -45.39889 51.790442 -81.188299 35.283179 -69.928163 39.02683 -43.592112 57.330665 -45.39889']], producer_granule_id='MYD021KM.A2022031.1700.061.2022032160035.hdf', time_end=datetime.datetime(2022, 1, 31, 17, 5, tzinfo=datetime.timezone.utc)),\n",
       " Granule(id='G2210657511-LAADS', title='LAADS:6843050863', dataset_id='MODIS/Aqua Calibrated Radiances 5-Min L1B Swath 1km', coordinate_system='GEODETIC', time_start='2022-01-31T15:25:00.000Z', updated=datetime.datetime(2024, 8, 18, 12, 34, 24, 940000, tzinfo=datetime.timezone.utc), links=[GranuleLink(hreflang='en-US', href=AnyUrl('https://data.laadsdaac.earthdatacloud.nasa.gov/prod-lads/MYD021KM/MYD021KM.A2022031.1525.061.2022032155901.hdf', scheme='https', host='data.laadsdaac.earthdatacloud.nasa.gov', tld='gov', host_type='domain', path='/prod-lads/MYD021KM/MYD021KM.A2022031.1525.061.2022032155901.hdf'), type='application/x-hdfeos', inherited=None), GranuleLink(hreflang='en-US', href=AnyUrl('s3://prod-lads/MYD021KM/MYD021KM.A2022031.1525.061.2022032155901.hdf', scheme='s3', host='prod-lads', host_type='int_domain', path='/MYD021KM/MYD021KM.A2022031.1525.061.2022032155901.hdf'), type='application/x-hdfeos', inherited=None), GranuleLink(hreflang='en-US', href=AnyUrl('https://ladsweb.modaps.eosdis.nasa.gov/opendap/RemoteResources/laads/allData/61/MYD021KM/2022/031/MYD021KM.A2022031.1525.061.2022032155901.hdf.html', scheme='https', host='ladsweb.modaps.eosdis.nasa.gov', tld='gov', host_type='domain', path='/opendap/RemoteResources/laads/allData/61/MYD021KM/2022/031/MYD021KM.A2022031.1525.061.2022032155901.hdf.html'), type='text/html', inherited=None), GranuleLink(hreflang='en-US', href=AnyUrl('http://doi.org/10.5067/MODIS/MYD021KM.061', scheme='http', host='doi.org', tld='org', host_type='domain', path='/10.5067/MODIS/MYD021KM.061'), type='text/html', inherited=None), GranuleLink(hreflang='en-US', href=AnyUrl('https://ladsweb.modaps.eosdis.nasa.gov/archive/allData/61/MYBRGB/2022/031/MYBRGB.A2022031.1525.061.2022032163825.jpg', scheme='https', host='ladsweb.modaps.eosdis.nasa.gov', tld='gov', host_type='domain', path='/archive/allData/61/MYBRGB/2022/031/MYBRGB.A2022031.1525.061.2022032163825.jpg'), type='image/jpeg', inherited=None), GranuleLink(hreflang='en-US', href=AnyUrl('https://mcst.gsfc.nasa.gov/sites/default/files/file_attachments/M1054D_PUG_083112_final.pdf', scheme='https', host='mcst.gsfc.nasa.gov', tld='gov', host_type='domain', path='/sites/default/files/file_attachments/M1054D_PUG_083112_final.pdf'), type=None, inherited=True), GranuleLink(hreflang='en-US', href=AnyUrl('https://doi.org/10.5067/MODIS/MYD021KM.061', scheme='https', host='doi.org', tld='org', host_type='domain', path='/10.5067/MODIS/MYD021KM.061'), type=None, inherited=True), GranuleLink(hreflang='en-US', href=AnyUrl('https://ladsweb.modaps.eosdis.nasa.gov/search/order/2/MYD021KM--61', scheme='https', host='ladsweb.modaps.eosdis.nasa.gov', tld='gov', host_type='domain', path='/search/order/2/MYD021KM--61'), type=None, inherited=True), GranuleLink(hreflang='en-US', href=AnyUrl('https://ladsweb.modaps.eosdis.nasa.gov/opendap/RemoteResources/laads/allData/61/MYD021KM/contents.html', scheme='https', host='ladsweb.modaps.eosdis.nasa.gov', tld='gov', host_type='domain', path='/opendap/RemoteResources/laads/allData/61/MYD021KM/contents.html'), type='text/html', inherited=True), GranuleLink(hreflang='en-US', href=AnyUrl('https://ladsweb.modaps.eosdis.nasa.gov/archive/allData/61/MYD021KM/', scheme='https', host='ladsweb.modaps.eosdis.nasa.gov', tld='gov', host_type='domain', path='/archive/allData/61/MYD021KM/'), type=None, inherited=True), GranuleLink(hreflang='en-US', href=AnyUrl('https://mcst.gsfc.nasa.gov/sites/default/files/file_attachments/MODIS_L1B_ATBD_ver4.pdf', scheme='https', host='mcst.gsfc.nasa.gov', tld='gov', host_type='domain', path='/sites/default/files/file_attachments/MODIS_L1B_ATBD_ver4.pdf'), type=None, inherited=True)], cloud_cover=None, collection_concept_id='C1379758607-LAADS', day_night_flag='DAY', granule_size=145.879649162292, polygons=[['71.220458 -19.671219 63.007539 -72.754861 48.23286 -53.062657 52.917941 -19.883032 71.220458 -19.671219']], producer_granule_id='MYD021KM.A2022031.1525.061.2022032155901.hdf', time_end=datetime.datetime(2022, 1, 31, 15, 30, tzinfo=datetime.timezone.utc)),\n",
       " Granule(id='G2210657466-LAADS', title='LAADS:6843050677', dataset_id='MODIS/Aqua Calibrated Radiances 5-Min L1B Swath 1km', coordinate_system='GEODETIC', time_start='2022-01-31T15:20:00.000Z', updated=datetime.datetime(2024, 8, 18, 12, 34, 24, 940000, tzinfo=datetime.timezone.utc), links=[GranuleLink(hreflang='en-US', href=AnyUrl('https://data.laadsdaac.earthdatacloud.nasa.gov/prod-lads/MYD021KM/MYD021KM.A2022031.1520.061.2022032155835.hdf', scheme='https', host='data.laadsdaac.earthdatacloud.nasa.gov', tld='gov', host_type='domain', path='/prod-lads/MYD021KM/MYD021KM.A2022031.1520.061.2022032155835.hdf'), type='application/x-hdfeos', inherited=None), GranuleLink(hreflang='en-US', href=AnyUrl('s3://prod-lads/MYD021KM/MYD021KM.A2022031.1520.061.2022032155835.hdf', scheme='s3', host='prod-lads', host_type='int_domain', path='/MYD021KM/MYD021KM.A2022031.1520.061.2022032155835.hdf'), type='application/x-hdfeos', inherited=None), GranuleLink(hreflang='en-US', href=AnyUrl('https://ladsweb.modaps.eosdis.nasa.gov/opendap/RemoteResources/laads/allData/61/MYD021KM/2022/031/MYD021KM.A2022031.1520.061.2022032155835.hdf.html', scheme='https', host='ladsweb.modaps.eosdis.nasa.gov', tld='gov', host_type='domain', path='/opendap/RemoteResources/laads/allData/61/MYD021KM/2022/031/MYD021KM.A2022031.1520.061.2022032155835.hdf.html'), type='text/html', inherited=None), GranuleLink(hreflang='en-US', href=AnyUrl('http://doi.org/10.5067/MODIS/MYD021KM.061', scheme='http', host='doi.org', tld='org', host_type='domain', path='/10.5067/MODIS/MYD021KM.061'), type='text/html', inherited=None), GranuleLink(hreflang='en-US', href=AnyUrl('https://ladsweb.modaps.eosdis.nasa.gov/archive/allData/61/MYBRGB/2022/031/MYBRGB.A2022031.1520.061.2022032164648.jpg', scheme='https', host='ladsweb.modaps.eosdis.nasa.gov', tld='gov', host_type='domain', path='/archive/allData/61/MYBRGB/2022/031/MYBRGB.A2022031.1520.061.2022032164648.jpg'), type='image/jpeg', inherited=None), GranuleLink(hreflang='en-US', href=AnyUrl('https://mcst.gsfc.nasa.gov/sites/default/files/file_attachments/M1054D_PUG_083112_final.pdf', scheme='https', host='mcst.gsfc.nasa.gov', tld='gov', host_type='domain', path='/sites/default/files/file_attachments/M1054D_PUG_083112_final.pdf'), type=None, inherited=True), GranuleLink(hreflang='en-US', href=AnyUrl('https://doi.org/10.5067/MODIS/MYD021KM.061', scheme='https', host='doi.org', tld='org', host_type='domain', path='/10.5067/MODIS/MYD021KM.061'), type=None, inherited=True), GranuleLink(hreflang='en-US', href=AnyUrl('https://ladsweb.modaps.eosdis.nasa.gov/search/order/2/MYD021KM--61', scheme='https', host='ladsweb.modaps.eosdis.nasa.gov', tld='gov', host_type='domain', path='/search/order/2/MYD021KM--61'), type=None, inherited=True), GranuleLink(hreflang='en-US', href=AnyUrl('https://ladsweb.modaps.eosdis.nasa.gov/opendap/RemoteResources/laads/allData/61/MYD021KM/contents.html', scheme='https', host='ladsweb.modaps.eosdis.nasa.gov', tld='gov', host_type='domain', path='/opendap/RemoteResources/laads/allData/61/MYD021KM/contents.html'), type='text/html', inherited=True), GranuleLink(hreflang='en-US', href=AnyUrl('https://ladsweb.modaps.eosdis.nasa.gov/archive/allData/61/MYD021KM/', scheme='https', host='ladsweb.modaps.eosdis.nasa.gov', tld='gov', host_type='domain', path='/archive/allData/61/MYD021KM/'), type=None, inherited=True), GranuleLink(hreflang='en-US', href=AnyUrl('https://mcst.gsfc.nasa.gov/sites/default/files/file_attachments/MODIS_L1B_ATBD_ver4.pdf', scheme='https', host='mcst.gsfc.nasa.gov', tld='gov', host_type='domain', path='/sites/default/files/file_attachments/MODIS_L1B_ATBD_ver4.pdf'), type=None, inherited=True)], cloud_cover=None, collection_concept_id='C1379758607-LAADS', day_night_flag='DAY', granule_size=148.851366996765, polygons=[['53.310039 -20.522104 48.235362 -53.333169 31.446747 -43.493852 35.016553 -18.447637 53.310039 -20.522104']], producer_granule_id='MYD021KM.A2022031.1520.061.2022032155835.hdf', time_end=datetime.datetime(2022, 1, 31, 15, 25, tzinfo=datetime.timezone.utc)),\n",
       " Granule(id='G2210652872-LAADS', title='LAADS:6843046566', dataset_id='MODIS/Aqua Calibrated Radiances 5-Min L1B Swath 1km', coordinate_system='GEODETIC', time_start='2022-01-31T13:45:00.000Z', updated=datetime.datetime(2024, 8, 18, 12, 34, 24, 940000, tzinfo=datetime.timezone.utc), links=[GranuleLink(hreflang='en-US', href=AnyUrl('https://data.laadsdaac.earthdatacloud.nasa.gov/prod-lads/MYD021KM/MYD021KM.A2022031.1345.061.2022032154623.hdf', scheme='https', host='data.laadsdaac.earthdatacloud.nasa.gov', tld='gov', host_type='domain', path='/prod-lads/MYD021KM/MYD021KM.A2022031.1345.061.2022032154623.hdf'), type='application/x-hdfeos', inherited=None), GranuleLink(hreflang='en-US', href=AnyUrl('s3://prod-lads/MYD021KM/MYD021KM.A2022031.1345.061.2022032154623.hdf', scheme='s3', host='prod-lads', host_type='int_domain', path='/MYD021KM/MYD021KM.A2022031.1345.061.2022032154623.hdf'), type='application/x-hdfeos', inherited=None), GranuleLink(hreflang='en-US', href=AnyUrl('https://ladsweb.modaps.eosdis.nasa.gov/opendap/RemoteResources/laads/allData/61/MYD021KM/2022/031/MYD021KM.A2022031.1345.061.2022032154623.hdf.html', scheme='https', host='ladsweb.modaps.eosdis.nasa.gov', tld='gov', host_type='domain', path='/opendap/RemoteResources/laads/allData/61/MYD021KM/2022/031/MYD021KM.A2022031.1345.061.2022032154623.hdf.html'), type='text/html', inherited=None), GranuleLink(hreflang='en-US', href=AnyUrl('http://doi.org/10.5067/MODIS/MYD021KM.061', scheme='http', host='doi.org', tld='org', host_type='domain', path='/10.5067/MODIS/MYD021KM.061'), type='text/html', inherited=None), GranuleLink(hreflang='en-US', href=AnyUrl('https://ladsweb.modaps.eosdis.nasa.gov/archive/allData/61/MYBRGB/2022/031/MYBRGB.A2022031.1345.061.2022032162358.jpg', scheme='https', host='ladsweb.modaps.eosdis.nasa.gov', tld='gov', host_type='domain', path='/archive/allData/61/MYBRGB/2022/031/MYBRGB.A2022031.1345.061.2022032162358.jpg'), type='image/jpeg', inherited=None), GranuleLink(hreflang='en-US', href=AnyUrl('https://mcst.gsfc.nasa.gov/sites/default/files/file_attachments/M1054D_PUG_083112_final.pdf', scheme='https', host='mcst.gsfc.nasa.gov', tld='gov', host_type='domain', path='/sites/default/files/file_attachments/M1054D_PUG_083112_final.pdf'), type=None, inherited=True), GranuleLink(hreflang='en-US', href=AnyUrl('https://doi.org/10.5067/MODIS/MYD021KM.061', scheme='https', host='doi.org', tld='org', host_type='domain', path='/10.5067/MODIS/MYD021KM.061'), type=None, inherited=True), GranuleLink(hreflang='en-US', href=AnyUrl('https://ladsweb.modaps.eosdis.nasa.gov/search/order/2/MYD021KM--61', scheme='https', host='ladsweb.modaps.eosdis.nasa.gov', tld='gov', host_type='domain', path='/search/order/2/MYD021KM--61'), type=None, inherited=True), GranuleLink(hreflang='en-US', href=AnyUrl('https://ladsweb.modaps.eosdis.nasa.gov/opendap/RemoteResources/laads/allData/61/MYD021KM/contents.html', scheme='https', host='ladsweb.modaps.eosdis.nasa.gov', tld='gov', host_type='domain', path='/opendap/RemoteResources/laads/allData/61/MYD021KM/contents.html'), type='text/html', inherited=True), GranuleLink(hreflang='en-US', href=AnyUrl('https://ladsweb.modaps.eosdis.nasa.gov/archive/allData/61/MYD021KM/', scheme='https', host='ladsweb.modaps.eosdis.nasa.gov', tld='gov', host_type='domain', path='/archive/allData/61/MYD021KM/'), type=None, inherited=True), GranuleLink(hreflang='en-US', href=AnyUrl('https://mcst.gsfc.nasa.gov/sites/default/files/file_attachments/MODIS_L1B_ATBD_ver4.pdf', scheme='https', host='mcst.gsfc.nasa.gov', tld='gov', host_type='domain', path='/sites/default/files/file_attachments/MODIS_L1B_ATBD_ver4.pdf'), type=None, inherited=True)], cloud_cover=None, collection_concept_id='C1379758607-LAADS', day_night_flag='DAY', granule_size=145.287071228027, polygons=[['67.229846 4.361253 60.018513 -42.208327 44.572509 -25.690912 48.918054 5.033973 67.229846 4.361253']], producer_granule_id='MYD021KM.A2022031.1345.061.2022032154623.hdf', time_end=datetime.datetime(2022, 1, 31, 13, 50, tzinfo=datetime.timezone.utc)),\n",
       " Granule(id='G2210652871-LAADS', title='LAADS:6843046565', dataset_id='MODIS/Aqua Calibrated Radiances 5-Min L1B Swath 1km', coordinate_system='GEODETIC', time_start='2022-01-31T13:40:00.000Z', updated=datetime.datetime(2024, 8, 18, 12, 34, 24, 940000, tzinfo=datetime.timezone.utc), links=[GranuleLink(hreflang='en-US', href=AnyUrl('https://data.laadsdaac.earthdatacloud.nasa.gov/prod-lads/MYD021KM/MYD021KM.A2022031.1340.061.2022032154655.hdf', scheme='https', host='data.laadsdaac.earthdatacloud.nasa.gov', tld='gov', host_type='domain', path='/prod-lads/MYD021KM/MYD021KM.A2022031.1340.061.2022032154655.hdf'), type='application/x-hdfeos', inherited=None), GranuleLink(hreflang='en-US', href=AnyUrl('s3://prod-lads/MYD021KM/MYD021KM.A2022031.1340.061.2022032154655.hdf', scheme='s3', host='prod-lads', host_type='int_domain', path='/MYD021KM/MYD021KM.A2022031.1340.061.2022032154655.hdf'), type='application/x-hdfeos', inherited=None), GranuleLink(hreflang='en-US', href=AnyUrl('https://ladsweb.modaps.eosdis.nasa.gov/opendap/RemoteResources/laads/allData/61/MYD021KM/2022/031/MYD021KM.A2022031.1340.061.2022032154655.hdf.html', scheme='https', host='ladsweb.modaps.eosdis.nasa.gov', tld='gov', host_type='domain', path='/opendap/RemoteResources/laads/allData/61/MYD021KM/2022/031/MYD021KM.A2022031.1340.061.2022032154655.hdf.html'), type='text/html', inherited=None), GranuleLink(hreflang='en-US', href=AnyUrl('http://doi.org/10.5067/MODIS/MYD021KM.061', scheme='http', host='doi.org', tld='org', host_type='domain', path='/10.5067/MODIS/MYD021KM.061'), type='text/html', inherited=None), GranuleLink(hreflang='en-US', href=AnyUrl('https://ladsweb.modaps.eosdis.nasa.gov/archive/allData/61/MYBRGB/2022/031/MYBRGB.A2022031.1340.061.2022032162238.jpg', scheme='https', host='ladsweb.modaps.eosdis.nasa.gov', tld='gov', host_type='domain', path='/archive/allData/61/MYBRGB/2022/031/MYBRGB.A2022031.1340.061.2022032162238.jpg'), type='image/jpeg', inherited=None), GranuleLink(hreflang='en-US', href=AnyUrl('https://mcst.gsfc.nasa.gov/sites/default/files/file_attachments/M1054D_PUG_083112_final.pdf', scheme='https', host='mcst.gsfc.nasa.gov', tld='gov', host_type='domain', path='/sites/default/files/file_attachments/M1054D_PUG_083112_final.pdf'), type=None, inherited=True), GranuleLink(hreflang='en-US', href=AnyUrl('https://doi.org/10.5067/MODIS/MYD021KM.061', scheme='https', host='doi.org', tld='org', host_type='domain', path='/10.5067/MODIS/MYD021KM.061'), type=None, inherited=True), GranuleLink(hreflang='en-US', href=AnyUrl('https://ladsweb.modaps.eosdis.nasa.gov/search/order/2/MYD021KM--61', scheme='https', host='ladsweb.modaps.eosdis.nasa.gov', tld='gov', host_type='domain', path='/search/order/2/MYD021KM--61'), type=None, inherited=True), GranuleLink(hreflang='en-US', href=AnyUrl('https://ladsweb.modaps.eosdis.nasa.gov/opendap/RemoteResources/laads/allData/61/MYD021KM/contents.html', scheme='https', host='ladsweb.modaps.eosdis.nasa.gov', tld='gov', host_type='domain', path='/opendap/RemoteResources/laads/allData/61/MYD021KM/contents.html'), type='text/html', inherited=True), GranuleLink(hreflang='en-US', href=AnyUrl('https://ladsweb.modaps.eosdis.nasa.gov/archive/allData/61/MYD021KM/', scheme='https', host='ladsweb.modaps.eosdis.nasa.gov', tld='gov', host_type='domain', path='/archive/allData/61/MYD021KM/'), type=None, inherited=True), GranuleLink(hreflang='en-US', href=AnyUrl('https://mcst.gsfc.nasa.gov/sites/default/files/file_attachments/MODIS_L1B_ATBD_ver4.pdf', scheme='https', host='mcst.gsfc.nasa.gov', tld='gov', host_type='domain', path='/sites/default/files/file_attachments/MODIS_L1B_ATBD_ver4.pdf'), type=None, inherited=True)], cloud_cover=None, collection_concept_id='C1379758607-LAADS', day_night_flag='DAY', granule_size=142.044765472412, polygons=[['49.281645 4.456703 44.59175 -25.91952 27.576833 -17.231649 31.003601 6.743795 49.281645 4.456703']], producer_granule_id='MYD021KM.A2022031.1340.061.2022032154655.hdf', time_end=datetime.datetime(2022, 1, 31, 13, 45, tzinfo=datetime.timezone.utc)),\n",
       " Granule(id='G2210652867-LAADS', title='LAADS:6843046562', dataset_id='MODIS/Aqua Calibrated Radiances 5-Min L1B Swath 1km', coordinate_system='GEODETIC', time_start='2022-01-31T12:05:00.000Z', updated=datetime.datetime(2024, 8, 18, 12, 34, 16, 960000, tzinfo=datetime.timezone.utc), links=[GranuleLink(hreflang='en-US', href=AnyUrl('https://data.laadsdaac.earthdatacloud.nasa.gov/prod-lads/MYD021KM/MYD021KM.A2022031.1205.061.2022032154720.hdf', scheme='https', host='data.laadsdaac.earthdatacloud.nasa.gov', tld='gov', host_type='domain', path='/prod-lads/MYD021KM/MYD021KM.A2022031.1205.061.2022032154720.hdf'), type='application/x-hdfeos', inherited=None), GranuleLink(hreflang='en-US', href=AnyUrl('s3://prod-lads/MYD021KM/MYD021KM.A2022031.1205.061.2022032154720.hdf', scheme='s3', host='prod-lads', host_type='int_domain', path='/MYD021KM/MYD021KM.A2022031.1205.061.2022032154720.hdf'), type='application/x-hdfeos', inherited=None), GranuleLink(hreflang='en-US', href=AnyUrl('https://ladsweb.modaps.eosdis.nasa.gov/opendap/RemoteResources/laads/allData/61/MYD021KM/2022/031/MYD021KM.A2022031.1205.061.2022032154720.hdf.html', scheme='https', host='ladsweb.modaps.eosdis.nasa.gov', tld='gov', host_type='domain', path='/opendap/RemoteResources/laads/allData/61/MYD021KM/2022/031/MYD021KM.A2022031.1205.061.2022032154720.hdf.html'), type='text/html', inherited=None), GranuleLink(hreflang='en-US', href=AnyUrl('http://doi.org/10.5067/MODIS/MYD021KM.061', scheme='http', host='doi.org', tld='org', host_type='domain', path='/10.5067/MODIS/MYD021KM.061'), type='text/html', inherited=None), GranuleLink(hreflang='en-US', href=AnyUrl('https://ladsweb.modaps.eosdis.nasa.gov/archive/allData/61/MYBRGB/2022/031/MYBRGB.A2022031.1205.061.2022032162655.jpg', scheme='https', host='ladsweb.modaps.eosdis.nasa.gov', tld='gov', host_type='domain', path='/archive/allData/61/MYBRGB/2022/031/MYBRGB.A2022031.1205.061.2022032162655.jpg'), type='image/jpeg', inherited=None), GranuleLink(hreflang='en-US', href=AnyUrl('https://mcst.gsfc.nasa.gov/sites/default/files/file_attachments/M1054D_PUG_083112_final.pdf', scheme='https', host='mcst.gsfc.nasa.gov', tld='gov', host_type='domain', path='/sites/default/files/file_attachments/M1054D_PUG_083112_final.pdf'), type=None, inherited=True), GranuleLink(hreflang='en-US', href=AnyUrl('https://doi.org/10.5067/MODIS/MYD021KM.061', scheme='https', host='doi.org', tld='org', host_type='domain', path='/10.5067/MODIS/MYD021KM.061'), type=None, inherited=True), GranuleLink(hreflang='en-US', href=AnyUrl('https://ladsweb.modaps.eosdis.nasa.gov/search/order/2/MYD021KM--61', scheme='https', host='ladsweb.modaps.eosdis.nasa.gov', tld='gov', host_type='domain', path='/search/order/2/MYD021KM--61'), type=None, inherited=True), GranuleLink(hreflang='en-US', href=AnyUrl('https://ladsweb.modaps.eosdis.nasa.gov/opendap/RemoteResources/laads/allData/61/MYD021KM/contents.html', scheme='https', host='ladsweb.modaps.eosdis.nasa.gov', tld='gov', host_type='domain', path='/opendap/RemoteResources/laads/allData/61/MYD021KM/contents.html'), type='text/html', inherited=True), GranuleLink(hreflang='en-US', href=AnyUrl('https://ladsweb.modaps.eosdis.nasa.gov/archive/allData/61/MYD021KM/', scheme='https', host='ladsweb.modaps.eosdis.nasa.gov', tld='gov', host_type='domain', path='/archive/allData/61/MYD021KM/'), type=None, inherited=True), GranuleLink(hreflang='en-US', href=AnyUrl('https://mcst.gsfc.nasa.gov/sites/default/files/file_attachments/MODIS_L1B_ATBD_ver4.pdf', scheme='https', host='mcst.gsfc.nasa.gov', tld='gov', host_type='domain', path='/sites/default/files/file_attachments/MODIS_L1B_ATBD_ver4.pdf'), type=None, inherited=True)], cloud_cover=None, collection_concept_id='C1379758607-LAADS', day_night_flag='DAY', granule_size=147.026173591614, polygons=[['63.227185 28.77987 56.804998 -12.682056 40.848837 1.335102 44.914916 30.03256 63.227185 28.77987']], producer_granule_id='MYD021KM.A2022031.1205.061.2022032154720.hdf', time_end=datetime.datetime(2022, 1, 31, 12, 10, tzinfo=datetime.timezone.utc)),\n",
       " Granule(id='G2210213368-LAADS', title='LAADS:6842178622', dataset_id='MODIS/Aqua Calibrated Radiances 5-Min L1B Swath 1km', coordinate_system='GEODETIC', time_start='2022-01-31T08:50:00.000Z', updated=datetime.datetime(2024, 8, 18, 12, 34, 16, 960000, tzinfo=datetime.timezone.utc), links=[GranuleLink(hreflang='en-US', href=AnyUrl('https://data.laadsdaac.earthdatacloud.nasa.gov/prod-lads/MYD021KM/MYD021KM.A2022031.0850.061.2022031194054.hdf', scheme='https', host='data.laadsdaac.earthdatacloud.nasa.gov', tld='gov', host_type='domain', path='/prod-lads/MYD021KM/MYD021KM.A2022031.0850.061.2022031194054.hdf'), type='application/x-hdfeos', inherited=None), GranuleLink(hreflang='en-US', href=AnyUrl('s3://prod-lads/MYD021KM/MYD021KM.A2022031.0850.061.2022031194054.hdf', scheme='s3', host='prod-lads', host_type='int_domain', path='/MYD021KM/MYD021KM.A2022031.0850.061.2022031194054.hdf'), type='application/x-hdfeos', inherited=None), GranuleLink(hreflang='en-US', href=AnyUrl('https://ladsweb.modaps.eosdis.nasa.gov/opendap/RemoteResources/laads/allData/61/MYD021KM/2022/031/MYD021KM.A2022031.0850.061.2022031194054.hdf.html', scheme='https', host='ladsweb.modaps.eosdis.nasa.gov', tld='gov', host_type='domain', path='/opendap/RemoteResources/laads/allData/61/MYD021KM/2022/031/MYD021KM.A2022031.0850.061.2022031194054.hdf.html'), type='text/html', inherited=None), GranuleLink(hreflang='en-US', href=AnyUrl('http://doi.org/10.5067/MODIS/MYD021KM.061', scheme='http', host='doi.org', tld='org', host_type='domain', path='/10.5067/MODIS/MYD021KM.061'), type='text/html', inherited=None), GranuleLink(hreflang='en-US', href=AnyUrl('https://ladsweb.modaps.eosdis.nasa.gov/archive/allData/61/MYBRGB/2022/031/MYBRGB.A2022031.0850.061.2022031224103.jpg', scheme='https', host='ladsweb.modaps.eosdis.nasa.gov', tld='gov', host_type='domain', path='/archive/allData/61/MYBRGB/2022/031/MYBRGB.A2022031.0850.061.2022031224103.jpg'), type='image/jpeg', inherited=None), GranuleLink(hreflang='en-US', href=AnyUrl('https://mcst.gsfc.nasa.gov/sites/default/files/file_attachments/M1054D_PUG_083112_final.pdf', scheme='https', host='mcst.gsfc.nasa.gov', tld='gov', host_type='domain', path='/sites/default/files/file_attachments/M1054D_PUG_083112_final.pdf'), type=None, inherited=True), GranuleLink(hreflang='en-US', href=AnyUrl('https://doi.org/10.5067/MODIS/MYD021KM.061', scheme='https', host='doi.org', tld='org', host_type='domain', path='/10.5067/MODIS/MYD021KM.061'), type=None, inherited=True), GranuleLink(hreflang='en-US', href=AnyUrl('https://ladsweb.modaps.eosdis.nasa.gov/search/order/2/MYD021KM--61', scheme='https', host='ladsweb.modaps.eosdis.nasa.gov', tld='gov', host_type='domain', path='/search/order/2/MYD021KM--61'), type=None, inherited=True), GranuleLink(hreflang='en-US', href=AnyUrl('https://ladsweb.modaps.eosdis.nasa.gov/opendap/RemoteResources/laads/allData/61/MYD021KM/contents.html', scheme='https', host='ladsweb.modaps.eosdis.nasa.gov', tld='gov', host_type='domain', path='/opendap/RemoteResources/laads/allData/61/MYD021KM/contents.html'), type='text/html', inherited=True), GranuleLink(hreflang='en-US', href=AnyUrl('https://ladsweb.modaps.eosdis.nasa.gov/archive/allData/61/MYD021KM/', scheme='https', host='ladsweb.modaps.eosdis.nasa.gov', tld='gov', host_type='domain', path='/archive/allData/61/MYD021KM/'), type=None, inherited=True), GranuleLink(hreflang='en-US', href=AnyUrl('https://mcst.gsfc.nasa.gov/sites/default/files/file_attachments/MODIS_L1B_ATBD_ver4.pdf', scheme='https', host='mcst.gsfc.nasa.gov', tld='gov', host_type='domain', path='/sites/default/files/file_attachments/MODIS_L1B_ATBD_ver4.pdf'), type=None, inherited=True)], cloud_cover=None, collection_concept_id='C1379758607-LAADS', day_night_flag='DAY', granule_size=146.993102073669, polygons=[['73.09267 79.782129 64.318905 22.961425 49.932088 44.43014 54.798855 78.959472 73.09267 79.782129']], producer_granule_id='MYD021KM.A2022031.0850.061.2022031194054.hdf', time_end=datetime.datetime(2022, 1, 31, 8, 55, tzinfo=datetime.timezone.utc)),\n",
       " Granule(id='G2210213438-LAADS', title='LAADS:6842178877', dataset_id='MODIS/Aqua Calibrated Radiances 5-Min L1B Swath 1km', coordinate_system='GEODETIC', time_start='2022-01-31T07:10:00.000Z', updated=datetime.datetime(2024, 8, 18, 12, 34, 16, 960000, tzinfo=datetime.timezone.utc), links=[GranuleLink(hreflang='en-US', href=AnyUrl('https://data.laadsdaac.earthdatacloud.nasa.gov/prod-lads/MYD021KM/MYD021KM.A2022031.0710.061.2022031194138.hdf', scheme='https', host='data.laadsdaac.earthdatacloud.nasa.gov', tld='gov', host_type='domain', path='/prod-lads/MYD021KM/MYD021KM.A2022031.0710.061.2022031194138.hdf'), type='application/x-hdfeos', inherited=None), GranuleLink(hreflang='en-US', href=AnyUrl('s3://prod-lads/MYD021KM/MYD021KM.A2022031.0710.061.2022031194138.hdf', scheme='s3', host='prod-lads', host_type='int_domain', path='/MYD021KM/MYD021KM.A2022031.0710.061.2022031194138.hdf'), type='application/x-hdfeos', inherited=None), GranuleLink(hreflang='en-US', href=AnyUrl('https://ladsweb.modaps.eosdis.nasa.gov/opendap/RemoteResources/laads/allData/61/MYD021KM/2022/031/MYD021KM.A2022031.0710.061.2022031194138.hdf.html', scheme='https', host='ladsweb.modaps.eosdis.nasa.gov', tld='gov', host_type='domain', path='/opendap/RemoteResources/laads/allData/61/MYD021KM/2022/031/MYD021KM.A2022031.0710.061.2022031194138.hdf.html'), type='text/html', inherited=None), GranuleLink(hreflang='en-US', href=AnyUrl('http://doi.org/10.5067/MODIS/MYD021KM.061', scheme='http', host='doi.org', tld='org', host_type='domain', path='/10.5067/MODIS/MYD021KM.061'), type='text/html', inherited=None), GranuleLink(hreflang='en-US', href=AnyUrl('https://ladsweb.modaps.eosdis.nasa.gov/archive/allData/61/MYBRGB/2022/031/MYBRGB.A2022031.0710.061.2022031223834.jpg', scheme='https', host='ladsweb.modaps.eosdis.nasa.gov', tld='gov', host_type='domain', path='/archive/allData/61/MYBRGB/2022/031/MYBRGB.A2022031.0710.061.2022031223834.jpg'), type='image/jpeg', inherited=None), GranuleLink(hreflang='en-US', href=AnyUrl('https://mcst.gsfc.nasa.gov/sites/default/files/file_attachments/M1054D_PUG_083112_final.pdf', scheme='https', host='mcst.gsfc.nasa.gov', tld='gov', host_type='domain', path='/sites/default/files/file_attachments/M1054D_PUG_083112_final.pdf'), type=None, inherited=True), GranuleLink(hreflang='en-US', href=AnyUrl('https://doi.org/10.5067/MODIS/MYD021KM.061', scheme='https', host='doi.org', tld='org', host_type='domain', path='/10.5067/MODIS/MYD021KM.061'), type=None, inherited=True), GranuleLink(hreflang='en-US', href=AnyUrl('https://ladsweb.modaps.eosdis.nasa.gov/search/order/2/MYD021KM--61', scheme='https', host='ladsweb.modaps.eosdis.nasa.gov', tld='gov', host_type='domain', path='/search/order/2/MYD021KM--61'), type=None, inherited=True), GranuleLink(hreflang='en-US', href=AnyUrl('https://ladsweb.modaps.eosdis.nasa.gov/opendap/RemoteResources/laads/allData/61/MYD021KM/contents.html', scheme='https', host='ladsweb.modaps.eosdis.nasa.gov', tld='gov', host_type='domain', path='/opendap/RemoteResources/laads/allData/61/MYD021KM/contents.html'), type='text/html', inherited=True), GranuleLink(hreflang='en-US', href=AnyUrl('https://ladsweb.modaps.eosdis.nasa.gov/archive/allData/61/MYD021KM/', scheme='https', host='ladsweb.modaps.eosdis.nasa.gov', tld='gov', host_type='domain', path='/archive/allData/61/MYD021KM/'), type=None, inherited=True), GranuleLink(hreflang='en-US', href=AnyUrl('https://mcst.gsfc.nasa.gov/sites/default/files/file_attachments/MODIS_L1B_ATBD_ver4.pdf', scheme='https', host='mcst.gsfc.nasa.gov', tld='gov', host_type='domain', path='/sites/default/files/file_attachments/MODIS_L1B_ATBD_ver4.pdf'), type=None, inherited=True)], cloud_cover=None, collection_concept_id='C1379758607-LAADS', day_night_flag='DAY', granule_size=141.79139995575, polygons=[['69.116976 103.522656 61.47401 54.076882 46.31921 71.999085 50.812465 103.818863 69.116976 103.522656']], producer_granule_id='MYD021KM.A2022031.0710.061.2022031194138.hdf', time_end=datetime.datetime(2022, 1, 31, 7, 15, tzinfo=datetime.timezone.utc)),\n",
       " Granule(id='G2210140402-LAADS', title='LAADS:6842029034', dataset_id='MODIS/Aqua Calibrated Radiances 5-Min L1B Swath 1km', coordinate_system='GEODETIC', time_start='2022-01-30T18:00:00.000Z', updated=datetime.datetime(2024, 8, 18, 12, 34, 9, 650000, tzinfo=datetime.timezone.utc), links=[GranuleLink(hreflang='en-US', href=AnyUrl('https://data.laadsdaac.earthdatacloud.nasa.gov/prod-lads/MYD021KM/MYD021KM.A2022030.1800.061.2022031152716.hdf', scheme='https', host='data.laadsdaac.earthdatacloud.nasa.gov', tld='gov', host_type='domain', path='/prod-lads/MYD021KM/MYD021KM.A2022030.1800.061.2022031152716.hdf'), type='application/x-hdfeos', inherited=None), GranuleLink(hreflang='en-US', href=AnyUrl('s3://prod-lads/MYD021KM/MYD021KM.A2022030.1800.061.2022031152716.hdf', scheme='s3', host='prod-lads', host_type='int_domain', path='/MYD021KM/MYD021KM.A2022030.1800.061.2022031152716.hdf'), type='application/x-hdfeos', inherited=None), GranuleLink(hreflang='en-US', href=AnyUrl('https://ladsweb.modaps.eosdis.nasa.gov/opendap/RemoteResources/laads/allData/61/MYD021KM/2022/030/MYD021KM.A2022030.1800.061.2022031152716.hdf.html', scheme='https', host='ladsweb.modaps.eosdis.nasa.gov', tld='gov', host_type='domain', path='/opendap/RemoteResources/laads/allData/61/MYD021KM/2022/030/MYD021KM.A2022030.1800.061.2022031152716.hdf.html'), type='text/html', inherited=None), GranuleLink(hreflang='en-US', href=AnyUrl('http://doi.org/10.5067/MODIS/MYD021KM.061', scheme='http', host='doi.org', tld='org', host_type='domain', path='/10.5067/MODIS/MYD021KM.061'), type='text/html', inherited=None), GranuleLink(hreflang='en-US', href=AnyUrl('https://ladsweb.modaps.eosdis.nasa.gov/archive/allData/61/MYBRGB/2022/030/MYBRGB.A2022030.1800.061.2022031223222.jpg', scheme='https', host='ladsweb.modaps.eosdis.nasa.gov', tld='gov', host_type='domain', path='/archive/allData/61/MYBRGB/2022/030/MYBRGB.A2022030.1800.061.2022031223222.jpg'), type='image/jpeg', inherited=None), GranuleLink(hreflang='en-US', href=AnyUrl('https://mcst.gsfc.nasa.gov/sites/default/files/file_attachments/M1054D_PUG_083112_final.pdf', scheme='https', host='mcst.gsfc.nasa.gov', tld='gov', host_type='domain', path='/sites/default/files/file_attachments/M1054D_PUG_083112_final.pdf'), type=None, inherited=True), GranuleLink(hreflang='en-US', href=AnyUrl('https://doi.org/10.5067/MODIS/MYD021KM.061', scheme='https', host='doi.org', tld='org', host_type='domain', path='/10.5067/MODIS/MYD021KM.061'), type=None, inherited=True), GranuleLink(hreflang='en-US', href=AnyUrl('https://ladsweb.modaps.eosdis.nasa.gov/search/order/2/MYD021KM--61', scheme='https', host='ladsweb.modaps.eosdis.nasa.gov', tld='gov', host_type='domain', path='/search/order/2/MYD021KM--61'), type=None, inherited=True), GranuleLink(hreflang='en-US', href=AnyUrl('https://ladsweb.modaps.eosdis.nasa.gov/opendap/RemoteResources/laads/allData/61/MYD021KM/contents.html', scheme='https', host='ladsweb.modaps.eosdis.nasa.gov', tld='gov', host_type='domain', path='/opendap/RemoteResources/laads/allData/61/MYD021KM/contents.html'), type='text/html', inherited=True), GranuleLink(hreflang='en-US', href=AnyUrl('https://ladsweb.modaps.eosdis.nasa.gov/archive/allData/61/MYD021KM/', scheme='https', host='ladsweb.modaps.eosdis.nasa.gov', tld='gov', host_type='domain', path='/archive/allData/61/MYD021KM/'), type=None, inherited=True), GranuleLink(hreflang='en-US', href=AnyUrl('https://mcst.gsfc.nasa.gov/sites/default/files/file_attachments/MODIS_L1B_ATBD_ver4.pdf', scheme='https', host='mcst.gsfc.nasa.gov', tld='gov', host_type='domain', path='/sites/default/files/file_attachments/MODIS_L1B_ATBD_ver4.pdf'), type=None, inherited=True)], cloud_cover=None, collection_concept_id='C1379758607-LAADS', day_night_flag='DAY', granule_size=136.490750312805, polygons=[['72.882053 -57.81962 64.177898 -114.172777 49.743846 -92.91539 54.587564 -58.558319 72.882053 -57.81962']], producer_granule_id='MYD021KM.A2022030.1800.061.2022031152716.hdf', time_end=datetime.datetime(2022, 1, 30, 18, 5, tzinfo=datetime.timezone.utc)),\n",
       " Granule(id='G2210138250-LAADS', title='LAADS:6842028905', dataset_id='MODIS/Aqua Calibrated Radiances 5-Min L1B Swath 1km', coordinate_system='GEODETIC', time_start='2022-01-30T17:55:00.000Z', updated=datetime.datetime(2024, 8, 18, 12, 34, 9, 650000, tzinfo=datetime.timezone.utc), links=[GranuleLink(hreflang='en-US', href=AnyUrl('https://data.laadsdaac.earthdatacloud.nasa.gov/prod-lads/MYD021KM/MYD021KM.A2022030.1755.061.2022031152658.hdf', scheme='https', host='data.laadsdaac.earthdatacloud.nasa.gov', tld='gov', host_type='domain', path='/prod-lads/MYD021KM/MYD021KM.A2022030.1755.061.2022031152658.hdf'), type='application/x-hdfeos', inherited=None), GranuleLink(hreflang='en-US', href=AnyUrl('s3://prod-lads/MYD021KM/MYD021KM.A2022030.1755.061.2022031152658.hdf', scheme='s3', host='prod-lads', host_type='int_domain', path='/MYD021KM/MYD021KM.A2022030.1755.061.2022031152658.hdf'), type='application/x-hdfeos', inherited=None), GranuleLink(hreflang='en-US', href=AnyUrl('https://ladsweb.modaps.eosdis.nasa.gov/opendap/RemoteResources/laads/allData/61/MYD021KM/2022/030/MYD021KM.A2022030.1755.061.2022031152658.hdf.html', scheme='https', host='ladsweb.modaps.eosdis.nasa.gov', tld='gov', host_type='domain', path='/opendap/RemoteResources/laads/allData/61/MYD021KM/2022/030/MYD021KM.A2022030.1755.061.2022031152658.hdf.html'), type='text/html', inherited=None), GranuleLink(hreflang='en-US', href=AnyUrl('http://doi.org/10.5067/MODIS/MYD021KM.061', scheme='http', host='doi.org', tld='org', host_type='domain', path='/10.5067/MODIS/MYD021KM.061'), type='text/html', inherited=None), GranuleLink(hreflang='en-US', href=AnyUrl('https://ladsweb.modaps.eosdis.nasa.gov/archive/allData/61/MYBRGB/2022/030/MYBRGB.A2022030.1755.061.2022031224032.jpg', scheme='https', host='ladsweb.modaps.eosdis.nasa.gov', tld='gov', host_type='domain', path='/archive/allData/61/MYBRGB/2022/030/MYBRGB.A2022030.1755.061.2022031224032.jpg'), type='image/jpeg', inherited=None), GranuleLink(hreflang='en-US', href=AnyUrl('https://mcst.gsfc.nasa.gov/sites/default/files/file_attachments/M1054D_PUG_083112_final.pdf', scheme='https', host='mcst.gsfc.nasa.gov', tld='gov', host_type='domain', path='/sites/default/files/file_attachments/M1054D_PUG_083112_final.pdf'), type=None, inherited=True), GranuleLink(hreflang='en-US', href=AnyUrl('https://doi.org/10.5067/MODIS/MYD021KM.061', scheme='https', host='doi.org', tld='org', host_type='domain', path='/10.5067/MODIS/MYD021KM.061'), type=None, inherited=True), GranuleLink(hreflang='en-US', href=AnyUrl('https://ladsweb.modaps.eosdis.nasa.gov/search/order/2/MYD021KM--61', scheme='https', host='ladsweb.modaps.eosdis.nasa.gov', tld='gov', host_type='domain', path='/search/order/2/MYD021KM--61'), type=None, inherited=True), GranuleLink(hreflang='en-US', href=AnyUrl('https://ladsweb.modaps.eosdis.nasa.gov/opendap/RemoteResources/laads/allData/61/MYD021KM/contents.html', scheme='https', host='ladsweb.modaps.eosdis.nasa.gov', tld='gov', host_type='domain', path='/opendap/RemoteResources/laads/allData/61/MYD021KM/contents.html'), type='text/html', inherited=True), GranuleLink(hreflang='en-US', href=AnyUrl('https://ladsweb.modaps.eosdis.nasa.gov/archive/allData/61/MYD021KM/', scheme='https', host='ladsweb.modaps.eosdis.nasa.gov', tld='gov', host_type='domain', path='/archive/allData/61/MYD021KM/'), type=None, inherited=True), GranuleLink(hreflang='en-US', href=AnyUrl('https://mcst.gsfc.nasa.gov/sites/default/files/file_attachments/MODIS_L1B_ATBD_ver4.pdf', scheme='https', host='mcst.gsfc.nasa.gov', tld='gov', host_type='domain', path='/sites/default/files/file_attachments/MODIS_L1B_ATBD_ver4.pdf'), type=None, inherited=True)], cloud_cover=None, collection_concept_id='C1379758607-LAADS', day_night_flag='DAY', granule_size=141.168008804321, polygons=[['54.994416 -59.24321 49.73549 -93.216968 33.057422 -82.820717 36.695903 -57.270208 54.994416 -59.24321']], producer_granule_id='MYD021KM.A2022030.1755.061.2022031152658.hdf', time_end=datetime.datetime(2022, 1, 30, 18, 0, tzinfo=datetime.timezone.utc))]"
      ]
     },
     "execution_count": 26,
     "metadata": {},
     "output_type": "execute_result"
    }
   ],
   "source": [
    "data_granules[:10]"
   ]
  },
  {
   "cell_type": "code",
   "execution_count": 31,
   "metadata": {},
   "outputs": [
    {
     "data": {
      "text/plain": [
       "204"
      ]
     },
     "execution_count": 31,
     "metadata": {},
     "output_type": "execute_result"
    }
   ],
   "source": [
    "# Get geolocation granules for the same time period\n",
    "granule_client_geo = GranuleApi.from_collection(collections[1], session=session)\n",
    "geo_granules = granule_client_geo.query(**query_args)\n",
    "geo_granules = list(geo_granules)\n",
    "len(geo_granules) # Check same number of geolocation granules as data granules"
   ]
  },
  {
   "cell_type": "code",
   "execution_count": 32,
   "metadata": {},
   "outputs": [
    {
     "data": {
      "text/plain": [
       "'MYD021KM.A2022031.1700'"
      ]
     },
     "execution_count": 32,
     "metadata": {},
     "output_type": "execute_result"
    }
   ],
   "source": [
    "# Check name of scene/granule is parsed correctly! e.g. 'MYD02HKM.A2022352.1640'\n",
    "dict(data_granules[0])['producer_granule_id'][:22]"
   ]
  },
  {
   "cell_type": "code",
   "execution_count": 16,
   "metadata": {},
   "outputs": [],
   "source": [
    "# MODIS files on CEDA - subdirectories like YYYY/MM/DD\n",
    "\n",
    "aqua_data_dir = \"/neodc/modis/data/MYD021KM/collection61/\"\n",
    "aqua_geoloc_dir = \"/neodc/modis/data/MYD03/collection61/\"\n",
    "\n",
    "terra_data_dir = \"/neodc/modis/data/MOD021KM/collection61/\"\n",
    "terra_geoloc_dir = \"/neodc/modis/data/MOD03/collection61/\"\n",
    "\n",
    "# Will need to parse granule names to get folders"
   ]
  },
  {
   "cell_type": "code",
   "execution_count": 33,
   "metadata": {},
   "outputs": [],
   "source": [
    "# Make dictionary of scenes with data and geolocation filenames and locations on CEDA\n",
    "\n",
    "scenes = {}\n",
    "\n",
    "for granule, geogranule in zip(data_granules, geo_granules):\n",
    "    filename = dict(granule)['producer_granule_id']\n",
    "    date = dt.datetime.strptime(filename[10:17], '%Y%j')\n",
    "    subdir = f\"{date.year}/{date.month:02d}/{date.day:02d}/\"\n",
    "    if filename[1] == \"Y\": # Aqua\n",
    "        data_dir = aqua_data_dir + subdir\n",
    "        geoloc_dir = aqua_geoloc_dir + subdir\n",
    "    elif filename[1] == \"O\": # Terra\n",
    "        data_dir = terra_data_dir + subdir\n",
    "        geoloc_dir = terra_geoloc_dir + subdir\n",
    "\n",
    "    scenes[filename[:22]] = {                                                   # scene_id\n",
    "        'data':data_dir + filename,                                             # data file  \n",
    "        'geolocation':geoloc_dir + dict(geogranule)['producer_granule_id']      # geolocation file\n",
    "        }\n",
    "\n",
    "# Could put a check in here that data and geoloc dates match (any reason why they wouldn't?)"
   ]
  },
  {
   "cell_type": "code",
   "execution_count": 21,
   "metadata": {},
   "outputs": [],
   "source": [
    "save_dir = \"/gws/nopw/j04/sensecdt/users/flojo/data/\"\n",
    "\n",
    "# Specify save folder for current dataset\n",
    "folder = \"test_data\"\n",
    "filepath = Path(save_dir+folder)\n",
    "filepath.mkdir(exist_ok=True, parents=True)"
   ]
  },
  {
   "cell_type": "code",
   "execution_count": 34,
   "metadata": {},
   "outputs": [],
   "source": [
    "# Write scene_ids and filenames to yaml file\n",
    "\n",
    "meta_filepath = filepath / \"meta\"\n",
    "meta_filepath.mkdir(exist_ok=True, parents=True)\n",
    "\n",
    "with open(meta_filepath / 'scene_ids.yaml', 'w') as f:\n",
    "    yaml.dump(scenes, f)"
   ]
  },
  {
   "cell_type": "code",
   "execution_count": 30,
   "metadata": {},
   "outputs": [
    {
     "data": {
      "text/plain": [
       "['62.701894 20.645219 56.888587 62.600547 69.265475 93.384348 80.776895 11.079099 62.701894 20.645219',\n",
       " '80.360472 13.960098 68.877821 93.702143 69.173032 146.386309 80.538654 -131.883933 80.360472 13.960098',\n",
       " '66.670594 45.105119 60.081395 92.158707 70.638846 129.299635 84.446975 23.933265 66.670594 45.105119',\n",
       " '82.953286 -30.803906 69.667017 -120.370827 58.5815 -85.811147 64.846505 -41.415666 82.953286 -30.803906',\n",
       " '65.32226 -42.39235 58.514522 -86.250366 42.804302 -71.002899 47.005119 -41.373433 65.32226 -42.39235',\n",
       " '82.360542 134.037909 69.691682 -137.153556 68.175887 -84.851073 78.534922 -11.049649 82.360542 134.037909',\n",
       " '79.104455 -12.534496 67.955178 -85.420141 55.260693 -56.756706 60.869197 -16.939512 79.104455 -12.534496',\n",
       " '61.318066 -17.746412 55.218148 -57.135056 39.057687 -44.117497 43.005353 -16.280522 61.318066 -17.746412',\n",
       " '85.958534 141.383497 70.700537 -100.775945 65.861032 -51.526599 74.631123 10.661454 85.958534 141.383497',\n",
       " '75.16902 9.384176 65.686757 -52.092449 51.793034 -28.40744 56.884423 7.721013 75.16902 9.384176',\n",
       " '57.306491 7.002137 51.77438 -28.732424 35.261994 -17.484584 39.000952 8.815947 57.306491 7.002137',\n",
       " '87.504548 95.748376 70.884696 -63.68196 63.126086 -19.773788 70.690339 33.838127 87.504548 95.748376',\n",
       " '71.200152 32.737289 63.00593 -20.27802 48.221316 -0.606186 52.89511 32.532465 71.200152 32.737289',\n",
       " '76.642128 -144.800447 66.970526 -77.528117 70.539492 -26.415667 84.067419 76.168335 76.642128 -144.800447',\n",
       " '84.703021 74.930926 70.252433 -26.868292 60.108785 10.712591 66.732837 57.742337 84.703021 74.930926',\n",
       " '80.536614 -123.837129 68.953462 -43.335731 69.089863 9.333161 80.364601 90.347367 80.536614 -123.837129',\n",
       " '80.955878 88.762819 68.849922 8.783879 56.866465 40.156011 62.766843 82.05756 80.955878 88.762819',\n",
       " '48.966072 -92.582042 44.766845 -61.658431 60.45725 -45.798499 67.245031 -93.251749 48.966072 -92.582042',\n",
       " '66.757152 -92.412162 60.145466 -45.225678 70.676966 -7.684028 84.59624 -114.521304 66.757152 -92.412162',\n",
       " '84.299605 -108.698346 70.307104 -7.608677 67.022813 43.434775 76.504595 110.767224 84.299605 -108.698346',\n",
       " '35.117304 -69.30049 31.703173 -44.062653 48.630532 -34.753951 53.406038 -68.012238 35.117304 -69.30049',\n",
       " '52.939504 -67.581377 48.388003 -34.227723 63.447313 -15.201364 71.198576 -69.392148 52.939504 -67.581377',\n",
       " '70.713711 -68.317957 63.113297 -14.651628 71.24874 29.395105 87.14952 -135.027891 70.713711 -68.317957',\n",
       " '87.333054 -122.159416 70.899687 29.229974 64.481556 75.908384 72.584938 133.356571 87.333054 -122.159416',\n",
       " '39.099361 -44.102462 35.514774 -17.580604 52.189137 -6.901332 57.395081 -43.201244 39.099361 -44.102462',\n",
       " '56.920036 -42.705776 51.933837 -6.369932 66.14145 16.702117 75.127803 -46.375693 56.920036 -42.705776',\n",
       " '74.671694 -44.641119 65.77708 17.211313 70.967719 66.674768 85.703731 -173.838228 74.671694 -44.641119',\n",
       " '60.893238 -17.942043 55.35838 22.087004 68.393521 50.22484 79.026847 -24.95218 60.893238 -17.942043',\n",
       " '78.590278 -22.601807 68.028329 50.588635 69.874263 103.121263 82.179975 -167.097614 78.590278 -22.601807',\n",
       " '64.864765 6.634052 58.643159 51.234445 70.090214 85.402722 82.81669 -7.702864 64.864765 6.634052']"
      ]
     },
     "execution_count": 30,
     "metadata": {},
     "output_type": "execute_result"
    }
   ],
   "source": [
    "# optional...\n",
    "# Get polygon corners for each granule for mapping\n",
    "\n",
    "polygons = []\n",
    "for granule in data_granules:\n",
    "    polygons.append(dict(granule)['polygons'][0][0])\n",
    "polygons"
   ]
  }
 ],
 "metadata": {
  "kernelspec": {
   "display_name": "Python (modis-tools)",
   "language": "python",
   "name": "modis-tools"
  },
  "language_info": {
   "codemirror_mode": {
    "name": "ipython",
    "version": 3
   },
   "file_extension": ".py",
   "mimetype": "text/x-python",
   "name": "python",
   "nbconvert_exporter": "python",
   "pygments_lexer": "ipython3",
   "version": "3.12.7"
  }
 },
 "nbformat": 4,
 "nbformat_minor": 2
}
