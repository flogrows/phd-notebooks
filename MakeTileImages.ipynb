{
 "cells": [
  {
   "cell_type": "code",
   "execution_count": 1,
   "metadata": {},
   "outputs": [],
   "source": [
    "from pathlib import Path\n",
    "from tqdm import tqdm\n",
    "import xarray as xr\n",
    "import yaml\n",
    "from PIL import Image\n",
    "\n",
    "from convml_tt.data.dataset import TRIPLET_TILE_IDENTIFIER_FORMAT"
   ]
  },
  {
   "cell_type": "markdown",
   "metadata": {},
   "source": [
    "### Make set of tile images from previously sampled locations"
   ]
  },
  {
   "cell_type": "code",
   "execution_count": 2,
   "metadata": {},
   "outputs": [],
   "source": [
    "# Save directory on Sense group workspace\n",
    "save_dir = \"/gws/nopw/j04/sensecdt/users/flojo/data/\"\n",
    "\n",
    "# Working folder\n",
    "folder = \"2020_test\"\n",
    "data_filepath = Path(save_dir+folder)"
   ]
  },
  {
   "cell_type": "code",
   "execution_count": 3,
   "metadata": {},
   "outputs": [],
   "source": [
    "tiles_dir = \"/home/users/flojo/Data/Tiles\"\n",
    "tiles_folder = '2020_test_2400tr_128px'\n",
    "tiles_filepath = Path(tiles_dir) / tiles_folder\n",
    "tiles_meta_filepath = tiles_filepath / \"meta\"\n",
    "\n",
    "tiles_images_filepath = tiles_filepath / \"images\"\n",
    "tiles_images_filepath.mkdir(exist_ok=True)"
   ]
  },
  {
   "cell_type": "code",
   "execution_count": 4,
   "metadata": {},
   "outputs": [],
   "source": [
    "tile_size = 128"
   ]
  },
  {
   "cell_type": "code",
   "execution_count": 5,
   "metadata": {},
   "outputs": [],
   "source": [
    "with open(tiles_meta_filepath / 'tile_locations.yaml', 'r') as f:\n",
    "    tile_locations = yaml.safe_load(f)"
   ]
  },
  {
   "cell_type": "code",
   "execution_count": 6,
   "metadata": {},
   "outputs": [
    {
     "name": "stderr",
     "output_type": "stream",
     "text": [
      "  0%|          | 0/12 [00:00<?, ?it/s]"
     ]
    },
    {
     "name": "stderr",
     "output_type": "stream",
     "text": [
      "100%|██████████| 12/12 [22:26<00:00, 112.22s/it]\n"
     ]
    }
   ],
   "source": [
    "for month in tqdm(range(1,13)):\n",
    "    for satellite in ['aqua', 'terra']:\n",
    "        tiles = tile_locations[month][satellite]\n",
    "        granule_folder = data_filepath / str(month) / satellite / \"granule_data\"\n",
    "        for scene_id in tiles.keys():\n",
    "            granule_data = xr.open_dataset(granule_folder / f\"{scene_id}.nc\")\n",
    "            for tile in tiles[scene_id]:\n",
    "                x_c, y_c = tile['loc']['x_c'], tile['loc']['y_c']\n",
    "                triplet_id = tile['triplet_id']\n",
    "                tile_type = tile['tile_type']\n",
    "\n",
    "                tile_rgb = granule_data[\"true_color\"].isel(x=slice(x_c-tile_size//2, x_c+tile_size//2), \n",
    "                                                            y=slice(y_c-tile_size//2, y_c+tile_size//2))\n",
    "                img = Image.fromarray(tile_rgb.values)\n",
    "                resized_img = img.resize((256,256), Image.Resampling.NEAREST)\n",
    "                tile_identifier = TRIPLET_TILE_IDENTIFIER_FORMAT.format(triplet_id=triplet_id, \n",
    "                                                                                tile_type=tile_type)\n",
    "                fn_image = f\"{tile_identifier}.png\"\n",
    "                resized_img.save(tiles_images_filepath / fn_image)"
   ]
  }
 ],
 "metadata": {
  "kernelspec": {
   "display_name": "Python 3",
   "language": "python",
   "name": "python3"
  },
  "language_info": {
   "codemirror_mode": {
    "name": "ipython",
    "version": 3
   },
   "file_extension": ".py",
   "mimetype": "text/x-python",
   "name": "python",
   "nbconvert_exporter": "python",
   "pygments_lexer": "ipython3",
   "version": "3.12.3"
  }
 },
 "nbformat": 4,
 "nbformat_minor": 2
}
