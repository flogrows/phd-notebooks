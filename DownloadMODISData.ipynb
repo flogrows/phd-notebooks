{
 "cells": [
  {
   "cell_type": "code",
   "execution_count": 1,
   "metadata": {},
   "outputs": [],
   "source": [
    "from modis_tools.auth import ModisSession\n",
    "from modis_tools.resources import CollectionApi, GranuleApi\n",
    "from modis_tools.granule_handler import GranuleHandler\n",
    "\n",
    "from datetime import datetime, timedelta\n",
    "from pathlib import Path"
   ]
  },
  {
   "cell_type": "markdown",
   "metadata": {},
   "source": [
    "### Use modis-tools to search and download MODIS granules"
   ]
  },
  {
   "cell_type": "code",
   "execution_count": 2,
   "metadata": {},
   "outputs": [],
   "source": [
    "username = \"flojogreaves\"\n",
    "password = \".V.F3L+-gGA67Sp\"\n",
    "\n",
    "# Authenticate a session\n",
    "session = ModisSession(username=username, password=password)"
   ]
  },
  {
   "cell_type": "code",
   "execution_count": 3,
   "metadata": {},
   "outputs": [
    {
     "data": {
      "text/plain": [
       "[Collection(id='C1379841358-LAADS', title='MODIS/Aqua Geolocation Fields 5-Min L1A Swath 1km', dataset_id='MODIS/Aqua Geolocation Fields 5-Min L1A Swath 1km', coordinate_system='CARTESIAN', time_start='2002-07-03T23:55:00.000Z', updated=None, links=[CollectionLink(hreflang='en-US', href=AnyUrl('https://doi.org/10.5067/MODIS/MYD03.061', scheme='https', host='doi.org', tld='org', host_type='domain', path='/10.5067/MODIS/MYD03.061'), type=None), CollectionLink(hreflang='en-US', href=AnyUrl('https://modis.gsfc.nasa.gov/data/atbd/atbd_mod28_v3.pdf', scheme='https', host='modis.gsfc.nasa.gov', tld='gov', host_type='domain', path='/data/atbd/atbd_mod28_v3.pdf'), type=None), CollectionLink(hreflang='en-US', href=AnyUrl('https://ladsweb.modaps.eosdis.nasa.gov/search/order/2/MYD03--61', scheme='https', host='ladsweb.modaps.eosdis.nasa.gov', tld='gov', host_type='domain', path='/search/order/2/MYD03--61'), type=None), CollectionLink(hreflang='en-US', href=AnyUrl('https://ladsweb.modaps.eosdis.nasa.gov/archive/allData/61/MYD03/', scheme='https', host='ladsweb.modaps.eosdis.nasa.gov', tld='gov', host_type='domain', path='/archive/allData/61/MYD03/'), type=None), CollectionLink(hreflang='en-US', href=AnyUrl('https://ladsweb.modaps.eosdis.nasa.gov/opendap/RemoteResources/laads/allData/61/MYD03/contents.html', scheme='https', host='ladsweb.modaps.eosdis.nasa.gov', tld='gov', host_type='domain', path='/opendap/RemoteResources/laads/allData/61/MYD03/contents.html'), type='text/html')], processing_level_id='1A', short_name='MYD03', summary=\"The MODIS/Aqua Geolocation Fields 5-Min L1A Swath 1km  are calculated for each 1 km MODIS Instantaneous Field of Views (IFOV) for all orbits daily (in Collection 6 and later, information is provided to calculate 500m geolocation fields).  The locations and ancillary information corresponds to the intersection of the centers of each IFOV from 10 detectors in an ideal 1 km band on the Earth's surface. A digital terrain model is used to model the Earth's surface. The main inputs are the spacecraft attitude and orbit, the instrument telemetry and the digital elevation model. The geolocation fields include geodetic Latitude, Longitude, surface height above geoid, solar zenith and azimuth angles, satellite zenith and azimuth angles, and a land/sea mask for each 1 km sample. Additional information is included in the header to enable the calculation of the approximate location of the center of the detectors of any of the 36 MODIS bands. This product is used as input by a large number of subsequent MODIS products, particularly the products produced by the Land team.\\r\\n\\r\\nThe short name for this product is MYD03. Each file is roughly 30 MB in size, and the total data volume is approximately 8 GB/day.\\r\\n\\r\\nSee the MODIS Science Team homepage for more data set\\r\\ninformation:\\r\\n\\r\\nhttps://modis.gsfc.nasa.gov/data/dataprod/\", version_id='6.1')]"
      ]
     },
     "execution_count": 3,
     "metadata": {},
     "output_type": "execute_result"
    }
   ],
   "source": [
    "# Query the MODIS catalog for collections\n",
    "collection_client = CollectionApi(session=session)\n",
    "#collections = collection_client.query(short_name=\"MYD02HKM\", version=\"6.1\") # Aqua 500m calibrated radiances\n",
    "collections = collection_client.query(short_name=\"MYD03\", version=\"6.1\") # Aqua geolocation fields\n",
    "collections"
   ]
  },
  {
   "cell_type": "code",
   "execution_count": 4,
   "metadata": {},
   "outputs": [],
   "source": [
    "# Query the selected collection for granules\n",
    "granule_client = GranuleApi.from_collection(collections[0], session=session)"
   ]
  },
  {
   "cell_type": "code",
   "execution_count": 5,
   "metadata": {},
   "outputs": [],
   "source": [
    "# Filter the selected granules via spatial and temporal parameters\n",
    "# e.g.\n",
    "# nigeria_bbox = [2.1448863675, 4.002583177, 15.289420717, 14.275061098]\n",
    "# nigeria_granules = granule_client.query(start_date=\"2016-01-01\", end_date=\"2018-12-31\", bounding_box=nigeria_bbox)\n",
    "\n",
    "# See https://cmr.earthdata.nasa.gov/search/site/docs/search/api.html for more options\n",
    "\n",
    "# Date range:\n",
    "start_date = \"2022-01-01\"\n",
    "end_date = \"2022-12-31\"\n",
    "\n",
    "# Spatial extent:\n",
    "labsea = [-65.0, 45.0, -40.0, 70.0] # bounding_box for Labrador Sea\n",
    "points = [\"-55.0,53.75\", \"-64.25,61.5\", \"-53.25,64.25\", \"-44.0,59.25\"] # four approximate 'corners' of the Labrador Sea\n",
    "points2 = [\"-56.0,52.5\", \"-68.0,60.0\", \"-53.0,66.0\", \"-41.0,60.0\"] # four corners of a larger area\n",
    "points3 = [\"-64.0,55.0\", \"-44.0,63.0\"] # two ends of a line bisecting the Labrador Sea\n",
    "\n",
    "# NB point co-ordinate is in lon, lat (opposite to earthdata web search!)\n",
    "# Default option for point search is AND, i.e. all points will be within each granule\n",
    "\n",
    "# Get list of granules fitting given criteria:\n",
    "labsea2022_granules = granule_client.query(start_date=start_date, end_date=end_date, day_night_flag=\"day\", \n",
    "                                         point=points2) \n",
    "                                            \n",
    "\n",
    "# kwargs must be passed as dict if any options are to be used, e.g OR instead of AND\n",
    "# e.g. \n",
    "# labsea2022_granules = granule_client.query(start_date=start_date, end_date=end_date, \n",
    "#                                           **{\"point\":[\"-52.5,57.5\", \"-62.4,57.5\"], \"options[point][or]\":\"true\",\n",
    "#                                              \"day_night_flag\":\"day\"})\n",
    "\n"
   ]
  },
  {
   "cell_type": "code",
   "execution_count": 6,
   "metadata": {},
   "outputs": [
    {
     "data": {
      "text/plain": [
       "71"
      ]
     },
     "execution_count": 6,
     "metadata": {},
     "output_type": "execute_result"
    }
   ],
   "source": [
    "# Check how many granules before downloading!\n",
    "labsea2022_granules = list(labsea2022_granules) # make it a list as generator can only be used once\n",
    "len(labsea2022_granules)"
   ]
  },
  {
   "cell_type": "code",
   "execution_count": 7,
   "metadata": {},
   "outputs": [
    {
     "data": {
      "text/plain": [
       "[Granule(id='G2567719022-LAADS', title='LAADS:7254722513', dataset_id='MODIS/Aqua Geolocation Fields 5-Min L1A Swath 1km', coordinate_system='GEODETIC', time_start='2022-12-18T16:40:00.000Z', updated=datetime.datetime(2022, 12, 19, 18, 1, 26, 910000, tzinfo=datetime.timezone.utc), links=[GranuleLink(hreflang='en-US', href=AnyUrl('https://ladsweb.modaps.eosdis.nasa.gov/archive/allData/61/MYD03/2022/352/MYD03.A2022352.1640.061.2022353162327.hdf', scheme='https', host='ladsweb.modaps.eosdis.nasa.gov', tld='gov', host_type='domain', path='/archive/allData/61/MYD03/2022/352/MYD03.A2022352.1640.061.2022353162327.hdf'), type='application/x-hdfeos', inherited=None), GranuleLink(hreflang='en-US', href=AnyUrl('s3://prod-lads/MYD03/MYD03.A2022352.1640.061.2022353162327.hdf', scheme='s3', host='prod-lads', host_type='int_domain', path='/MYD03/MYD03.A2022352.1640.061.2022353162327.hdf'), type='application/x-hdfeos', inherited=None), GranuleLink(hreflang='en-US', href=AnyUrl('https://ladsweb.modaps.eosdis.nasa.gov/opendap/RemoteResources/laads/allData/61/MYD03/2022/352/MYD03.A2022352.1640.061.2022353162327.hdf.html', scheme='https', host='ladsweb.modaps.eosdis.nasa.gov', tld='gov', host_type='domain', path='/opendap/RemoteResources/laads/allData/61/MYD03/2022/352/MYD03.A2022352.1640.061.2022353162327.hdf.html'), type='text/html', inherited=None), GranuleLink(hreflang='en-US', href=AnyUrl('http://doi.org/10.5067/MODIS/MYD03.061', scheme='http', host='doi.org', tld='org', host_type='domain', path='/10.5067/MODIS/MYD03.061'), type='text/html', inherited=None), GranuleLink(hreflang='en-US', href=AnyUrl('https://doi.org/10.5067/MODIS/MYD03.061', scheme='https', host='doi.org', tld='org', host_type='domain', path='/10.5067/MODIS/MYD03.061'), type=None, inherited=True), GranuleLink(hreflang='en-US', href=AnyUrl('https://modis.gsfc.nasa.gov/data/atbd/atbd_mod28_v3.pdf', scheme='https', host='modis.gsfc.nasa.gov', tld='gov', host_type='domain', path='/data/atbd/atbd_mod28_v3.pdf'), type=None, inherited=True), GranuleLink(hreflang='en-US', href=AnyUrl('https://ladsweb.modaps.eosdis.nasa.gov/search/order/2/MYD03--61', scheme='https', host='ladsweb.modaps.eosdis.nasa.gov', tld='gov', host_type='domain', path='/search/order/2/MYD03--61'), type=None, inherited=True), GranuleLink(hreflang='en-US', href=AnyUrl('https://ladsweb.modaps.eosdis.nasa.gov/archive/allData/61/MYD03/', scheme='https', host='ladsweb.modaps.eosdis.nasa.gov', tld='gov', host_type='domain', path='/archive/allData/61/MYD03/'), type=None, inherited=True), GranuleLink(hreflang='en-US', href=AnyUrl('https://ladsweb.modaps.eosdis.nasa.gov/opendap/RemoteResources/laads/allData/61/MYD03/contents.html', scheme='https', host='ladsweb.modaps.eosdis.nasa.gov', tld='gov', host_type='domain', path='/opendap/RemoteResources/laads/allData/61/MYD03/contents.html'), type='text/html', inherited=True)], cloud_cover=None, collection_concept_id='C1379841358-LAADS', day_night_flag='DAY', granule_size=31.8160924911499, polygons=[['66.689304 -38.013145 59.592058 -83.657073 44.063182 -67.507894 48.370167 -37.179144 66.689304 -38.013145']], producer_granule_id='MYD03.A2022352.1640.061.2022353162327.hdf', time_end=datetime.datetime(2022, 12, 18, 16, 45, tzinfo=datetime.timezone.utc)),\n",
       " Granule(id='G2562415851-LAADS', title='LAADS:7236774209', dataset_id='MODIS/Aqua Geolocation Fields 5-Min L1A Swath 1km', coordinate_system='GEODETIC', time_start='2022-12-09T16:50:00.000Z', updated=datetime.datetime(2022, 12, 10, 15, 18, 23, 450000, tzinfo=datetime.timezone.utc), links=[GranuleLink(hreflang='en-US', href=AnyUrl('https://ladsweb.modaps.eosdis.nasa.gov/archive/allData/61/MYD03/2022/343/MYD03.A2022343.1650.061.2022344151151.hdf', scheme='https', host='ladsweb.modaps.eosdis.nasa.gov', tld='gov', host_type='domain', path='/archive/allData/61/MYD03/2022/343/MYD03.A2022343.1650.061.2022344151151.hdf'), type='application/x-hdfeos', inherited=None), GranuleLink(hreflang='en-US', href=AnyUrl('s3://prod-lads/MYD03/MYD03.A2022343.1650.061.2022344151151.hdf', scheme='s3', host='prod-lads', host_type='int_domain', path='/MYD03/MYD03.A2022343.1650.061.2022344151151.hdf'), type='application/x-hdfeos', inherited=None), GranuleLink(hreflang='en-US', href=AnyUrl('https://ladsweb.modaps.eosdis.nasa.gov/opendap/RemoteResources/laads/allData/61/MYD03/2022/343/MYD03.A2022343.1650.061.2022344151151.hdf.html', scheme='https', host='ladsweb.modaps.eosdis.nasa.gov', tld='gov', host_type='domain', path='/opendap/RemoteResources/laads/allData/61/MYD03/2022/343/MYD03.A2022343.1650.061.2022344151151.hdf.html'), type='text/html', inherited=None), GranuleLink(hreflang='en-US', href=AnyUrl('http://doi.org/10.5067/MODIS/MYD03.061', scheme='http', host='doi.org', tld='org', host_type='domain', path='/10.5067/MODIS/MYD03.061'), type='text/html', inherited=None), GranuleLink(hreflang='en-US', href=AnyUrl('https://doi.org/10.5067/MODIS/MYD03.061', scheme='https', host='doi.org', tld='org', host_type='domain', path='/10.5067/MODIS/MYD03.061'), type=None, inherited=True), GranuleLink(hreflang='en-US', href=AnyUrl('https://modis.gsfc.nasa.gov/data/atbd/atbd_mod28_v3.pdf', scheme='https', host='modis.gsfc.nasa.gov', tld='gov', host_type='domain', path='/data/atbd/atbd_mod28_v3.pdf'), type=None, inherited=True), GranuleLink(hreflang='en-US', href=AnyUrl('https://ladsweb.modaps.eosdis.nasa.gov/search/order/2/MYD03--61', scheme='https', host='ladsweb.modaps.eosdis.nasa.gov', tld='gov', host_type='domain', path='/search/order/2/MYD03--61'), type=None, inherited=True), GranuleLink(hreflang='en-US', href=AnyUrl('https://ladsweb.modaps.eosdis.nasa.gov/archive/allData/61/MYD03/', scheme='https', host='ladsweb.modaps.eosdis.nasa.gov', tld='gov', host_type='domain', path='/archive/allData/61/MYD03/'), type=None, inherited=True), GranuleLink(hreflang='en-US', href=AnyUrl('https://ladsweb.modaps.eosdis.nasa.gov/opendap/RemoteResources/laads/allData/61/MYD03/contents.html', scheme='https', host='ladsweb.modaps.eosdis.nasa.gov', tld='gov', host_type='domain', path='/opendap/RemoteResources/laads/allData/61/MYD03/contents.html'), type='text/html', inherited=True)], cloud_cover=None, collection_concept_id='C1379841358-LAADS', day_night_flag='DAY', granule_size=32.659517288208, polygons=[['67.595536 -40.541076 60.302649 -87.332733 44.901989 -70.555201 49.272095 -39.810675 67.595536 -40.541076']], producer_granule_id='MYD03.A2022343.1650.061.2022344151151.hdf', time_end=datetime.datetime(2022, 12, 9, 16, 55, tzinfo=datetime.timezone.utc)),\n",
       " Granule(id='G2555146023-LAADS', title='LAADS:7205793472', dataset_id='MODIS/Aqua Geolocation Fields 5-Min L1A Swath 1km', coordinate_system='GEODETIC', time_start='2022-11-27T16:30:00.000Z', updated=datetime.datetime(2022, 11, 28, 15, 38, 37, 430000, tzinfo=datetime.timezone.utc), links=[GranuleLink(hreflang='en-US', href=AnyUrl('https://ladsweb.modaps.eosdis.nasa.gov/archive/allData/61/MYD03/2022/331/MYD03.A2022331.1630.061.2022332152535.hdf', scheme='https', host='ladsweb.modaps.eosdis.nasa.gov', tld='gov', host_type='domain', path='/archive/allData/61/MYD03/2022/331/MYD03.A2022331.1630.061.2022332152535.hdf'), type='application/x-hdfeos', inherited=None), GranuleLink(hreflang='en-US', href=AnyUrl('s3://prod-lads/MYD03/MYD03.A2022331.1630.061.2022332152535.hdf', scheme='s3', host='prod-lads', host_type='int_domain', path='/MYD03/MYD03.A2022331.1630.061.2022332152535.hdf'), type='application/x-hdfeos', inherited=None), GranuleLink(hreflang='en-US', href=AnyUrl('https://ladsweb.modaps.eosdis.nasa.gov/opendap/RemoteResources/laads/allData/61/MYD03/2022/331/MYD03.A2022331.1630.061.2022332152535.hdf.html', scheme='https', host='ladsweb.modaps.eosdis.nasa.gov', tld='gov', host_type='domain', path='/opendap/RemoteResources/laads/allData/61/MYD03/2022/331/MYD03.A2022331.1630.061.2022332152535.hdf.html'), type='text/html', inherited=None), GranuleLink(hreflang='en-US', href=AnyUrl('http://doi.org/10.5067/MODIS/MYD03.061', scheme='http', host='doi.org', tld='org', host_type='domain', path='/10.5067/MODIS/MYD03.061'), type='text/html', inherited=None), GranuleLink(hreflang='en-US', href=AnyUrl('https://doi.org/10.5067/MODIS/MYD03.061', scheme='https', host='doi.org', tld='org', host_type='domain', path='/10.5067/MODIS/MYD03.061'), type=None, inherited=True), GranuleLink(hreflang='en-US', href=AnyUrl('https://modis.gsfc.nasa.gov/data/atbd/atbd_mod28_v3.pdf', scheme='https', host='modis.gsfc.nasa.gov', tld='gov', host_type='domain', path='/data/atbd/atbd_mod28_v3.pdf'), type=None, inherited=True), GranuleLink(hreflang='en-US', href=AnyUrl('https://ladsweb.modaps.eosdis.nasa.gov/search/order/2/MYD03--61', scheme='https', host='ladsweb.modaps.eosdis.nasa.gov', tld='gov', host_type='domain', path='/search/order/2/MYD03--61'), type=None, inherited=True), GranuleLink(hreflang='en-US', href=AnyUrl('https://ladsweb.modaps.eosdis.nasa.gov/archive/allData/61/MYD03/', scheme='https', host='ladsweb.modaps.eosdis.nasa.gov', tld='gov', host_type='domain', path='/archive/allData/61/MYD03/'), type=None, inherited=True), GranuleLink(hreflang='en-US', href=AnyUrl('https://ladsweb.modaps.eosdis.nasa.gov/opendap/RemoteResources/laads/allData/61/MYD03/contents.html', scheme='https', host='ladsweb.modaps.eosdis.nasa.gov', tld='gov', host_type='domain', path='/opendap/RemoteResources/laads/allData/61/MYD03/contents.html'), type='text/html', inherited=True)], cloud_cover=None, collection_concept_id='C1379841358-LAADS', day_night_flag='DAY', granule_size=31.4493074417114, polygons=[['68.228205 -35.525676 60.785717 -83.251639 45.482712 -66.008173 49.906882 -34.903178 68.228205 -35.525676']], producer_granule_id='MYD03.A2022331.1630.061.2022332152535.hdf', time_end=datetime.datetime(2022, 11, 27, 16, 35, tzinfo=datetime.timezone.utc)),\n",
       " Granule(id='G2550452417-LAADS', title='LAADS:7190221757', dataset_id='MODIS/Aqua Geolocation Fields 5-Min L1A Swath 1km', coordinate_system='GEODETIC', time_start='2022-11-18T16:40:00.000Z', updated=datetime.datetime(2022, 11, 20, 18, 18, 28, 880000, tzinfo=datetime.timezone.utc), links=[GranuleLink(hreflang='en-US', href=AnyUrl('https://ladsweb.modaps.eosdis.nasa.gov/archive/allData/61/MYD03/2022/322/MYD03.A2022322.1640.061.2022323233701.hdf', scheme='https', host='ladsweb.modaps.eosdis.nasa.gov', tld='gov', host_type='domain', path='/archive/allData/61/MYD03/2022/322/MYD03.A2022322.1640.061.2022323233701.hdf'), type='application/x-hdfeos', inherited=None), GranuleLink(hreflang='en-US', href=AnyUrl('s3://prod-lads/MYD03/MYD03.A2022322.1640.061.2022323233701.hdf', scheme='s3', host='prod-lads', host_type='int_domain', path='/MYD03/MYD03.A2022322.1640.061.2022323233701.hdf'), type='application/x-hdfeos', inherited=None), GranuleLink(hreflang='en-US', href=AnyUrl('https://ladsweb.modaps.eosdis.nasa.gov/opendap/RemoteResources/laads/allData/61/MYD03/2022/322/MYD03.A2022322.1640.061.2022323233701.hdf.html', scheme='https', host='ladsweb.modaps.eosdis.nasa.gov', tld='gov', host_type='domain', path='/opendap/RemoteResources/laads/allData/61/MYD03/2022/322/MYD03.A2022322.1640.061.2022323233701.hdf.html'), type='text/html', inherited=None), GranuleLink(hreflang='en-US', href=AnyUrl('http://doi.org/10.5067/MODIS/MYD03.061', scheme='http', host='doi.org', tld='org', host_type='domain', path='/10.5067/MODIS/MYD03.061'), type='text/html', inherited=None), GranuleLink(hreflang='en-US', href=AnyUrl('https://doi.org/10.5067/MODIS/MYD03.061', scheme='https', host='doi.org', tld='org', host_type='domain', path='/10.5067/MODIS/MYD03.061'), type=None, inherited=True), GranuleLink(hreflang='en-US', href=AnyUrl('https://modis.gsfc.nasa.gov/data/atbd/atbd_mod28_v3.pdf', scheme='https', host='modis.gsfc.nasa.gov', tld='gov', host_type='domain', path='/data/atbd/atbd_mod28_v3.pdf'), type=None, inherited=True), GranuleLink(hreflang='en-US', href=AnyUrl('https://ladsweb.modaps.eosdis.nasa.gov/search/order/2/MYD03--61', scheme='https', host='ladsweb.modaps.eosdis.nasa.gov', tld='gov', host_type='domain', path='/search/order/2/MYD03--61'), type=None, inherited=True), GranuleLink(hreflang='en-US', href=AnyUrl('https://ladsweb.modaps.eosdis.nasa.gov/archive/allData/61/MYD03/', scheme='https', host='ladsweb.modaps.eosdis.nasa.gov', tld='gov', host_type='domain', path='/archive/allData/61/MYD03/'), type=None, inherited=True), GranuleLink(hreflang='en-US', href=AnyUrl('https://ladsweb.modaps.eosdis.nasa.gov/opendap/RemoteResources/laads/allData/61/MYD03/contents.html', scheme='https', host='ladsweb.modaps.eosdis.nasa.gov', tld='gov', host_type='domain', path='/opendap/RemoteResources/laads/allData/61/MYD03/contents.html'), type='text/html', inherited=True)], cloud_cover=None, collection_concept_id='C1379841358-LAADS', day_night_flag='DAY', granule_size=32.4244260787964, polygons=[['70.16763 -37.660056 62.24108 -88.496756 47.262663 -69.719389 51.849427 -37.439319 70.16763 -37.660056']], producer_granule_id='MYD03.A2022322.1640.061.2022323233701.hdf', time_end=datetime.datetime(2022, 11, 18, 16, 45, tzinfo=datetime.timezone.utc)),\n",
       " Granule(id='G2550312692-LAADS', title='LAADS:7183851583', dataset_id='MODIS/Aqua Geolocation Fields 5-Min L1A Swath 1km', coordinate_system='GEODETIC', time_start='2022-11-15T16:10:00.000Z', updated=datetime.datetime(2022, 11, 20, 17, 27, 9, 960000, tzinfo=datetime.timezone.utc), links=[GranuleLink(hreflang='en-US', href=AnyUrl('https://ladsweb.modaps.eosdis.nasa.gov/archive/allData/61/MYD03/2022/319/MYD03.A2022319.1610.061.2022320182159.hdf', scheme='https', host='ladsweb.modaps.eosdis.nasa.gov', tld='gov', host_type='domain', path='/archive/allData/61/MYD03/2022/319/MYD03.A2022319.1610.061.2022320182159.hdf'), type='application/x-hdfeos', inherited=None), GranuleLink(hreflang='en-US', href=AnyUrl('s3://prod-lads/MYD03/MYD03.A2022319.1610.061.2022320182159.hdf', scheme='s3', host='prod-lads', host_type='int_domain', path='/MYD03/MYD03.A2022319.1610.061.2022320182159.hdf'), type='application/x-hdfeos', inherited=None), GranuleLink(hreflang='en-US', href=AnyUrl('https://ladsweb.modaps.eosdis.nasa.gov/opendap/RemoteResources/laads/allData/61/MYD03/2022/319/MYD03.A2022319.1610.061.2022320182159.hdf.html', scheme='https', host='ladsweb.modaps.eosdis.nasa.gov', tld='gov', host_type='domain', path='/opendap/RemoteResources/laads/allData/61/MYD03/2022/319/MYD03.A2022319.1610.061.2022320182159.hdf.html'), type='text/html', inherited=None), GranuleLink(hreflang='en-US', href=AnyUrl('http://doi.org/10.5067/MODIS/MYD03.061', scheme='http', host='doi.org', tld='org', host_type='domain', path='/10.5067/MODIS/MYD03.061'), type='text/html', inherited=None), GranuleLink(hreflang='en-US', href=AnyUrl('https://doi.org/10.5067/MODIS/MYD03.061', scheme='https', host='doi.org', tld='org', host_type='domain', path='/10.5067/MODIS/MYD03.061'), type=None, inherited=True), GranuleLink(hreflang='en-US', href=AnyUrl('https://modis.gsfc.nasa.gov/data/atbd/atbd_mod28_v3.pdf', scheme='https', host='modis.gsfc.nasa.gov', tld='gov', host_type='domain', path='/data/atbd/atbd_mod28_v3.pdf'), type=None, inherited=True), GranuleLink(hreflang='en-US', href=AnyUrl('https://ladsweb.modaps.eosdis.nasa.gov/search/order/2/MYD03--61', scheme='https', host='ladsweb.modaps.eosdis.nasa.gov', tld='gov', host_type='domain', path='/search/order/2/MYD03--61'), type=None, inherited=True), GranuleLink(hreflang='en-US', href=AnyUrl('https://ladsweb.modaps.eosdis.nasa.gov/archive/allData/61/MYD03/', scheme='https', host='ladsweb.modaps.eosdis.nasa.gov', tld='gov', host_type='domain', path='/archive/allData/61/MYD03/'), type=None, inherited=True), GranuleLink(hreflang='en-US', href=AnyUrl('https://ladsweb.modaps.eosdis.nasa.gov/opendap/RemoteResources/laads/allData/61/MYD03/contents.html', scheme='https', host='ladsweb.modaps.eosdis.nasa.gov', tld='gov', host_type='domain', path='/opendap/RemoteResources/laads/allData/61/MYD03/contents.html'), type='text/html', inherited=True)], cloud_cover=None, collection_concept_id='C1379841358-LAADS', day_night_flag='DAY', granule_size=30.4365634918213, polygons=[['69.530227 -30.255683 61.768085 -80.116851 46.678546 -61.859948 51.212499 -29.928375 69.530227 -30.255683']], producer_granule_id='MYD03.A2022319.1610.061.2022320182159.hdf', time_end=datetime.datetime(2022, 11, 15, 16, 15, tzinfo=datetime.timezone.utc)),\n",
       " Granule(id='G2550180138-LAADS', title='LAADS:7178909995', dataset_id='MODIS/Aqua Geolocation Fields 5-Min L1A Swath 1km', coordinate_system='GEODETIC', time_start='2022-11-12T15:40:00.000Z', updated=datetime.datetime(2022, 11, 20, 16, 39, 55, 590000, tzinfo=datetime.timezone.utc), links=[GranuleLink(hreflang='en-US', href=AnyUrl('https://ladsweb.modaps.eosdis.nasa.gov/archive/allData/61/MYD03/2022/316/MYD03.A2022316.1540.061.2022317155640.hdf', scheme='https', host='ladsweb.modaps.eosdis.nasa.gov', tld='gov', host_type='domain', path='/archive/allData/61/MYD03/2022/316/MYD03.A2022316.1540.061.2022317155640.hdf'), type='application/x-hdfeos', inherited=None), GranuleLink(hreflang='en-US', href=AnyUrl('s3://prod-lads/MYD03/MYD03.A2022316.1540.061.2022317155640.hdf', scheme='s3', host='prod-lads', host_type='int_domain', path='/MYD03/MYD03.A2022316.1540.061.2022317155640.hdf'), type='application/x-hdfeos', inherited=None), GranuleLink(hreflang='en-US', href=AnyUrl('https://ladsweb.modaps.eosdis.nasa.gov/opendap/RemoteResources/laads/allData/61/MYD03/2022/316/MYD03.A2022316.1540.061.2022317155640.hdf.html', scheme='https', host='ladsweb.modaps.eosdis.nasa.gov', tld='gov', host_type='domain', path='/opendap/RemoteResources/laads/allData/61/MYD03/2022/316/MYD03.A2022316.1540.061.2022317155640.hdf.html'), type='text/html', inherited=None), GranuleLink(hreflang='en-US', href=AnyUrl('http://doi.org/10.5067/MODIS/MYD03.061', scheme='http', host='doi.org', tld='org', host_type='domain', path='/10.5067/MODIS/MYD03.061'), type='text/html', inherited=None), GranuleLink(hreflang='en-US', href=AnyUrl('https://doi.org/10.5067/MODIS/MYD03.061', scheme='https', host='doi.org', tld='org', host_type='domain', path='/10.5067/MODIS/MYD03.061'), type=None, inherited=True), GranuleLink(hreflang='en-US', href=AnyUrl('https://modis.gsfc.nasa.gov/data/atbd/atbd_mod28_v3.pdf', scheme='https', host='modis.gsfc.nasa.gov', tld='gov', host_type='domain', path='/data/atbd/atbd_mod28_v3.pdf'), type=None, inherited=True), GranuleLink(hreflang='en-US', href=AnyUrl('https://ladsweb.modaps.eosdis.nasa.gov/search/order/2/MYD03--61', scheme='https', host='ladsweb.modaps.eosdis.nasa.gov', tld='gov', host_type='domain', path='/search/order/2/MYD03--61'), type=None, inherited=True), GranuleLink(hreflang='en-US', href=AnyUrl('https://ladsweb.modaps.eosdis.nasa.gov/archive/allData/61/MYD03/', scheme='https', host='ladsweb.modaps.eosdis.nasa.gov', tld='gov', host_type='domain', path='/archive/allData/61/MYD03/'), type=None, inherited=True), GranuleLink(hreflang='en-US', href=AnyUrl('https://ladsweb.modaps.eosdis.nasa.gov/opendap/RemoteResources/laads/allData/61/MYD03/contents.html', scheme='https', host='ladsweb.modaps.eosdis.nasa.gov', tld='gov', host_type='domain', path='/opendap/RemoteResources/laads/allData/61/MYD03/contents.html'), type='text/html', inherited=True)], cloud_cover=None, collection_concept_id='C1379841358-LAADS', day_night_flag='DAY', granule_size=28.5413198471069, polygons=[['68.940019 -22.823321 61.326102 -71.823856 46.138539 -54.033757 50.622913 -22.40991 68.940019 -22.823321']], producer_granule_id='MYD03.A2022316.1540.061.2022317155640.hdf', time_end=datetime.datetime(2022, 11, 12, 15, 45, tzinfo=datetime.timezone.utc)),\n",
       " Granule(id='G2541816640-LAADS', title='LAADS:7170987526', dataset_id='MODIS/Aqua Geolocation Fields 5-Min L1A Swath 1km', coordinate_system='GEODETIC', time_start='2022-11-06T16:20:00.000Z', updated=datetime.datetime(2022, 11, 12, 9, 49, 33, 900000, tzinfo=datetime.timezone.utc), links=[GranuleLink(hreflang='en-US', href=AnyUrl('https://ladsweb.modaps.eosdis.nasa.gov/archive/allData/61/MYD03/2022/310/MYD03.A2022310.1620.061.2022311152222.hdf', scheme='https', host='ladsweb.modaps.eosdis.nasa.gov', tld='gov', host_type='domain', path='/archive/allData/61/MYD03/2022/310/MYD03.A2022310.1620.061.2022311152222.hdf'), type='application/x-hdfeos', inherited=None), GranuleLink(hreflang='en-US', href=AnyUrl('s3://prod-lads/MYD03/MYD03.A2022310.1620.061.2022311152222.hdf', scheme='s3', host='prod-lads', host_type='int_domain', path='/MYD03/MYD03.A2022310.1620.061.2022311152222.hdf'), type='application/x-hdfeos', inherited=None), GranuleLink(hreflang='en-US', href=AnyUrl('https://ladsweb.modaps.eosdis.nasa.gov/opendap/RemoteResources/laads/allData/61/MYD03/2022/310/MYD03.A2022310.1620.061.2022311152222.hdf.html', scheme='https', host='ladsweb.modaps.eosdis.nasa.gov', tld='gov', host_type='domain', path='/opendap/RemoteResources/laads/allData/61/MYD03/2022/310/MYD03.A2022310.1620.061.2022311152222.hdf.html'), type='text/html', inherited=None), GranuleLink(hreflang='en-US', href=AnyUrl('http://doi.org/10.5067/MODIS/MYD03.061', scheme='http', host='doi.org', tld='org', host_type='domain', path='/10.5067/MODIS/MYD03.061'), type='text/html', inherited=None), GranuleLink(hreflang='en-US', href=AnyUrl('https://doi.org/10.5067/MODIS/MYD03.061', scheme='https', host='doi.org', tld='org', host_type='domain', path='/10.5067/MODIS/MYD03.061'), type=None, inherited=True), GranuleLink(hreflang='en-US', href=AnyUrl('https://modis.gsfc.nasa.gov/data/atbd/atbd_mod28_v3.pdf', scheme='https', host='modis.gsfc.nasa.gov', tld='gov', host_type='domain', path='/data/atbd/atbd_mod28_v3.pdf'), type=None, inherited=True), GranuleLink(hreflang='en-US', href=AnyUrl('https://ladsweb.modaps.eosdis.nasa.gov/search/order/2/MYD03--61', scheme='https', host='ladsweb.modaps.eosdis.nasa.gov', tld='gov', host_type='domain', path='/search/order/2/MYD03--61'), type=None, inherited=True), GranuleLink(hreflang='en-US', href=AnyUrl('https://ladsweb.modaps.eosdis.nasa.gov/archive/allData/61/MYD03/', scheme='https', host='ladsweb.modaps.eosdis.nasa.gov', tld='gov', host_type='domain', path='/archive/allData/61/MYD03/'), type=None, inherited=True), GranuleLink(hreflang='en-US', href=AnyUrl('https://ladsweb.modaps.eosdis.nasa.gov/opendap/RemoteResources/laads/allData/61/MYD03/contents.html', scheme='https', host='ladsweb.modaps.eosdis.nasa.gov', tld='gov', host_type='domain', path='/opendap/RemoteResources/laads/allData/61/MYD03/contents.html'), type='text/html', inherited=True)], cloud_cover=None, collection_concept_id='C1379841358-LAADS', day_night_flag='DAY', granule_size=31.6313047409058, polygons=[['71.616245 -32.302039 63.287439 -85.774012 48.582625 -65.724767 53.303534 -32.466688 71.616245 -32.302039']], producer_granule_id='MYD03.A2022310.1620.061.2022311152222.hdf', time_end=datetime.datetime(2022, 11, 6, 16, 25, tzinfo=datetime.timezone.utc)),\n",
       " Granule(id='G2534586818-LAADS', title='LAADS:7160387266', dataset_id='MODIS/Aqua Geolocation Fields 5-Min L1A Swath 1km', coordinate_system='GEODETIC', time_start='2022-11-03T15:50:00.000Z', updated=datetime.datetime(2022, 12, 20, 6, 12, 9, 50000, tzinfo=datetime.timezone.utc), links=[GranuleLink(hreflang='en-US', href=AnyUrl('https://ladsweb.modaps.eosdis.nasa.gov/archive/allData/61/MYD03/2022/307/MYD03.A2022307.1550.061.2022308152844.hdf', scheme='https', host='ladsweb.modaps.eosdis.nasa.gov', tld='gov', host_type='domain', path='/archive/allData/61/MYD03/2022/307/MYD03.A2022307.1550.061.2022308152844.hdf'), type='application/x-hdfeos', inherited=None), GranuleLink(hreflang='en-US', href=AnyUrl('s3://prod-lads/MYD03/MYD03.A2022307.1550.061.2022308152844.hdf', scheme='s3', host='prod-lads', host_type='int_domain', path='/MYD03/MYD03.A2022307.1550.061.2022308152844.hdf'), type='application/x-hdfeos', inherited=None), GranuleLink(hreflang='en-US', href=AnyUrl('https://ladsweb.modaps.eosdis.nasa.gov/opendap/RemoteResources/laads/allData/61/MYD03/2022/307/MYD03.A2022307.1550.061.2022308152844.hdf.html', scheme='https', host='ladsweb.modaps.eosdis.nasa.gov', tld='gov', host_type='domain', path='/opendap/RemoteResources/laads/allData/61/MYD03/2022/307/MYD03.A2022307.1550.061.2022308152844.hdf.html'), type='text/html', inherited=None), GranuleLink(hreflang='en-US', href=AnyUrl('http://doi.org/10.5067/MODIS/MYD03.061', scheme='http', host='doi.org', tld='org', host_type='domain', path='/10.5067/MODIS/MYD03.061'), type='text/html', inherited=None), GranuleLink(hreflang='en-US', href=AnyUrl('https://doi.org/10.5067/MODIS/MYD03.061', scheme='https', host='doi.org', tld='org', host_type='domain', path='/10.5067/MODIS/MYD03.061'), type=None, inherited=True), GranuleLink(hreflang='en-US', href=AnyUrl('https://modis.gsfc.nasa.gov/data/atbd/atbd_mod28_v3.pdf', scheme='https', host='modis.gsfc.nasa.gov', tld='gov', host_type='domain', path='/data/atbd/atbd_mod28_v3.pdf'), type=None, inherited=True), GranuleLink(hreflang='en-US', href=AnyUrl('https://ladsweb.modaps.eosdis.nasa.gov/search/order/2/MYD03--61', scheme='https', host='ladsweb.modaps.eosdis.nasa.gov', tld='gov', host_type='domain', path='/search/order/2/MYD03--61'), type=None, inherited=True), GranuleLink(hreflang='en-US', href=AnyUrl('https://ladsweb.modaps.eosdis.nasa.gov/archive/allData/61/MYD03/', scheme='https', host='ladsweb.modaps.eosdis.nasa.gov', tld='gov', host_type='domain', path='/archive/allData/61/MYD03/'), type=None, inherited=True), GranuleLink(hreflang='en-US', href=AnyUrl('https://ladsweb.modaps.eosdis.nasa.gov/opendap/RemoteResources/laads/allData/61/MYD03/contents.html', scheme='https', host='ladsweb.modaps.eosdis.nasa.gov', tld='gov', host_type='domain', path='/opendap/RemoteResources/laads/allData/61/MYD03/contents.html'), type='text/html', inherited=True)], cloud_cover=None, collection_concept_id='C1379841358-LAADS', day_night_flag='DAY', granule_size=29.8201265335083, polygons=[['70.886649 -24.866701 62.768973 -77.174537 47.923637 -57.776225 52.574797 -24.91636 70.886649 -24.866701']], producer_granule_id='MYD03.A2022307.1550.061.2022308152844.hdf', time_end=datetime.datetime(2022, 11, 3, 15, 55, tzinfo=datetime.timezone.utc)),\n",
       " Granule(id='G2534211768-LAADS', title='LAADS:7159173013', dataset_id='MODIS/Aqua Geolocation Fields 5-Min L1A Swath 1km', coordinate_system='GEODETIC', time_start='2022-11-02T16:45:00.000Z', updated=datetime.datetime(2022, 12, 20, 6, 6, 28, 580000, tzinfo=datetime.timezone.utc), links=[GranuleLink(hreflang='en-US', href=AnyUrl('https://ladsweb.modaps.eosdis.nasa.gov/archive/allData/61/MYD03/2022/306/MYD03.A2022306.1645.061.2022308042649.hdf', scheme='https', host='ladsweb.modaps.eosdis.nasa.gov', tld='gov', host_type='domain', path='/archive/allData/61/MYD03/2022/306/MYD03.A2022306.1645.061.2022308042649.hdf'), type='application/x-hdfeos', inherited=None), GranuleLink(hreflang='en-US', href=AnyUrl('s3://prod-lads/MYD03/MYD03.A2022306.1645.061.2022308042649.hdf', scheme='s3', host='prod-lads', host_type='int_domain', path='/MYD03/MYD03.A2022306.1645.061.2022308042649.hdf'), type='application/x-hdfeos', inherited=None), GranuleLink(hreflang='en-US', href=AnyUrl('https://ladsweb.modaps.eosdis.nasa.gov/opendap/RemoteResources/laads/allData/61/MYD03/2022/306/MYD03.A2022306.1645.061.2022308042649.hdf.html', scheme='https', host='ladsweb.modaps.eosdis.nasa.gov', tld='gov', host_type='domain', path='/opendap/RemoteResources/laads/allData/61/MYD03/2022/306/MYD03.A2022306.1645.061.2022308042649.hdf.html'), type='text/html', inherited=None), GranuleLink(hreflang='en-US', href=AnyUrl('http://doi.org/10.5067/MODIS/MYD03.061', scheme='http', host='doi.org', tld='org', host_type='domain', path='/10.5067/MODIS/MYD03.061'), type='text/html', inherited=None), GranuleLink(hreflang='en-US', href=AnyUrl('https://doi.org/10.5067/MODIS/MYD03.061', scheme='https', host='doi.org', tld='org', host_type='domain', path='/10.5067/MODIS/MYD03.061'), type=None, inherited=True), GranuleLink(hreflang='en-US', href=AnyUrl('https://modis.gsfc.nasa.gov/data/atbd/atbd_mod28_v3.pdf', scheme='https', host='modis.gsfc.nasa.gov', tld='gov', host_type='domain', path='/data/atbd/atbd_mod28_v3.pdf'), type=None, inherited=True), GranuleLink(hreflang='en-US', href=AnyUrl('https://ladsweb.modaps.eosdis.nasa.gov/search/order/2/MYD03--61', scheme='https', host='ladsweb.modaps.eosdis.nasa.gov', tld='gov', host_type='domain', path='/search/order/2/MYD03--61'), type=None, inherited=True), GranuleLink(hreflang='en-US', href=AnyUrl('https://ladsweb.modaps.eosdis.nasa.gov/archive/allData/61/MYD03/', scheme='https', host='ladsweb.modaps.eosdis.nasa.gov', tld='gov', host_type='domain', path='/archive/allData/61/MYD03/'), type=None, inherited=True), GranuleLink(hreflang='en-US', href=AnyUrl('https://ladsweb.modaps.eosdis.nasa.gov/opendap/RemoteResources/laads/allData/61/MYD03/contents.html', scheme='https', host='ladsweb.modaps.eosdis.nasa.gov', tld='gov', host_type='domain', path='/opendap/RemoteResources/laads/allData/61/MYD03/contents.html'), type='text/html', inherited=True)], cloud_cover=None, collection_concept_id='C1379841358-LAADS', day_night_flag='DAY', granule_size=32.4901990890503, polygons=[['67.377419 -39.503754 60.125856 -86.09432 44.698272 -69.468594 49.058937 -38.77374 67.377419 -39.503754']], producer_granule_id='MYD03.A2022306.1645.061.2022308042649.hdf', time_end=datetime.datetime(2022, 11, 2, 16, 50, tzinfo=datetime.timezone.utc)),\n",
       " Granule(id='G2525963934-LAADS', title='LAADS:7137182746', dataset_id='MODIS/Aqua Geolocation Fields 5-Min L1A Swath 1km', coordinate_system='GEODETIC', time_start='2022-10-25T16:00:00.000Z', updated=datetime.datetime(2022, 12, 15, 20, 11, 10, 390000, tzinfo=datetime.timezone.utc), links=[GranuleLink(hreflang='en-US', href=AnyUrl('https://ladsweb.modaps.eosdis.nasa.gov/archive/allData/61/MYD03/2022/298/MYD03.A2022298.1600.061.2022299161342.hdf', scheme='https', host='ladsweb.modaps.eosdis.nasa.gov', tld='gov', host_type='domain', path='/archive/allData/61/MYD03/2022/298/MYD03.A2022298.1600.061.2022299161342.hdf'), type='application/x-hdfeos', inherited=None), GranuleLink(hreflang='en-US', href=AnyUrl('s3://prod-lads/MYD03/MYD03.A2022298.1600.061.2022299161342.hdf', scheme='s3', host='prod-lads', host_type='int_domain', path='/MYD03/MYD03.A2022298.1600.061.2022299161342.hdf'), type='application/x-hdfeos', inherited=None), GranuleLink(hreflang='en-US', href=AnyUrl('https://ladsweb.modaps.eosdis.nasa.gov/opendap/RemoteResources/laads/allData/61/MYD03/2022/298/MYD03.A2022298.1600.061.2022299161342.hdf.html', scheme='https', host='ladsweb.modaps.eosdis.nasa.gov', tld='gov', host_type='domain', path='/opendap/RemoteResources/laads/allData/61/MYD03/2022/298/MYD03.A2022298.1600.061.2022299161342.hdf.html'), type='text/html', inherited=None), GranuleLink(hreflang='en-US', href=AnyUrl('http://doi.org/10.5067/MODIS/MYD03.061', scheme='http', host='doi.org', tld='org', host_type='domain', path='/10.5067/MODIS/MYD03.061'), type='text/html', inherited=None), GranuleLink(hreflang='en-US', href=AnyUrl('https://doi.org/10.5067/MODIS/MYD03.061', scheme='https', host='doi.org', tld='org', host_type='domain', path='/10.5067/MODIS/MYD03.061'), type=None, inherited=True), GranuleLink(hreflang='en-US', href=AnyUrl('https://modis.gsfc.nasa.gov/data/atbd/atbd_mod28_v3.pdf', scheme='https', host='modis.gsfc.nasa.gov', tld='gov', host_type='domain', path='/data/atbd/atbd_mod28_v3.pdf'), type=None, inherited=True), GranuleLink(hreflang='en-US', href=AnyUrl('https://ladsweb.modaps.eosdis.nasa.gov/search/order/2/MYD03--61', scheme='https', host='ladsweb.modaps.eosdis.nasa.gov', tld='gov', host_type='domain', path='/search/order/2/MYD03--61'), type=None, inherited=True), GranuleLink(hreflang='en-US', href=AnyUrl('https://ladsweb.modaps.eosdis.nasa.gov/archive/allData/61/MYD03/', scheme='https', host='ladsweb.modaps.eosdis.nasa.gov', tld='gov', host_type='domain', path='/archive/allData/61/MYD03/'), type=None, inherited=True), GranuleLink(hreflang='en-US', href=AnyUrl('https://ladsweb.modaps.eosdis.nasa.gov/opendap/RemoteResources/laads/allData/61/MYD03/contents.html', scheme='https', host='ladsweb.modaps.eosdis.nasa.gov', tld='gov', host_type='domain', path='/opendap/RemoteResources/laads/allData/61/MYD03/contents.html'), type='text/html', inherited=True)], cloud_cover=None, collection_concept_id='C1379841358-LAADS', day_night_flag='DAY', granule_size=31.2736339569092, polygons=[['73.248711 -26.609979 64.410261 -83.564068 49.976153 -61.869282 54.858804 -27.372915 73.248711 -26.609979']], producer_granule_id='MYD03.A2022298.1600.061.2022299161342.hdf', time_end=datetime.datetime(2022, 10, 25, 16, 5, tzinfo=datetime.timezone.utc))]"
      ]
     },
     "execution_count": 7,
     "metadata": {},
     "output_type": "execute_result"
    }
   ],
   "source": [
    "labsea2022_granules[0:10]"
   ]
  },
  {
   "cell_type": "code",
   "execution_count": 8,
   "metadata": {},
   "outputs": [],
   "source": [
    "# Specify download folder\n",
    "\n",
    "folder = \"AquaHkmLabSea2022b/geoloc\"\n",
    "filepath = Path(\"/home/eefjg/OneDrive/Leeds/PhD/Data/MODIS/\"+folder)\n",
    "filepath.mkdir(exist_ok=True, parents=True)"
   ]
  },
  {
   "cell_type": "code",
   "execution_count": 9,
   "metadata": {},
   "outputs": [],
   "source": [
    "# Save the list of granules to a text file\n",
    "with open(filepath / \"granule_list.txt\", \"w\") as f:\n",
    "    for granule in labsea2022_granules:\n",
    "        f.write(f\"{granule}\\n\")"
   ]
  },
  {
   "cell_type": "code",
   "execution_count": 10,
   "metadata": {},
   "outputs": [
    {
     "data": {
      "application/vnd.jupyter.widget-view+json": {
       "model_id": "f62e2ab470d444c88a713c9300f212af",
       "version_major": 2,
       "version_minor": 0
      },
      "text/plain": [
       "Downloading:   0%|          | 0/71 [00:00<?, ?file/s]"
      ]
     },
     "metadata": {},
     "output_type": "display_data"
    },
    {
     "data": {
      "text/plain": [
       "[PosixPath('/home/eefjg/OneDrive/Leeds/PhD/Data/MODIS/AquaHkmLabSea2022b/geoloc/MYD03.A2022352.1640.061.2022353162327.hdf'),\n",
       " PosixPath('/home/eefjg/OneDrive/Leeds/PhD/Data/MODIS/AquaHkmLabSea2022b/geoloc/MYD03.A2022343.1650.061.2022344151151.hdf'),\n",
       " PosixPath('/home/eefjg/OneDrive/Leeds/PhD/Data/MODIS/AquaHkmLabSea2022b/geoloc/MYD03.A2022331.1630.061.2022332152535.hdf'),\n",
       " PosixPath('/home/eefjg/OneDrive/Leeds/PhD/Data/MODIS/AquaHkmLabSea2022b/geoloc/MYD03.A2022322.1640.061.2022323233701.hdf'),\n",
       " PosixPath('/home/eefjg/OneDrive/Leeds/PhD/Data/MODIS/AquaHkmLabSea2022b/geoloc/MYD03.A2022319.1610.061.2022320182159.hdf'),\n",
       " PosixPath('/home/eefjg/OneDrive/Leeds/PhD/Data/MODIS/AquaHkmLabSea2022b/geoloc/MYD03.A2022316.1540.061.2022317155640.hdf'),\n",
       " PosixPath('/home/eefjg/OneDrive/Leeds/PhD/Data/MODIS/AquaHkmLabSea2022b/geoloc/MYD03.A2022310.1620.061.2022311152222.hdf'),\n",
       " PosixPath('/home/eefjg/OneDrive/Leeds/PhD/Data/MODIS/AquaHkmLabSea2022b/geoloc/MYD03.A2022307.1550.061.2022308152844.hdf'),\n",
       " PosixPath('/home/eefjg/OneDrive/Leeds/PhD/Data/MODIS/AquaHkmLabSea2022b/geoloc/MYD03.A2022306.1645.061.2022308042649.hdf'),\n",
       " PosixPath('/home/eefjg/OneDrive/Leeds/PhD/Data/MODIS/AquaHkmLabSea2022b/geoloc/MYD03.A2022298.1600.061.2022299161342.hdf'),\n",
       " PosixPath('/home/eefjg/OneDrive/Leeds/PhD/Data/MODIS/AquaHkmLabSea2022b/geoloc/MYD03.A2022294.1625.061.2022295153840.hdf'),\n",
       " PosixPath('/home/eefjg/OneDrive/Leeds/PhD/Data/MODIS/AquaHkmLabSea2022b/geoloc/MYD03.A2022291.1555.061.2022292203741.hdf'),\n",
       " PosixPath('/home/eefjg/OneDrive/Leeds/PhD/Data/MODIS/AquaHkmLabSea2022b/geoloc/MYD03.A2022282.1605.061.2022283152155.hdf'),\n",
       " PosixPath('/home/eefjg/OneDrive/Leeds/PhD/Data/MODIS/AquaHkmLabSea2022b/geoloc/MYD03.A2022279.1535.061.2022280152822.hdf'),\n",
       " PosixPath('/home/eefjg/OneDrive/Leeds/PhD/Data/MODIS/AquaHkmLabSea2022b/geoloc/MYD03.A2022278.1630.061.2022279152711.hdf'),\n",
       " PosixPath('/home/eefjg/OneDrive/Leeds/PhD/Data/MODIS/AquaHkmLabSea2022b/geoloc/MYD03.A2022275.1600.061.2022276153707.hdf'),\n",
       " PosixPath('/home/eefjg/OneDrive/Leeds/PhD/Data/MODIS/AquaHkmLabSea2022b/geoloc/MYD03.A2022266.1610.061.2022267155124.hdf'),\n",
       " PosixPath('/home/eefjg/OneDrive/Leeds/PhD/Data/MODIS/AquaHkmLabSea2022b/geoloc/MYD03.A2022263.1540.061.2022264191503.hdf'),\n",
       " PosixPath('/home/eefjg/OneDrive/Leeds/PhD/Data/MODIS/AquaHkmLabSea2022b/geoloc/MYD03.A2022262.1635.061.2022263162539.hdf'),\n",
       " PosixPath('/home/eefjg/OneDrive/Leeds/PhD/Data/MODIS/AquaHkmLabSea2022b/geoloc/MYD03.A2022259.1605.061.2022260151810.hdf'),\n",
       " PosixPath('/home/eefjg/OneDrive/Leeds/PhD/Data/MODIS/AquaHkmLabSea2022b/geoloc/MYD03.A2022256.1535.061.2022257161846.hdf'),\n",
       " PosixPath('/home/eefjg/OneDrive/Leeds/PhD/Data/MODIS/AquaHkmLabSea2022b/geoloc/MYD03.A2022255.1630.061.2022256193505.hdf'),\n",
       " PosixPath('/home/eefjg/OneDrive/Leeds/PhD/Data/MODIS/AquaHkmLabSea2022b/geoloc/MYD03.A2022252.1600.061.2022253213143.hdf'),\n",
       " PosixPath('/home/eefjg/OneDrive/Leeds/PhD/Data/MODIS/AquaHkmLabSea2022b/geoloc/MYD03.A2022240.1540.061.2022241153417.hdf'),\n",
       " PosixPath('/home/eefjg/OneDrive/Leeds/PhD/Data/MODIS/AquaHkmLabSea2022b/geoloc/MYD03.A2022239.1635.061.2022240150624.hdf'),\n",
       " PosixPath('/home/eefjg/OneDrive/Leeds/PhD/Data/MODIS/AquaHkmLabSea2022b/geoloc/MYD03.A2022236.1605.061.2022237165618.hdf'),\n",
       " PosixPath('/home/eefjg/OneDrive/Leeds/PhD/Data/MODIS/AquaHkmLabSea2022b/geoloc/MYD03.A2022233.1535.061.2022234162405.hdf'),\n",
       " PosixPath('/home/eefjg/OneDrive/Leeds/PhD/Data/MODIS/AquaHkmLabSea2022b/geoloc/MYD03.A2022232.1630.061.2022234154607.hdf'),\n",
       " PosixPath('/home/eefjg/OneDrive/Leeds/PhD/Data/MODIS/AquaHkmLabSea2022b/geoloc/MYD03.A2022229.1600.061.2022230151447.hdf'),\n",
       " PosixPath('/home/eefjg/OneDrive/Leeds/PhD/Data/MODIS/AquaHkmLabSea2022b/geoloc/MYD03.A2022225.1625.061.2022227061559.hdf'),\n",
       " PosixPath('/home/eefjg/OneDrive/Leeds/PhD/Data/MODIS/AquaHkmLabSea2022b/geoloc/MYD03.A2022222.1555.061.2022223151556.hdf'),\n",
       " PosixPath('/home/eefjg/OneDrive/Leeds/PhD/Data/MODIS/AquaHkmLabSea2022b/geoloc/MYD03.A2022210.1535.061.2022211145615.hdf'),\n",
       " PosixPath('/home/eefjg/OneDrive/Leeds/PhD/Data/MODIS/AquaHkmLabSea2022b/geoloc/MYD03.A2022209.1630.061.2022210151358.hdf'),\n",
       " PosixPath('/home/eefjg/OneDrive/Leeds/PhD/Data/MODIS/AquaHkmLabSea2022b/geoloc/MYD03.A2022206.1600.061.2022315022220.hdf'),\n",
       " PosixPath('/home/eefjg/OneDrive/Leeds/PhD/Data/MODIS/AquaHkmLabSea2022b/geoloc/MYD03.A2022202.1625.061.2022315014501.hdf'),\n",
       " PosixPath('/home/eefjg/OneDrive/Leeds/PhD/Data/MODIS/AquaHkmLabSea2022b/geoloc/MYD03.A2022199.1555.061.2022315011439.hdf'),\n",
       " PosixPath('/home/eefjg/OneDrive/Leeds/PhD/Data/MODIS/AquaHkmLabSea2022b/geoloc/MYD03.A2022198.1650.061.2022313193311.hdf'),\n",
       " PosixPath('/home/eefjg/OneDrive/Leeds/PhD/Data/MODIS/AquaHkmLabSea2022b/geoloc/MYD03.A2022195.1620.061.2022313191613.hdf'),\n",
       " PosixPath('/home/eefjg/OneDrive/Leeds/PhD/Data/MODIS/AquaHkmLabSea2022b/geoloc/MYD03.A2022192.1550.061.2022313185849.hdf'),\n",
       " PosixPath('/home/eefjg/OneDrive/Leeds/PhD/Data/MODIS/AquaHkmLabSea2022b/geoloc/MYD03.A2022191.1645.061.2022313184848.hdf'),\n",
       " PosixPath('/home/eefjg/OneDrive/Leeds/PhD/Data/MODIS/AquaHkmLabSea2022b/geoloc/MYD03.A2022188.1615.061.2022312184604.hdf'),\n",
       " PosixPath('/home/eefjg/OneDrive/Leeds/PhD/Data/MODIS/AquaHkmLabSea2022b/geoloc/MYD03.A2022185.1545.061.2022312031650.hdf'),\n",
       " PosixPath('/home/eefjg/OneDrive/Leeds/PhD/Data/MODIS/AquaHkmLabSea2022b/geoloc/MYD03.A2022181.1610.061.2022311110257.hdf'),\n",
       " PosixPath('/home/eefjg/OneDrive/Leeds/PhD/Data/MODIS/AquaHkmLabSea2022b/geoloc/MYD03.A2022178.1540.061.2022311045854.hdf'),\n",
       " PosixPath('/home/eefjg/OneDrive/Leeds/PhD/Data/MODIS/AquaHkmLabSea2022b/geoloc/MYD03.A2022148.1535.061.2022309211718.hdf'),\n",
       " PosixPath('/home/eefjg/OneDrive/Leeds/PhD/Data/MODIS/AquaHkmLabSea2022b/geoloc/MYD03.A2022147.1630.061.2022309211500.hdf'),\n",
       " PosixPath('/home/eefjg/OneDrive/Leeds/PhD/Data/MODIS/AquaHkmLabSea2022b/geoloc/MYD03.A2022144.1600.061.2022309205417.hdf'),\n",
       " PosixPath('/home/eefjg/OneDrive/Leeds/PhD/Data/MODIS/AquaHkmLabSea2022b/geoloc/MYD03.A2022140.1625.061.2022309200517.hdf'),\n",
       " PosixPath('/home/eefjg/OneDrive/Leeds/PhD/Data/MODIS/AquaHkmLabSea2022b/geoloc/MYD03.A2022137.1555.061.2022309194407.hdf'),\n",
       " PosixPath('/home/eefjg/OneDrive/Leeds/PhD/Data/MODIS/AquaHkmLabSea2022b/geoloc/MYD03.A2022107.1545.061.2022306180449.hdf'),\n",
       " PosixPath('/home/eefjg/OneDrive/Leeds/PhD/Data/MODIS/AquaHkmLabSea2022b/geoloc/MYD03.A2022089.1600.061.2022090152159.hdf'),\n",
       " PosixPath('/home/eefjg/OneDrive/Leeds/PhD/Data/MODIS/AquaHkmLabSea2022b/geoloc/MYD03.A2022085.1625.061.2022087135737.hdf'),\n",
       " PosixPath('/home/eefjg/OneDrive/Leeds/PhD/Data/MODIS/AquaHkmLabSea2022b/geoloc/MYD03.A2022077.1535.061.2022078151018.hdf'),\n",
       " PosixPath('/home/eefjg/OneDrive/Leeds/PhD/Data/MODIS/AquaHkmLabSea2022b/geoloc/MYD03.A2022073.1600.061.2022074151141.hdf'),\n",
       " PosixPath('/home/eefjg/OneDrive/Leeds/PhD/Data/MODIS/AquaHkmLabSea2022b/geoloc/MYD03.A2022069.1625.061.2022070151321.hdf'),\n",
       " PosixPath('/home/eefjg/OneDrive/Leeds/PhD/Data/MODIS/AquaHkmLabSea2022b/geoloc/MYD03.A2022066.1555.061.2022067151937.hdf'),\n",
       " PosixPath('/home/eefjg/OneDrive/Leeds/PhD/Data/MODIS/AquaHkmLabSea2022b/geoloc/MYD03.A2022062.1620.061.2022063190906.hdf'),\n",
       " PosixPath('/home/eefjg/OneDrive/Leeds/PhD/Data/MODIS/AquaHkmLabSea2022b/geoloc/MYD03.A2022054.1530.061.2022055150730.hdf'),\n",
       " PosixPath('/home/eefjg/OneDrive/Leeds/PhD/Data/MODIS/AquaHkmLabSea2022b/geoloc/MYD03.A2022053.1625.061.2022054145848.hdf'),\n",
       " PosixPath('/home/eefjg/OneDrive/Leeds/PhD/Data/MODIS/AquaHkmLabSea2022b/geoloc/MYD03.A2022050.1555.061.2022051150526.hdf'),\n",
       " PosixPath('/home/eefjg/OneDrive/Leeds/PhD/Data/MODIS/AquaHkmLabSea2022b/geoloc/MYD03.A2022046.1620.061.2022047152256.hdf'),\n",
       " PosixPath('/home/eefjg/OneDrive/Leeds/PhD/Data/MODIS/AquaHkmLabSea2022b/geoloc/MYD03.A2022043.1550.061.2022044150931.hdf'),\n",
       " PosixPath('/home/eefjg/OneDrive/Leeds/PhD/Data/MODIS/AquaHkmLabSea2022b/geoloc/MYD03.A2022042.1645.061.2022047024145.hdf'),\n",
       " PosixPath('/home/eefjg/OneDrive/Leeds/PhD/Data/MODIS/AquaHkmLabSea2022b/geoloc/MYD03.A2022034.1555.061.2022035150641.hdf'),\n",
       " PosixPath('/home/eefjg/OneDrive/Leeds/PhD/Data/MODIS/AquaHkmLabSea2022b/geoloc/MYD03.A2022030.1620.061.2022031151039.hdf'),\n",
       " PosixPath('/home/eefjg/OneDrive/Leeds/PhD/Data/MODIS/AquaHkmLabSea2022b/geoloc/MYD03.A2022027.1550.061.2022028151323.hdf'),\n",
       " PosixPath('/home/eefjg/OneDrive/Leeds/PhD/Data/MODIS/AquaHkmLabSea2022b/geoloc/MYD03.A2022026.1645.061.2022027163219.hdf'),\n",
       " PosixPath('/home/eefjg/OneDrive/Leeds/PhD/Data/MODIS/AquaHkmLabSea2022b/geoloc/MYD03.A2022018.1555.061.2022019203914.hdf'),\n",
       " PosixPath('/home/eefjg/OneDrive/Leeds/PhD/Data/MODIS/AquaHkmLabSea2022b/geoloc/MYD03.A2022014.1620.061.2022015190456.hdf'),\n",
       " PosixPath('/home/eefjg/OneDrive/Leeds/PhD/Data/MODIS/AquaHkmLabSea2022b/geoloc/MYD03.A2022010.1645.061.2022011153857.hdf'),\n",
       " PosixPath('/home/eefjg/OneDrive/Leeds/PhD/Data/MODIS/AquaHkmLabSea2022b/geoloc/MYD03.A2022002.1555.061.2022003152759.hdf')]"
      ]
     },
     "execution_count": 10,
     "metadata": {},
     "output_type": "execute_result"
    }
   ],
   "source": [
    "# Download the granules\n",
    "\n",
    "GranuleHandler.download_from_granules(labsea2022_granules, session, path=str(filepath), threads=10)"
   ]
  },
  {
   "cell_type": "code",
   "execution_count": null,
   "metadata": {},
   "outputs": [],
   "source": []
  }
 ],
 "metadata": {
  "kernelspec": {
   "display_name": "modis-tools",
   "language": "python",
   "name": "python3"
  },
  "language_info": {
   "codemirror_mode": {
    "name": "ipython",
    "version": 3
   },
   "file_extension": ".py",
   "mimetype": "text/x-python",
   "name": "python",
   "nbconvert_exporter": "python",
   "pygments_lexer": "ipython3",
   "version": "3.12.3"
  }
 },
 "nbformat": 4,
 "nbformat_minor": 2
}
