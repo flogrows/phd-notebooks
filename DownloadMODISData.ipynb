{
 "cells": [
  {
   "cell_type": "code",
   "execution_count": 1,
   "metadata": {},
   "outputs": [],
   "source": [
    "from modis_tools.auth import ModisSession\n",
    "from modis_tools.resources import CollectionApi, GranuleApi\n",
    "from modis_tools.granule_handler import GranuleHandler\n",
    "\n",
    "from modis_tools.auth import add_earthdata_netrc, remove_earthdata_netrc\n",
    "\n",
    "from datetime import datetime, timedelta\n",
    "from pathlib import Path\n",
    "import yaml"
   ]
  },
  {
   "cell_type": "markdown",
   "metadata": {},
   "source": [
    "### Use modis-tools to search and download MODIS granules"
   ]
  },
  {
   "cell_type": "code",
   "execution_count": 2,
   "metadata": {},
   "outputs": [],
   "source": [
    "# Create an entry for Earthdata in the ~/.netrc file, only needs to be run once\n",
    "\n",
    "#username = \"\"\n",
    "#password = \"\"\n",
    "#add_earthdata_netrc(username, password)"
   ]
  },
  {
   "cell_type": "code",
   "execution_count": 2,
   "metadata": {},
   "outputs": [],
   "source": [
    "# Create a session\n",
    "session = ModisSession()"
   ]
  },
  {
   "cell_type": "code",
   "execution_count": 6,
   "metadata": {},
   "outputs": [
    {
     "data": {
      "text/plain": [
       "[Collection(id='C2565805847-LPCLOUD', title='MODIS/Terra Land Water Mask Derived from MODIS and SRTM L3 Global 250m SIN Grid V061', dataset_id='MODIS/Terra Land Water Mask Derived from MODIS and SRTM L3 Global 250m SIN Grid V061', coordinate_system='CARTESIAN', time_start='2000-01-01T00:00:00.000Z', updated=datetime.datetime(2024, 2, 22, 0, 0, tzinfo=datetime.timezone.utc), links=[CollectionLink(hreflang='en-US', href=AnyUrl('https://e4ftl01.cr.usgs.gov/MOLT/MOD44W.061/', scheme='https', host='e4ftl01.cr.usgs.gov', tld='gov', host_type='domain', path='/MOLT/MOD44W.061/'), type=None), CollectionLink(hreflang='en-US', href=AnyUrl('https://search.earthdata.nasa.gov/search?q=C2565805847-LPCLOUD', scheme='https', host='search.earthdata.nasa.gov', tld='gov', host_type='domain', path='/search', query='q=C2565805847-LPCLOUD'), type=None), CollectionLink(hreflang='en-US', href=AnyUrl('https://doi.org/10.5067/MODIS/MOD44W.061', scheme='https', host='doi.org', tld='org', host_type='domain', path='/10.5067/MODIS/MOD44W.061'), type=None), CollectionLink(hreflang='en-US', href=AnyUrl('https://lpdaac.usgs.gov/', scheme='https', host='lpdaac.usgs.gov', tld='gov', host_type='domain', path='/'), type=None), CollectionLink(hreflang='en-US', href=AnyUrl('https://lpdaac.usgs.gov/documents/1915/MOD44W_User_Guide_ATBD_V61.pdf', scheme='https', host='lpdaac.usgs.gov', tld='gov', host_type='domain', path='/documents/1915/MOD44W_User_Guide_ATBD_V61.pdf'), type=None), CollectionLink(hreflang='en-US', href=AnyUrl('https://modis-land.gsfc.nasa.gov/MODLAND_val.html', scheme='https', host='modis-land.gsfc.nasa.gov', tld='gov', host_type='domain', path='/MODLAND_val.html'), type=None), CollectionLink(hreflang='en-US', href=AnyUrl('https://modis-land.gsfc.nasa.gov/ValStatus.php?ProductID=MOD44', scheme='https', host='modis-land.gsfc.nasa.gov', tld='gov', host_type='domain', path='/ValStatus.php', query='ProductID=MOD44'), type=None), CollectionLink(hreflang='en-US', href=AnyUrl('https://landweb.modaps.eosdis.nasa.gov/displayissue?id=568', scheme='https', host='landweb.modaps.eosdis.nasa.gov', tld='gov', host_type='domain', path='/displayissue', query='id=568'), type=None), CollectionLink(hreflang='en-US', href=AnyUrl('https://lpdaac.usgs.gov/documents/1915/MOD44W_User_Guide_ATBD_V61.pdf', scheme='https', host='lpdaac.usgs.gov', tld='gov', host_type='domain', path='/documents/1915/MOD44W_User_Guide_ATBD_V61.pdf'), type=None), CollectionLink(hreflang='en-US', href=AnyUrl('https://appeears.earthdatacloud.nasa.gov/', scheme='https', host='appeears.earthdatacloud.nasa.gov', tld='gov', host_type='domain', path='/'), type=None), CollectionLink(hreflang='en-US', href=AnyUrl('https://opendap.cr.usgs.gov/opendap/hyrax/MOD44W.061/contents.html', scheme='https', host='opendap.cr.usgs.gov', tld='gov', host_type='domain', path='/opendap/hyrax/MOD44W.061/contents.html'), type=None)], processing_level_id='3', short_name='MOD44W', summary='The Terra Moderate Resolution Imaging Spectroradiometer (MODIS) Land Water Mask (MOD44W) Version 6.1 data product provides a global map of surface water at 250 meter (m) spatial resolution. The data are available annually from 2000 to present. MOD44W Version 6.1 is derived using a decision tree classifier trained with MODIS data and validated with the Version 5 MOD44W data product. A series of masks are applied to address known issues caused by terrain shadow, burn scars, cloudiness, or ice cover in oceans. Version 6.1 is the generation of a time series rather than a simple static representation of water, given that water bodies fluctuate in size and location over time due to both natural and anthropogenic causes. Provided in each MOD44W Version 6.1 Hierarchical Data Format 4 (HDF4) file are layers for land water mask and water body classification. A quality assurance (QA) layer provides users with information on the determination of water. The new seven class water classification layer provides values for shallow ocean, land, shoreline, inland water, ephemeral water, deep inland water, moderate ocean, deep ocean, and a classification deemed to fall outside of the projection.\\r\\n\\r\\nImprovements/Changes from Previous Versions\\r\\n\\r\\n* The Version 6.1 Level-1B (L1B) products have been improved by undergoing various calibration changes that include: changes to the response-versus-scan angle (RVS) approach that affects reflectance bands for Aqua and Terra MODIS, corrections to adjust for the optical crosstalk in Terra MODIS infrared (IR) bands, and corrections to the Terra MODIS forward look-up table (LUT) update for the period 2012 - 2017.\\r\\n* A polarization correction has been applied to the L1B Reflective Solar Bands (RSB).\\r\\n* Additional data files will be produced annually and are scheduled for distribution in the first quarter of the calendar year. \\r\\n* Seven-class water body classification layer produced at 250 meter resolution is provided in tiled format.\\r\\n* For Collection 6.1 and beyond, Antarctica data are now being produced. \\r\\n', version_id='061')]"
      ]
     },
     "execution_count": 6,
     "metadata": {},
     "output_type": "execute_result"
    }
   ],
   "source": [
    "# Query the MODIS catalog for collections\n",
    "collection_client = CollectionApi(session=session)\n",
    "\n",
    "# Choose a collection to query\n",
    "#collections = collection_client.query(short_name=\"MYD02HKM\", version=\"6.1\") # Aqua 500m calibrated radiances\n",
    "#collections = collection_client.query(short_name=\"MYD03\", version=\"6.1\") # Aqua geolocation fields\n",
    "#collections = collection_client.query(short_name=\"MYD29\", version=\"61\") # Aqua sea ice\n",
    "\n",
    "#collections = collection_client.query(short_name=[\"MYD02HKM\", \"MYD03\"], version=\"6.1\")\n",
    "\n",
    "collections = collection_client.query(short_name=\"MOD44W\", version='061') # MODIS land/water mask\n",
    "\n",
    "\n",
    "collections"
   ]
  },
  {
   "cell_type": "code",
   "execution_count": 15,
   "metadata": {},
   "outputs": [],
   "source": [
    "# Criteria to filter the selected granules via spatial and temporal parameters\n",
    "# e.g.\n",
    "# nigeria_bbox = [2.1448863675, 4.002583177, 15.289420717, 14.275061098]\n",
    "# nigeria_granules = granule_client.query(start_date=\"2016-01-01\", end_date=\"2018-12-31\", bounding_box=nigeria_bbox)\n",
    "\n",
    "# See https://cmr.earthdata.nasa.gov/search/site/docs/search/api.html for more options\n",
    "\n",
    "# Date range:\n",
    "start_date = \"2022-01-01\"\n",
    "end_date = \"2022-12-31\"\n",
    "\n",
    "# Spatial extent:\n",
    "labsea = [-65.0, 45.0, -40.0, 70.0] # bounding_box for Labrador Sea\n",
    "points = [\"-55.0,53.75\", \"-64.25,61.5\", \"-53.25,64.25\", \"-44.0,59.25\"] # four approximate 'corners' of the Labrador Sea\n",
    "points2 = [\"-56.0,52.5\", \"-68.0,60.0\", \"-53.0,66.0\", \"-41.0,60.0\"] # four corners of a larger area\n",
    "points3 = [\"-64.0,55.0\", \"-44.0,63.0\"] # two ends of a line bisecting the Labrador Sea\n",
    "\n",
    "# NB point co-ordinate is in lon, lat (opposite to earthdata web search!)\n",
    "# Default option for point search is AND, i.e. all points will be within each granule"
   ]
  },
  {
   "cell_type": "code",
   "execution_count": null,
   "metadata": {},
   "outputs": [],
   "source": [
    "# Dictionary of arguments to be passed to each query\n",
    "query_args = dict(start_date=start_date, end_date=end_date, \n",
    "                  day_night_flag=\"day\", point=points2)"
   ]
  },
  {
   "cell_type": "code",
   "execution_count": null,
   "metadata": {},
   "outputs": [],
   "source": [
    "# Query args for the MOD44W collection\n",
    "# kwargs must be passed as dict if any options are to be used, e.g OR instead of AND\n",
    "# e.g. \n",
    "# labsea2022_granules = granule_client.query(start_date=start_date, end_date=end_date, \n",
    "#                                           **{\"point\":[\"-52.5,57.5\", \"-62.4,57.5\"], \"options[point][or]\":\"true\",\n",
    "#                                              \"day_night_flag\":\"day\"})\n",
    "\n",
    "query_args = {'start_date':start_date, 'end_date':end_date, \n",
    "                  'day_night_flag':\"day\", 'point':points2, 'options[point][or]':\"true\"}\n",
    "\n"
   ]
  },
  {
   "cell_type": "code",
   "execution_count": 17,
   "metadata": {},
   "outputs": [
    {
     "data": {
      "text/plain": [
       "4"
      ]
     },
     "execution_count": 17,
     "metadata": {},
     "output_type": "execute_result"
    }
   ],
   "source": [
    "# Query the selected collection for granules (only one collection at a time)\n",
    "granule_client_data = GranuleApi.from_collection(collections[0], session=session)\n",
    "\n",
    "# Get list of granules fitting given criteria:\n",
    "data_granules = granule_client_data.query(**query_args) \n",
    "\n",
    "# Check how many granules before downloading!\n",
    "data_granules = list(data_granules) # make it a list as generator can only be used once\n",
    "len(data_granules)"
   ]
  },
  {
   "cell_type": "code",
   "execution_count": 15,
   "metadata": {},
   "outputs": [],
   "source": [
    "# Get geolocation granules for the same time period\n",
    "granule_client_geo = GranuleApi.from_collection(collections[1], session=session)\n",
    "geo_granules = granule_client_geo.query(**query_args)\n",
    "geo_granules = list(geo_granules)"
   ]
  },
  {
   "cell_type": "code",
   "execution_count": 16,
   "metadata": {},
   "outputs": [
    {
     "data": {
      "text/plain": [
       "'MYD02HKM.A2022352.1640'"
      ]
     },
     "execution_count": 16,
     "metadata": {},
     "output_type": "execute_result"
    }
   ],
   "source": [
    "# Check name of scene/granule is parsed correctly! e.g. 'MYD02HKM.A2022352.1640'\n",
    "dict(data_granules[0])['producer_granule_id'][:22]"
   ]
  },
  {
   "cell_type": "code",
   "execution_count": 17,
   "metadata": {},
   "outputs": [],
   "source": [
    "# Make dictionary of scenes with data and geolocation filenamess\n",
    "\n",
    "scenes = {}\n",
    "\n",
    "for granule, geogranule in zip(data_granules, geo_granules):\n",
    "    filename = dict(granule)['producer_granule_id']\n",
    "    scenes[filename[:22]] = {'data':filename, 'geolocation':dict(geogranule)['producer_granule_id']}\n",
    "    # maybe should put a check here to ensure the geolocation file is \n",
    "    # for the same date as the data file in case any missing data"
   ]
  },
  {
   "cell_type": "code",
   "execution_count": 12,
   "metadata": {},
   "outputs": [],
   "source": [
    "# Specify download folder\n",
    "\n",
    "folder = \"AquaHkmLabSea2022b\"\n",
    "filepath = Path(\"/home/eefjg/OneDrive/Leeds/PhD/Data/MODIS/\"+folder+\"/l1b_data\")\n",
    "filepath.mkdir(exist_ok=True, parents=True)"
   ]
  },
  {
   "cell_type": "code",
   "execution_count": 18,
   "metadata": {},
   "outputs": [],
   "source": [
    "# File path for the MOD44W water mask data\n",
    "#filepath = \"/home/eefjg/OneDrive/Leeds/PhD/Data/MODIS/MODIS_WaterMask\""
   ]
  },
  {
   "cell_type": "code",
   "execution_count": 13,
   "metadata": {},
   "outputs": [],
   "source": [
    "# Write scene_ids and filenames to yaml file\n",
    "\n",
    "with open(filepath / 'scene_ids.yaml', 'w') as f:\n",
    "    yaml.dump(scenes, f)\n"
   ]
  },
  {
   "cell_type": "code",
   "execution_count": 19,
   "metadata": {},
   "outputs": [
    {
     "data": {
      "application/vnd.jupyter.widget-view+json": {
       "model_id": "4a7ffaba1edf4366ba2eaacd74b5678b",
       "version_major": 2,
       "version_minor": 0
      },
      "text/plain": [
       "Downloading:   0%|          | 0/4 [00:00<?, ?file/s]"
      ]
     },
     "metadata": {},
     "output_type": "display_data"
    },
    {
     "data": {
      "text/plain": [
       "[PosixPath('/home/eefjg/OneDrive/Leeds/PhD/Data/MODIS/MODIS_WaterMask/MOD44W.A2022001.h15v03.061.2024008141206.hdf'),\n",
       " PosixPath('/home/eefjg/OneDrive/Leeds/PhD/Data/MODIS/MODIS_WaterMask/MOD44W.A2022001.h14v02.061.2024008140430.hdf'),\n",
       " PosixPath('/home/eefjg/OneDrive/Leeds/PhD/Data/MODIS/MODIS_WaterMask/MOD44W.A2022001.h15v02.061.2024008141302.hdf'),\n",
       " PosixPath('/home/eefjg/OneDrive/Leeds/PhD/Data/MODIS/MODIS_WaterMask/MOD44W.A2022001.h14v03.061.2024008140319.hdf')]"
      ]
     },
     "execution_count": 19,
     "metadata": {},
     "output_type": "execute_result"
    }
   ],
   "source": [
    "# Download the data granules\n",
    "\n",
    "GranuleHandler.download_from_granules(data_granules, session, path=str(filepath), threads=10)"
   ]
  },
  {
   "cell_type": "code",
   "execution_count": null,
   "metadata": {},
   "outputs": [],
   "source": [
    "# Download the geolocation granules\n",
    "\n",
    "filepath = filepath / \"geoloc\"\n",
    "filepath.mkdir(exist_ok=True, parents=True)\n",
    "\n",
    "GranuleHandler.download_from_granules(geo_granules, session, path=str(filepath), threads=10)"
   ]
  }
 ],
 "metadata": {
  "kernelspec": {
   "display_name": "modis-tools",
   "language": "python",
   "name": "python3"
  },
  "language_info": {
   "codemirror_mode": {
    "name": "ipython",
    "version": 3
   },
   "file_extension": ".py",
   "mimetype": "text/x-python",
   "name": "python",
   "nbconvert_exporter": "python",
   "pygments_lexer": "ipython3",
   "version": "3.12.3"
  }
 },
 "nbformat": 4,
 "nbformat_minor": 2
}
