{
 "cells": [
  {
   "cell_type": "code",
   "execution_count": 1,
   "metadata": {},
   "outputs": [],
   "source": [
    "from modis_tools.auth import ModisSession\n",
    "from modis_tools.resources import CollectionApi, GranuleApi\n",
    "from modis_tools.granule_handler import GranuleHandler\n",
    "\n",
    "from datetime import datetime, timedelta\n",
    "from pathlib import Path"
   ]
  },
  {
   "cell_type": "markdown",
   "metadata": {},
   "source": [
    "### Use modis-tools to search and download MODIS granules"
   ]
  },
  {
   "cell_type": "code",
   "execution_count": 2,
   "metadata": {},
   "outputs": [],
   "source": [
    "username = \"flojogreaves\"\n",
    "password = \".V.F3L+-gGA67Sp\"\n",
    "\n",
    "# Authenticate a session\n",
    "session = ModisSession(username=username, password=password)"
   ]
  },
  {
   "cell_type": "code",
   "execution_count": 3,
   "metadata": {},
   "outputs": [
    {
     "data": {
      "text/plain": [
       "[Collection(id='C1379758778-LAADS', title='MODIS/Aqua Calibrated Radiances 5-Min L1B Swath 500m', dataset_id='MODIS/Aqua Calibrated Radiances 5-Min L1B Swath 500m', coordinate_system='CARTESIAN', time_start='2002-07-04T00:45:00.000Z', updated=None, links=[CollectionLink(hreflang='en-US', href=AnyUrl('https://doi.org/10.5067/MODIS/MYD02HKM.061', scheme='https', host='doi.org', tld='org', host_type='domain', path='/10.5067/MODIS/MYD02HKM.061'), type=None), CollectionLink(hreflang='en-US', href=AnyUrl('https://mcst.gsfc.nasa.gov/sites/default/files/file_attachments/M1054D_PUG_083112_final.pdf', scheme='https', host='mcst.gsfc.nasa.gov', tld='gov', host_type='domain', path='/sites/default/files/file_attachments/M1054D_PUG_083112_final.pdf'), type=None), CollectionLink(hreflang='en-US', href=AnyUrl('https://mcst.gsfc.nasa.gov/sites/mcst.gsfc/files/file_attachments/MODIS_L1B_ATBD_ver4.pdf', scheme='https', host='mcst.gsfc.nasa.gov', tld='gov', host_type='domain', path='/sites/mcst.gsfc/files/file_attachments/MODIS_L1B_ATBD_ver4.pdf'), type=None), CollectionLink(hreflang='en-US', href=AnyUrl('https://ladsweb.modaps.eosdis.nasa.gov/search/order/2/MYD02HKM--61', scheme='https', host='ladsweb.modaps.eosdis.nasa.gov', tld='gov', host_type='domain', path='/search/order/2/MYD02HKM--61'), type=None), CollectionLink(hreflang='en-US', href=AnyUrl('https://ladsweb.modaps.eosdis.nasa.gov/archive/allData/61/MYD02HKM/', scheme='https', host='ladsweb.modaps.eosdis.nasa.gov', tld='gov', host_type='domain', path='/archive/allData/61/MYD02HKM/'), type=None), CollectionLink(hreflang='en-US', href=AnyUrl('https://ladsweb.modaps.eosdis.nasa.gov/opendap/RemoteResources/laads/allData/61/MYD02HKM/contents.html', scheme='https', host='ladsweb.modaps.eosdis.nasa.gov', tld='gov', host_type='domain', path='/opendap/RemoteResources/laads/allData/61/MYD02HKM/contents.html'), type='text/html')], processing_level_id='1B', short_name='MYD02HKM', summary='The MODIS/Aqua Calibrated Radiances 5Min L1B Swath 500m data set contains calibrated and geolocated at-aperture radiances for 7 discrete bands located in the 0.45 to 2.20 micron region of the electromagnetic spectrum. These data are generated from the MODIS Level 1A scans of raw radiance and in the process converted to geophysical units of W/(m^2 um sr). Additional data are provided including quality flags, error estimates and calibration data.\\r\\n\\r\\nVisible, shortwave infrared, and near infrared measurements are only made during the daytime (except band 26), while radiances for the thermal infrared region (bands 20-25, 27-36) are measured continuously.\\r\\n\\r\\nChannels 1 and 2 have 250 m resolution, channels 3 through 7 have 500 m resolution. However, for the MODIS L1B 500 m product, the 250 m band radiance data and their associated uncertainties have been aggregated to 500m resolution. Thus the entire channel data set has been co-registered to the same spatial scale in the 500 m product. Separate L1B products are available for the 250 m resolution channels (MYD02QKM) and 1 km resolution channels (MYD021KM). For the latter product, the 250 m and 500 m channel data (bands 1 through 7) have been aggregated into equivalent 1 km pixel values.\\r\\n            \\r\\nSpatial resolution for pixels at nadir is 500 km, degrading to 2.4 km in the along-scan direction at the scan extremes. However, thanks to the overlapping of consecutive swaths and respectively pixels there, the resulting resolution at the scan extremes is about 1 km. A 55 degree scanning pattern at the EOS orbit of 705 km results in a 2330 km orbital swath width and provides global coverage every one to two days. A single MODIS Level 1B 500 m granule will contain a scene built from 203 scans sampled 2708 times in the cross-track direction, corresponding to approximately 5 minutes worth of data; thus 288 granules will be produced per day. Since an individual MODIS scan will contain 20 along-track spatial elements for the 500 m channels, the scene will be composed of (2708 x 4060) pixels, resulting in a spatial coverage of (2330 km x 2040 km). Due to the MODIS scan geometry, there will be increasing scan overlap beyond about 20 degrees scan angle.      \\r\\n\\r\\nTo summarize, the MODIS L1B 500 m data product consists of:\\r\\n            \\r\\n1. Calibrated radiances, uncertainties and number of samples for (2) 250 m reflected solar bands aggregated to 500 m resolution\\r\\n            \\r\\n2. Calibrated radiances and uncertainties for (5) 500 m reflected solar bands\\r\\n            \\r\\n3. Geolocation for 1km pixels, that must be interpolated to get 500 m pixel locations. For the relationship of 1km pixels to 500m pixels, see the Geolocation ATBD https://modis.gsfc.nasa.gov/data/atbd/atbd_mod28_v3.pdf.\\r\\n            \\r\\n4. Calibration data for all channels (scale and offset) \\r\\n            \\r\\n5. Comprehensive set of file-level metadata summarizing the spatial, temporal and parameter attributes of the data, as well as auxiliary information pertaining to instrument status and data quality characterization users requiring all geolocation and solar/satellite geometry fields at 1km resolution can obtain the separate MODIS Level 1 Geolocation product (MYD03) from LAADS  https://ladsweb.modaps.eosdis.nasa.gov/ . \\r\\n            \\r\\nThe shortname for this product is MYD02HKM and is stored in the Earth Observing System Hierarchical Data Format (HDF-EOS). A typical MYD02HKM file size is approximately 135 MB.\\r\\n            \\r\\nEnvironmental information derived from MODIS L1B measurements will offer a comprehensive and unprecedented look at terrestrial, atmospheric, and ocean phenomenology for a wide and diverse community of users throughout the world.\\r\\n\\r\\nSee the MODIS Characterization Support Team webpage for more C6 product information at:\\r\\n\\r\\nhttps://mcst.gsfc.nasa.gov/l1b/product-information\\r\\n\\r\\n\\r\\nor visit Science Team homepage at:\\r\\nhttps://modis.gsfc.nasa.gov/data/dataprod/', version_id='6.1')]"
      ]
     },
     "execution_count": 3,
     "metadata": {},
     "output_type": "execute_result"
    }
   ],
   "source": [
    "# Query the MODIS catalog for collections\n",
    "collection_client = CollectionApi(session=session)\n",
    "collections = collection_client.query(short_name=\"MYD02HKM\", version=\"6.1\")\n",
    "collections"
   ]
  },
  {
   "cell_type": "code",
   "execution_count": 4,
   "metadata": {},
   "outputs": [],
   "source": [
    "# Query the selected collection for granules\n",
    "granule_client = GranuleApi.from_collection(collections[0], session=session)"
   ]
  },
  {
   "cell_type": "code",
   "execution_count": 5,
   "metadata": {},
   "outputs": [],
   "source": [
    "# Filter the selected granules via spatial and temporal parameters\n",
    "# e.g.\n",
    "# nigeria_bbox = [2.1448863675, 4.002583177, 15.289420717, 14.275061098]\n",
    "# nigeria_granules = granule_client.query(start_date=\"2016-01-01\", end_date=\"2018-12-31\", bounding_box=nigeria_bbox)\n",
    "\n",
    "# See https://cmr.earthdata.nasa.gov/search/site/docs/search/api.html for more options\n",
    "\n",
    "# Date range:\n",
    "start_date = \"2022-01-01\"\n",
    "end_date = \"2022-12-31\"\n",
    "\n",
    "# Spatial extent:\n",
    "labsea = [-65.0, 45.0, -40.0, 70.0] # bounding_box for Labrador Sea\n",
    "points = [\"-55.0,53.75\", \"-64.25,61.5\", \"-53.25,64.25\", \"-44.0,59.25\"] # four approximate 'corners' of the Labrador Sea\n",
    "points2 = [\"-56.0,52.5\", \"-68.0,60.0\", \"-53.0,66.0\", \"-41.0,60.0\"] # four corners of a larger area\n",
    "points3 = [\"-64.0,55.0\", \"-44.0,63.0\"] # two ends of a line bisecting the Labrador Sea\n",
    "\n",
    "labsea2022_granules = granule_client.query(start_date=start_date, end_date=end_date, day_night_flag=\"day\", \n",
    "                                         point=points2) \n",
    "                                            # point co-ordinate is in lon, lat (opposite to earthdata web search!)\n",
    "\n",
    "# kwargs must be passed as dict if any options are to be used, e.g OR instead of AND\n",
    "\n",
    "# labsea2022_granules = granule_client.query(start_date=start_date, end_date=end_date, \n",
    "#                                           **{\"point\":[\"-52.5,57.5\", \"-62.4,57.5\"], \"options[point][or]\":\"true\",\n",
    "#                                              \"day_night_flag\":\"day\"})\n",
    "\n"
   ]
  },
  {
   "cell_type": "code",
   "execution_count": 6,
   "metadata": {},
   "outputs": [
    {
     "data": {
      "text/plain": [
       "71"
      ]
     },
     "execution_count": 6,
     "metadata": {},
     "output_type": "execute_result"
    }
   ],
   "source": [
    "# Check how many granules before downloading!\n",
    "labsea2022_granules = list(labsea2022_granules)\n",
    "len(labsea2022_granules)"
   ]
  },
  {
   "cell_type": "code",
   "execution_count": 7,
   "metadata": {},
   "outputs": [
    {
     "data": {
      "text/plain": [
       "[Granule(id='G2568663137-LAADS', title='LAADS:7257808017', dataset_id='MODIS/Aqua Calibrated Radiances 5-Min L1B Swath 500m', coordinate_system='GEODETIC', time_start='2022-12-18T16:40:00.000Z', updated=datetime.datetime(2022, 12, 21, 3, 25, 42, 870000, tzinfo=datetime.timezone.utc), links=[GranuleLink(hreflang='en-US', href=AnyUrl('https://ladsweb.modaps.eosdis.nasa.gov/archive/allData/61/MYD02HKM/2022/352/MYD02HKM.A2022352.1640.061.2022354222030.hdf', scheme='https', host='ladsweb.modaps.eosdis.nasa.gov', tld='gov', host_type='domain', path='/archive/allData/61/MYD02HKM/2022/352/MYD02HKM.A2022352.1640.061.2022354222030.hdf'), type='application/x-hdfeos', inherited=None), GranuleLink(hreflang='en-US', href=AnyUrl('s3://prod-lads/MYD02HKM/MYD02HKM.A2022352.1640.061.2022354222030.hdf', scheme='s3', host='prod-lads', host_type='int_domain', path='/MYD02HKM/MYD02HKM.A2022352.1640.061.2022354222030.hdf'), type='application/x-hdfeos', inherited=None), GranuleLink(hreflang='en-US', href=AnyUrl('https://ladsweb.modaps.eosdis.nasa.gov/opendap/RemoteResources/laads/allData/61/MYD02HKM/2022/352/MYD02HKM.A2022352.1640.061.2022354222030.hdf.html', scheme='https', host='ladsweb.modaps.eosdis.nasa.gov', tld='gov', host_type='domain', path='/opendap/RemoteResources/laads/allData/61/MYD02HKM/2022/352/MYD02HKM.A2022352.1640.061.2022354222030.hdf.html'), type='text/html', inherited=None), GranuleLink(hreflang='en-US', href=AnyUrl('http://doi.org/10.5067/MODIS/MYD02HKM.061', scheme='http', host='doi.org', tld='org', host_type='domain', path='/10.5067/MODIS/MYD02HKM.061'), type='text/html', inherited=None), GranuleLink(hreflang='en-US', href=AnyUrl('https://doi.org/10.5067/MODIS/MYD02HKM.061', scheme='https', host='doi.org', tld='org', host_type='domain', path='/10.5067/MODIS/MYD02HKM.061'), type=None, inherited=True), GranuleLink(hreflang='en-US', href=AnyUrl('https://mcst.gsfc.nasa.gov/sites/default/files/file_attachments/M1054D_PUG_083112_final.pdf', scheme='https', host='mcst.gsfc.nasa.gov', tld='gov', host_type='domain', path='/sites/default/files/file_attachments/M1054D_PUG_083112_final.pdf'), type=None, inherited=True), GranuleLink(hreflang='en-US', href=AnyUrl('https://mcst.gsfc.nasa.gov/sites/mcst.gsfc/files/file_attachments/MODIS_L1B_ATBD_ver4.pdf', scheme='https', host='mcst.gsfc.nasa.gov', tld='gov', host_type='domain', path='/sites/mcst.gsfc/files/file_attachments/MODIS_L1B_ATBD_ver4.pdf'), type=None, inherited=True), GranuleLink(hreflang='en-US', href=AnyUrl('https://ladsweb.modaps.eosdis.nasa.gov/search/order/2/MYD02HKM--61', scheme='https', host='ladsweb.modaps.eosdis.nasa.gov', tld='gov', host_type='domain', path='/search/order/2/MYD02HKM--61'), type=None, inherited=True), GranuleLink(hreflang='en-US', href=AnyUrl('https://ladsweb.modaps.eosdis.nasa.gov/archive/allData/61/MYD02HKM/', scheme='https', host='ladsweb.modaps.eosdis.nasa.gov', tld='gov', host_type='domain', path='/archive/allData/61/MYD02HKM/'), type=None, inherited=True), GranuleLink(hreflang='en-US', href=AnyUrl('https://ladsweb.modaps.eosdis.nasa.gov/opendap/RemoteResources/laads/allData/61/MYD02HKM/contents.html', scheme='https', host='ladsweb.modaps.eosdis.nasa.gov', tld='gov', host_type='domain', path='/opendap/RemoteResources/laads/allData/61/MYD02HKM/contents.html'), type='text/html', inherited=True)], cloud_cover=None, collection_concept_id='C1379758778-LAADS', day_night_flag='DAY', granule_size=123.52988910675, polygons=[['66.689304 -38.013145 59.592058 -83.657073 44.063182 -67.507894 48.370167 -37.179144 66.689304 -38.013145']], producer_granule_id='MYD02HKM.A2022352.1640.061.2022354222030.hdf', time_end=datetime.datetime(2022, 12, 18, 16, 45, tzinfo=datetime.timezone.utc)),\n",
       " Granule(id='G2562467921-LAADS', title='LAADS:7236913292', dataset_id='MODIS/Aqua Calibrated Radiances 5-Min L1B Swath 500m', coordinate_system='GEODETIC', time_start='2022-12-09T16:50:00.000Z', updated=datetime.datetime(2022, 12, 10, 16, 47, 56, 20000, tzinfo=datetime.timezone.utc), links=[GranuleLink(hreflang='en-US', href=AnyUrl('https://ladsweb.modaps.eosdis.nasa.gov/archive/allData/61/MYD02HKM/2022/343/MYD02HKM.A2022343.1650.061.2022344163236.hdf', scheme='https', host='ladsweb.modaps.eosdis.nasa.gov', tld='gov', host_type='domain', path='/archive/allData/61/MYD02HKM/2022/343/MYD02HKM.A2022343.1650.061.2022344163236.hdf'), type='application/x-hdfeos', inherited=None), GranuleLink(hreflang='en-US', href=AnyUrl('s3://prod-lads/MYD02HKM/MYD02HKM.A2022343.1650.061.2022344163236.hdf', scheme='s3', host='prod-lads', host_type='int_domain', path='/MYD02HKM/MYD02HKM.A2022343.1650.061.2022344163236.hdf'), type='application/x-hdfeos', inherited=None), GranuleLink(hreflang='en-US', href=AnyUrl('https://ladsweb.modaps.eosdis.nasa.gov/opendap/RemoteResources/laads/allData/61/MYD02HKM/2022/343/MYD02HKM.A2022343.1650.061.2022344163236.hdf.html', scheme='https', host='ladsweb.modaps.eosdis.nasa.gov', tld='gov', host_type='domain', path='/opendap/RemoteResources/laads/allData/61/MYD02HKM/2022/343/MYD02HKM.A2022343.1650.061.2022344163236.hdf.html'), type='text/html', inherited=None), GranuleLink(hreflang='en-US', href=AnyUrl('http://doi.org/10.5067/MODIS/MYD02HKM.061', scheme='http', host='doi.org', tld='org', host_type='domain', path='/10.5067/MODIS/MYD02HKM.061'), type='text/html', inherited=None), GranuleLink(hreflang='en-US', href=AnyUrl('https://doi.org/10.5067/MODIS/MYD02HKM.061', scheme='https', host='doi.org', tld='org', host_type='domain', path='/10.5067/MODIS/MYD02HKM.061'), type=None, inherited=True), GranuleLink(hreflang='en-US', href=AnyUrl('https://mcst.gsfc.nasa.gov/sites/default/files/file_attachments/M1054D_PUG_083112_final.pdf', scheme='https', host='mcst.gsfc.nasa.gov', tld='gov', host_type='domain', path='/sites/default/files/file_attachments/M1054D_PUG_083112_final.pdf'), type=None, inherited=True), GranuleLink(hreflang='en-US', href=AnyUrl('https://mcst.gsfc.nasa.gov/sites/mcst.gsfc/files/file_attachments/MODIS_L1B_ATBD_ver4.pdf', scheme='https', host='mcst.gsfc.nasa.gov', tld='gov', host_type='domain', path='/sites/mcst.gsfc/files/file_attachments/MODIS_L1B_ATBD_ver4.pdf'), type=None, inherited=True), GranuleLink(hreflang='en-US', href=AnyUrl('https://ladsweb.modaps.eosdis.nasa.gov/search/order/2/MYD02HKM--61', scheme='https', host='ladsweb.modaps.eosdis.nasa.gov', tld='gov', host_type='domain', path='/search/order/2/MYD02HKM--61'), type=None, inherited=True), GranuleLink(hreflang='en-US', href=AnyUrl('https://ladsweb.modaps.eosdis.nasa.gov/archive/allData/61/MYD02HKM/', scheme='https', host='ladsweb.modaps.eosdis.nasa.gov', tld='gov', host_type='domain', path='/archive/allData/61/MYD02HKM/'), type=None, inherited=True), GranuleLink(hreflang='en-US', href=AnyUrl('https://ladsweb.modaps.eosdis.nasa.gov/opendap/RemoteResources/laads/allData/61/MYD02HKM/contents.html', scheme='https', host='ladsweb.modaps.eosdis.nasa.gov', tld='gov', host_type='domain', path='/opendap/RemoteResources/laads/allData/61/MYD02HKM/contents.html'), type='text/html', inherited=True)], cloud_cover=None, collection_concept_id='C1379758778-LAADS', day_night_flag='DAY', granule_size=126.11549282074, polygons=[['67.595536 -40.541076 60.302649 -87.332733 44.901989 -70.555201 49.272095 -39.810675 67.595536 -40.541076']], producer_granule_id='MYD02HKM.A2022343.1650.061.2022344163236.hdf', time_end=datetime.datetime(2022, 12, 9, 16, 55, tzinfo=datetime.timezone.utc)),\n",
       " Granule(id='G2555167983-LAADS', title='LAADS:7205838493', dataset_id='MODIS/Aqua Calibrated Radiances 5-Min L1B Swath 500m', coordinate_system='GEODETIC', time_start='2022-11-27T16:30:00.000Z', updated=datetime.datetime(2022, 11, 28, 16, 17, 47, 240000, tzinfo=datetime.timezone.utc), links=[GranuleLink(hreflang='en-US', href=AnyUrl('https://ladsweb.modaps.eosdis.nasa.gov/archive/allData/61/MYD02HKM/2022/331/MYD02HKM.A2022331.1630.061.2022332160811.hdf', scheme='https', host='ladsweb.modaps.eosdis.nasa.gov', tld='gov', host_type='domain', path='/archive/allData/61/MYD02HKM/2022/331/MYD02HKM.A2022331.1630.061.2022332160811.hdf'), type='application/x-hdfeos', inherited=None), GranuleLink(hreflang='en-US', href=AnyUrl('s3://prod-lads/MYD02HKM/MYD02HKM.A2022331.1630.061.2022332160811.hdf', scheme='s3', host='prod-lads', host_type='int_domain', path='/MYD02HKM/MYD02HKM.A2022331.1630.061.2022332160811.hdf'), type='application/x-hdfeos', inherited=None), GranuleLink(hreflang='en-US', href=AnyUrl('https://ladsweb.modaps.eosdis.nasa.gov/opendap/RemoteResources/laads/allData/61/MYD02HKM/2022/331/MYD02HKM.A2022331.1630.061.2022332160811.hdf.html', scheme='https', host='ladsweb.modaps.eosdis.nasa.gov', tld='gov', host_type='domain', path='/opendap/RemoteResources/laads/allData/61/MYD02HKM/2022/331/MYD02HKM.A2022331.1630.061.2022332160811.hdf.html'), type='text/html', inherited=None), GranuleLink(hreflang='en-US', href=AnyUrl('http://doi.org/10.5067/MODIS/MYD02HKM.061', scheme='http', host='doi.org', tld='org', host_type='domain', path='/10.5067/MODIS/MYD02HKM.061'), type='text/html', inherited=None), GranuleLink(hreflang='en-US', href=AnyUrl('https://doi.org/10.5067/MODIS/MYD02HKM.061', scheme='https', host='doi.org', tld='org', host_type='domain', path='/10.5067/MODIS/MYD02HKM.061'), type=None, inherited=True), GranuleLink(hreflang='en-US', href=AnyUrl('https://mcst.gsfc.nasa.gov/sites/default/files/file_attachments/M1054D_PUG_083112_final.pdf', scheme='https', host='mcst.gsfc.nasa.gov', tld='gov', host_type='domain', path='/sites/default/files/file_attachments/M1054D_PUG_083112_final.pdf'), type=None, inherited=True), GranuleLink(hreflang='en-US', href=AnyUrl('https://mcst.gsfc.nasa.gov/sites/mcst.gsfc/files/file_attachments/MODIS_L1B_ATBD_ver4.pdf', scheme='https', host='mcst.gsfc.nasa.gov', tld='gov', host_type='domain', path='/sites/mcst.gsfc/files/file_attachments/MODIS_L1B_ATBD_ver4.pdf'), type=None, inherited=True), GranuleLink(hreflang='en-US', href=AnyUrl('https://ladsweb.modaps.eosdis.nasa.gov/search/order/2/MYD02HKM--61', scheme='https', host='ladsweb.modaps.eosdis.nasa.gov', tld='gov', host_type='domain', path='/search/order/2/MYD02HKM--61'), type=None, inherited=True), GranuleLink(hreflang='en-US', href=AnyUrl('https://ladsweb.modaps.eosdis.nasa.gov/archive/allData/61/MYD02HKM/', scheme='https', host='ladsweb.modaps.eosdis.nasa.gov', tld='gov', host_type='domain', path='/archive/allData/61/MYD02HKM/'), type=None, inherited=True), GranuleLink(hreflang='en-US', href=AnyUrl('https://ladsweb.modaps.eosdis.nasa.gov/opendap/RemoteResources/laads/allData/61/MYD02HKM/contents.html', scheme='https', host='ladsweb.modaps.eosdis.nasa.gov', tld='gov', host_type='domain', path='/opendap/RemoteResources/laads/allData/61/MYD02HKM/contents.html'), type='text/html', inherited=True)], cloud_cover=None, collection_concept_id='C1379758778-LAADS', day_night_flag='DAY', granule_size=124.935991287231, polygons=[['68.228205 -35.525676 60.785717 -83.251639 45.482712 -66.008173 49.906882 -34.903178 68.228205 -35.525676']], producer_granule_id='MYD02HKM.A2022331.1630.061.2022332160811.hdf', time_end=datetime.datetime(2022, 11, 27, 16, 35, tzinfo=datetime.timezone.utc)),\n",
       " Granule(id='G2550455639-LAADS', title='LAADS:7190302651', dataset_id='MODIS/Aqua Calibrated Radiances 5-Min L1B Swath 500m', coordinate_system='GEODETIC', time_start='2022-11-18T16:40:00.000Z', updated=datetime.datetime(2022, 11, 20, 18, 19, 40, 410000, tzinfo=datetime.timezone.utc), links=[GranuleLink(hreflang='en-US', href=AnyUrl('https://ladsweb.modaps.eosdis.nasa.gov/archive/allData/61/MYD02HKM/2022/322/MYD02HKM.A2022322.1640.061.2022324002759.hdf', scheme='https', host='ladsweb.modaps.eosdis.nasa.gov', tld='gov', host_type='domain', path='/archive/allData/61/MYD02HKM/2022/322/MYD02HKM.A2022322.1640.061.2022324002759.hdf'), type='application/x-hdfeos', inherited=None), GranuleLink(hreflang='en-US', href=AnyUrl('s3://prod-lads/MYD02HKM/MYD02HKM.A2022322.1640.061.2022324002759.hdf', scheme='s3', host='prod-lads', host_type='int_domain', path='/MYD02HKM/MYD02HKM.A2022322.1640.061.2022324002759.hdf'), type='application/x-hdfeos', inherited=None), GranuleLink(hreflang='en-US', href=AnyUrl('https://ladsweb.modaps.eosdis.nasa.gov/opendap/RemoteResources/laads/allData/61/MYD02HKM/2022/322/MYD02HKM.A2022322.1640.061.2022324002759.hdf.html', scheme='https', host='ladsweb.modaps.eosdis.nasa.gov', tld='gov', host_type='domain', path='/opendap/RemoteResources/laads/allData/61/MYD02HKM/2022/322/MYD02HKM.A2022322.1640.061.2022324002759.hdf.html'), type='text/html', inherited=None), GranuleLink(hreflang='en-US', href=AnyUrl('http://doi.org/10.5067/MODIS/MYD02HKM.061', scheme='http', host='doi.org', tld='org', host_type='domain', path='/10.5067/MODIS/MYD02HKM.061'), type='text/html', inherited=None), GranuleLink(hreflang='en-US', href=AnyUrl('https://ladsweb.modaps.eosdis.nasa.gov/archive/allData/61/MYBRGB/2022/322/MYBRGB.A2022322.1640.061.2022324011554.jpg', scheme='https', host='ladsweb.modaps.eosdis.nasa.gov', tld='gov', host_type='domain', path='/archive/allData/61/MYBRGB/2022/322/MYBRGB.A2022322.1640.061.2022324011554.jpg'), type='image/jpeg', inherited=None), GranuleLink(hreflang='en-US', href=AnyUrl('https://doi.org/10.5067/MODIS/MYD02HKM.061', scheme='https', host='doi.org', tld='org', host_type='domain', path='/10.5067/MODIS/MYD02HKM.061'), type=None, inherited=True), GranuleLink(hreflang='en-US', href=AnyUrl('https://mcst.gsfc.nasa.gov/sites/default/files/file_attachments/M1054D_PUG_083112_final.pdf', scheme='https', host='mcst.gsfc.nasa.gov', tld='gov', host_type='domain', path='/sites/default/files/file_attachments/M1054D_PUG_083112_final.pdf'), type=None, inherited=True), GranuleLink(hreflang='en-US', href=AnyUrl('https://mcst.gsfc.nasa.gov/sites/mcst.gsfc/files/file_attachments/MODIS_L1B_ATBD_ver4.pdf', scheme='https', host='mcst.gsfc.nasa.gov', tld='gov', host_type='domain', path='/sites/mcst.gsfc/files/file_attachments/MODIS_L1B_ATBD_ver4.pdf'), type=None, inherited=True), GranuleLink(hreflang='en-US', href=AnyUrl('https://ladsweb.modaps.eosdis.nasa.gov/search/order/2/MYD02HKM--61', scheme='https', host='ladsweb.modaps.eosdis.nasa.gov', tld='gov', host_type='domain', path='/search/order/2/MYD02HKM--61'), type=None, inherited=True), GranuleLink(hreflang='en-US', href=AnyUrl('https://ladsweb.modaps.eosdis.nasa.gov/archive/allData/61/MYD02HKM/', scheme='https', host='ladsweb.modaps.eosdis.nasa.gov', tld='gov', host_type='domain', path='/archive/allData/61/MYD02HKM/'), type=None, inherited=True), GranuleLink(hreflang='en-US', href=AnyUrl('https://ladsweb.modaps.eosdis.nasa.gov/opendap/RemoteResources/laads/allData/61/MYD02HKM/contents.html', scheme='https', host='ladsweb.modaps.eosdis.nasa.gov', tld='gov', host_type='domain', path='/opendap/RemoteResources/laads/allData/61/MYD02HKM/contents.html'), type='text/html', inherited=True)], cloud_cover=None, collection_concept_id='C1379758778-LAADS', day_night_flag='DAY', granule_size=129.303958892822, polygons=[['70.16763 -37.660056 62.24108 -88.496756 47.262663 -69.719389 51.849427 -37.439319 70.16763 -37.660056']], producer_granule_id='MYD02HKM.A2022322.1640.061.2022324002759.hdf', time_end=datetime.datetime(2022, 11, 18, 16, 45, tzinfo=datetime.timezone.utc)),\n",
       " Granule(id='G2550317175-LAADS', title='LAADS:7183966363', dataset_id='MODIS/Aqua Calibrated Radiances 5-Min L1B Swath 500m', coordinate_system='GEODETIC', time_start='2022-11-15T16:10:00.000Z', updated=datetime.datetime(2022, 11, 20, 17, 28, 32, 380000, tzinfo=datetime.timezone.utc), links=[GranuleLink(hreflang='en-US', href=AnyUrl('https://ladsweb.modaps.eosdis.nasa.gov/archive/allData/61/MYD02HKM/2022/319/MYD02HKM.A2022319.1610.061.2022320195116.hdf', scheme='https', host='ladsweb.modaps.eosdis.nasa.gov', tld='gov', host_type='domain', path='/archive/allData/61/MYD02HKM/2022/319/MYD02HKM.A2022319.1610.061.2022320195116.hdf'), type='application/x-hdfeos', inherited=None), GranuleLink(hreflang='en-US', href=AnyUrl('s3://prod-lads/MYD02HKM/MYD02HKM.A2022319.1610.061.2022320195116.hdf', scheme='s3', host='prod-lads', host_type='int_domain', path='/MYD02HKM/MYD02HKM.A2022319.1610.061.2022320195116.hdf'), type='application/x-hdfeos', inherited=None), GranuleLink(hreflang='en-US', href=AnyUrl('https://ladsweb.modaps.eosdis.nasa.gov/opendap/RemoteResources/laads/allData/61/MYD02HKM/2022/319/MYD02HKM.A2022319.1610.061.2022320195116.hdf.html', scheme='https', host='ladsweb.modaps.eosdis.nasa.gov', tld='gov', host_type='domain', path='/opendap/RemoteResources/laads/allData/61/MYD02HKM/2022/319/MYD02HKM.A2022319.1610.061.2022320195116.hdf.html'), type='text/html', inherited=None), GranuleLink(hreflang='en-US', href=AnyUrl('http://doi.org/10.5067/MODIS/MYD02HKM.061', scheme='http', host='doi.org', tld='org', host_type='domain', path='/10.5067/MODIS/MYD02HKM.061'), type='text/html', inherited=None), GranuleLink(hreflang='en-US', href=AnyUrl('https://ladsweb.modaps.eosdis.nasa.gov/archive/allData/61/MYBRGB/2022/319/MYBRGB.A2022319.1610.061.2022321102137.jpg', scheme='https', host='ladsweb.modaps.eosdis.nasa.gov', tld='gov', host_type='domain', path='/archive/allData/61/MYBRGB/2022/319/MYBRGB.A2022319.1610.061.2022321102137.jpg'), type='image/jpeg', inherited=None), GranuleLink(hreflang='en-US', href=AnyUrl('https://doi.org/10.5067/MODIS/MYD02HKM.061', scheme='https', host='doi.org', tld='org', host_type='domain', path='/10.5067/MODIS/MYD02HKM.061'), type=None, inherited=True), GranuleLink(hreflang='en-US', href=AnyUrl('https://mcst.gsfc.nasa.gov/sites/default/files/file_attachments/M1054D_PUG_083112_final.pdf', scheme='https', host='mcst.gsfc.nasa.gov', tld='gov', host_type='domain', path='/sites/default/files/file_attachments/M1054D_PUG_083112_final.pdf'), type=None, inherited=True), GranuleLink(hreflang='en-US', href=AnyUrl('https://mcst.gsfc.nasa.gov/sites/mcst.gsfc/files/file_attachments/MODIS_L1B_ATBD_ver4.pdf', scheme='https', host='mcst.gsfc.nasa.gov', tld='gov', host_type='domain', path='/sites/mcst.gsfc/files/file_attachments/MODIS_L1B_ATBD_ver4.pdf'), type=None, inherited=True), GranuleLink(hreflang='en-US', href=AnyUrl('https://ladsweb.modaps.eosdis.nasa.gov/search/order/2/MYD02HKM--61', scheme='https', host='ladsweb.modaps.eosdis.nasa.gov', tld='gov', host_type='domain', path='/search/order/2/MYD02HKM--61'), type=None, inherited=True), GranuleLink(hreflang='en-US', href=AnyUrl('https://ladsweb.modaps.eosdis.nasa.gov/archive/allData/61/MYD02HKM/', scheme='https', host='ladsweb.modaps.eosdis.nasa.gov', tld='gov', host_type='domain', path='/archive/allData/61/MYD02HKM/'), type=None, inherited=True), GranuleLink(hreflang='en-US', href=AnyUrl('https://ladsweb.modaps.eosdis.nasa.gov/opendap/RemoteResources/laads/allData/61/MYD02HKM/contents.html', scheme='https', host='ladsweb.modaps.eosdis.nasa.gov', tld='gov', host_type='domain', path='/opendap/RemoteResources/laads/allData/61/MYD02HKM/contents.html'), type='text/html', inherited=True)], cloud_cover=None, collection_concept_id='C1379758778-LAADS', day_night_flag='DAY', granule_size=132.566915512085, polygons=[['69.530227 -30.255683 61.768085 -80.116851 46.678546 -61.859948 51.212499 -29.928375 69.530227 -30.255683']], producer_granule_id='MYD02HKM.A2022319.1610.061.2022320195116.hdf', time_end=datetime.datetime(2022, 11, 15, 16, 15, tzinfo=datetime.timezone.utc)),\n",
       " Granule(id='G2550182621-LAADS', title='LAADS:7179057533', dataset_id='MODIS/Aqua Calibrated Radiances 5-Min L1B Swath 500m', coordinate_system='GEODETIC', time_start='2022-11-12T15:40:00.000Z', updated=datetime.datetime(2022, 11, 20, 16, 40, 41, 470000, tzinfo=datetime.timezone.utc), links=[GranuleLink(hreflang='en-US', href=AnyUrl('https://ladsweb.modaps.eosdis.nasa.gov/archive/allData/61/MYD02HKM/2022/316/MYD02HKM.A2022316.1540.061.2022317180202.hdf', scheme='https', host='ladsweb.modaps.eosdis.nasa.gov', tld='gov', host_type='domain', path='/archive/allData/61/MYD02HKM/2022/316/MYD02HKM.A2022316.1540.061.2022317180202.hdf'), type='application/x-hdfeos', inherited=None), GranuleLink(hreflang='en-US', href=AnyUrl('s3://prod-lads/MYD02HKM/MYD02HKM.A2022316.1540.061.2022317180202.hdf', scheme='s3', host='prod-lads', host_type='int_domain', path='/MYD02HKM/MYD02HKM.A2022316.1540.061.2022317180202.hdf'), type='application/x-hdfeos', inherited=None), GranuleLink(hreflang='en-US', href=AnyUrl('https://ladsweb.modaps.eosdis.nasa.gov/opendap/RemoteResources/laads/allData/61/MYD02HKM/2022/316/MYD02HKM.A2022316.1540.061.2022317180202.hdf.html', scheme='https', host='ladsweb.modaps.eosdis.nasa.gov', tld='gov', host_type='domain', path='/opendap/RemoteResources/laads/allData/61/MYD02HKM/2022/316/MYD02HKM.A2022316.1540.061.2022317180202.hdf.html'), type='text/html', inherited=None), GranuleLink(hreflang='en-US', href=AnyUrl('http://doi.org/10.5067/MODIS/MYD02HKM.061', scheme='http', host='doi.org', tld='org', host_type='domain', path='/10.5067/MODIS/MYD02HKM.061'), type='text/html', inherited=None), GranuleLink(hreflang='en-US', href=AnyUrl('https://ladsweb.modaps.eosdis.nasa.gov/archive/allData/61/MYBRGB/2022/316/MYBRGB.A2022316.1540.061.2022321092936.jpg', scheme='https', host='ladsweb.modaps.eosdis.nasa.gov', tld='gov', host_type='domain', path='/archive/allData/61/MYBRGB/2022/316/MYBRGB.A2022316.1540.061.2022321092936.jpg'), type='image/jpeg', inherited=None), GranuleLink(hreflang='en-US', href=AnyUrl('https://doi.org/10.5067/MODIS/MYD02HKM.061', scheme='https', host='doi.org', tld='org', host_type='domain', path='/10.5067/MODIS/MYD02HKM.061'), type=None, inherited=True), GranuleLink(hreflang='en-US', href=AnyUrl('https://mcst.gsfc.nasa.gov/sites/default/files/file_attachments/M1054D_PUG_083112_final.pdf', scheme='https', host='mcst.gsfc.nasa.gov', tld='gov', host_type='domain', path='/sites/default/files/file_attachments/M1054D_PUG_083112_final.pdf'), type=None, inherited=True), GranuleLink(hreflang='en-US', href=AnyUrl('https://mcst.gsfc.nasa.gov/sites/mcst.gsfc/files/file_attachments/MODIS_L1B_ATBD_ver4.pdf', scheme='https', host='mcst.gsfc.nasa.gov', tld='gov', host_type='domain', path='/sites/mcst.gsfc/files/file_attachments/MODIS_L1B_ATBD_ver4.pdf'), type=None, inherited=True), GranuleLink(hreflang='en-US', href=AnyUrl('https://ladsweb.modaps.eosdis.nasa.gov/search/order/2/MYD02HKM--61', scheme='https', host='ladsweb.modaps.eosdis.nasa.gov', tld='gov', host_type='domain', path='/search/order/2/MYD02HKM--61'), type=None, inherited=True), GranuleLink(hreflang='en-US', href=AnyUrl('https://ladsweb.modaps.eosdis.nasa.gov/archive/allData/61/MYD02HKM/', scheme='https', host='ladsweb.modaps.eosdis.nasa.gov', tld='gov', host_type='domain', path='/archive/allData/61/MYD02HKM/'), type=None, inherited=True), GranuleLink(hreflang='en-US', href=AnyUrl('https://ladsweb.modaps.eosdis.nasa.gov/opendap/RemoteResources/laads/allData/61/MYD02HKM/contents.html', scheme='https', host='ladsweb.modaps.eosdis.nasa.gov', tld='gov', host_type='domain', path='/opendap/RemoteResources/laads/allData/61/MYD02HKM/contents.html'), type='text/html', inherited=True)], cloud_cover=None, collection_concept_id='C1379758778-LAADS', day_night_flag='DAY', granule_size=131.981950759888, polygons=[['68.940019 -22.823321 61.326102 -71.823856 46.138539 -54.033757 50.622913 -22.40991 68.940019 -22.823321']], producer_granule_id='MYD02HKM.A2022316.1540.061.2022317180202.hdf', time_end=datetime.datetime(2022, 11, 12, 15, 45, tzinfo=datetime.timezone.utc)),\n",
       " Granule(id='G2542437770-LAADS', title='LAADS:7172266950', dataset_id='MODIS/Aqua Calibrated Radiances 5-Min L1B Swath 500m', coordinate_system='GEODETIC', time_start='2022-11-06T16:20:00.000Z', updated=datetime.datetime(2022, 11, 12, 21, 31, 10, 200000, tzinfo=datetime.timezone.utc), links=[GranuleLink(hreflang='en-US', href=AnyUrl('https://ladsweb.modaps.eosdis.nasa.gov/archive/allData/61/MYD02HKM/2022/310/MYD02HKM.A2022310.1620.061.2022311183559.hdf', scheme='https', host='ladsweb.modaps.eosdis.nasa.gov', tld='gov', host_type='domain', path='/archive/allData/61/MYD02HKM/2022/310/MYD02HKM.A2022310.1620.061.2022311183559.hdf'), type='application/x-hdfeos', inherited=None), GranuleLink(hreflang='en-US', href=AnyUrl('s3://prod-lads/MYD02HKM/MYD02HKM.A2022310.1620.061.2022311183559.hdf', scheme='s3', host='prod-lads', host_type='int_domain', path='/MYD02HKM/MYD02HKM.A2022310.1620.061.2022311183559.hdf'), type='application/x-hdfeos', inherited=None), GranuleLink(hreflang='en-US', href=AnyUrl('https://ladsweb.modaps.eosdis.nasa.gov/opendap/RemoteResources/laads/allData/61/MYD02HKM/2022/310/MYD02HKM.A2022310.1620.061.2022311183559.hdf.html', scheme='https', host='ladsweb.modaps.eosdis.nasa.gov', tld='gov', host_type='domain', path='/opendap/RemoteResources/laads/allData/61/MYD02HKM/2022/310/MYD02HKM.A2022310.1620.061.2022311183559.hdf.html'), type='text/html', inherited=None), GranuleLink(hreflang='en-US', href=AnyUrl('http://doi.org/10.5067/MODIS/MYD02HKM.061', scheme='http', host='doi.org', tld='org', host_type='domain', path='/10.5067/MODIS/MYD02HKM.061'), type='text/html', inherited=None), GranuleLink(hreflang='en-US', href=AnyUrl('https://ladsweb.modaps.eosdis.nasa.gov/archive/allData/61/MYBRGB/2022/310/MYBRGB.A2022310.1620.061.2022312103754.jpg', scheme='https', host='ladsweb.modaps.eosdis.nasa.gov', tld='gov', host_type='domain', path='/archive/allData/61/MYBRGB/2022/310/MYBRGB.A2022310.1620.061.2022312103754.jpg'), type='image/jpeg', inherited=None), GranuleLink(hreflang='en-US', href=AnyUrl('https://doi.org/10.5067/MODIS/MYD02HKM.061', scheme='https', host='doi.org', tld='org', host_type='domain', path='/10.5067/MODIS/MYD02HKM.061'), type=None, inherited=True), GranuleLink(hreflang='en-US', href=AnyUrl('https://mcst.gsfc.nasa.gov/sites/default/files/file_attachments/M1054D_PUG_083112_final.pdf', scheme='https', host='mcst.gsfc.nasa.gov', tld='gov', host_type='domain', path='/sites/default/files/file_attachments/M1054D_PUG_083112_final.pdf'), type=None, inherited=True), GranuleLink(hreflang='en-US', href=AnyUrl('https://mcst.gsfc.nasa.gov/sites/mcst.gsfc/files/file_attachments/MODIS_L1B_ATBD_ver4.pdf', scheme='https', host='mcst.gsfc.nasa.gov', tld='gov', host_type='domain', path='/sites/mcst.gsfc/files/file_attachments/MODIS_L1B_ATBD_ver4.pdf'), type=None, inherited=True), GranuleLink(hreflang='en-US', href=AnyUrl('https://ladsweb.modaps.eosdis.nasa.gov/search/order/2/MYD02HKM--61', scheme='https', host='ladsweb.modaps.eosdis.nasa.gov', tld='gov', host_type='domain', path='/search/order/2/MYD02HKM--61'), type=None, inherited=True), GranuleLink(hreflang='en-US', href=AnyUrl('https://ladsweb.modaps.eosdis.nasa.gov/archive/allData/61/MYD02HKM/', scheme='https', host='ladsweb.modaps.eosdis.nasa.gov', tld='gov', host_type='domain', path='/archive/allData/61/MYD02HKM/'), type=None, inherited=True), GranuleLink(hreflang='en-US', href=AnyUrl('https://ladsweb.modaps.eosdis.nasa.gov/opendap/RemoteResources/laads/allData/61/MYD02HKM/contents.html', scheme='https', host='ladsweb.modaps.eosdis.nasa.gov', tld='gov', host_type='domain', path='/opendap/RemoteResources/laads/allData/61/MYD02HKM/contents.html'), type='text/html', inherited=True)], cloud_cover=None, collection_concept_id='C1379758778-LAADS', day_night_flag='DAY', granule_size=129.174290657043, polygons=[['71.616245 -32.302039 63.287439 -85.774012 48.582625 -65.724767 53.303534 -32.466688 71.616245 -32.302039']], producer_granule_id='MYD02HKM.A2022310.1620.061.2022311183559.hdf', time_end=datetime.datetime(2022, 11, 6, 16, 25, tzinfo=datetime.timezone.utc)),\n",
       " Granule(id='G2534642442-LAADS', title='LAADS:7160575571', dataset_id='MODIS/Aqua Calibrated Radiances 5-Min L1B Swath 500m', coordinate_system='GEODETIC', time_start='2022-11-03T15:50:00.000Z', updated=datetime.datetime(2022, 12, 20, 6, 13, 44, 660000, tzinfo=datetime.timezone.utc), links=[GranuleLink(hreflang='en-US', href=AnyUrl('https://ladsweb.modaps.eosdis.nasa.gov/archive/allData/61/MYD02HKM/2022/307/MYD02HKM.A2022307.1550.061.2022308172954.hdf', scheme='https', host='ladsweb.modaps.eosdis.nasa.gov', tld='gov', host_type='domain', path='/archive/allData/61/MYD02HKM/2022/307/MYD02HKM.A2022307.1550.061.2022308172954.hdf'), type='application/x-hdfeos', inherited=None), GranuleLink(hreflang='en-US', href=AnyUrl('s3://prod-lads/MYD02HKM/MYD02HKM.A2022307.1550.061.2022308172954.hdf', scheme='s3', host='prod-lads', host_type='int_domain', path='/MYD02HKM/MYD02HKM.A2022307.1550.061.2022308172954.hdf'), type='application/x-hdfeos', inherited=None), GranuleLink(hreflang='en-US', href=AnyUrl('https://ladsweb.modaps.eosdis.nasa.gov/opendap/RemoteResources/laads/allData/61/MYD02HKM/2022/307/MYD02HKM.A2022307.1550.061.2022308172954.hdf.html', scheme='https', host='ladsweb.modaps.eosdis.nasa.gov', tld='gov', host_type='domain', path='/opendap/RemoteResources/laads/allData/61/MYD02HKM/2022/307/MYD02HKM.A2022307.1550.061.2022308172954.hdf.html'), type='text/html', inherited=None), GranuleLink(hreflang='en-US', href=AnyUrl('http://doi.org/10.5067/MODIS/MYD02HKM.061', scheme='http', host='doi.org', tld='org', host_type='domain', path='/10.5067/MODIS/MYD02HKM.061'), type='text/html', inherited=None), GranuleLink(hreflang='en-US', href=AnyUrl('https://ladsweb.modaps.eosdis.nasa.gov/archive/allData/61/MYBRGB/2022/307/MYBRGB.A2022307.1550.061.2022309012310.jpg', scheme='https', host='ladsweb.modaps.eosdis.nasa.gov', tld='gov', host_type='domain', path='/archive/allData/61/MYBRGB/2022/307/MYBRGB.A2022307.1550.061.2022309012310.jpg'), type='image/jpeg', inherited=None), GranuleLink(hreflang='en-US', href=AnyUrl('https://doi.org/10.5067/MODIS/MYD02HKM.061', scheme='https', host='doi.org', tld='org', host_type='domain', path='/10.5067/MODIS/MYD02HKM.061'), type=None, inherited=True), GranuleLink(hreflang='en-US', href=AnyUrl('https://mcst.gsfc.nasa.gov/sites/default/files/file_attachments/M1054D_PUG_083112_final.pdf', scheme='https', host='mcst.gsfc.nasa.gov', tld='gov', host_type='domain', path='/sites/default/files/file_attachments/M1054D_PUG_083112_final.pdf'), type=None, inherited=True), GranuleLink(hreflang='en-US', href=AnyUrl('https://mcst.gsfc.nasa.gov/sites/mcst.gsfc/files/file_attachments/MODIS_L1B_ATBD_ver4.pdf', scheme='https', host='mcst.gsfc.nasa.gov', tld='gov', host_type='domain', path='/sites/mcst.gsfc/files/file_attachments/MODIS_L1B_ATBD_ver4.pdf'), type=None, inherited=True), GranuleLink(hreflang='en-US', href=AnyUrl('https://ladsweb.modaps.eosdis.nasa.gov/search/order/2/MYD02HKM--61', scheme='https', host='ladsweb.modaps.eosdis.nasa.gov', tld='gov', host_type='domain', path='/search/order/2/MYD02HKM--61'), type=None, inherited=True), GranuleLink(hreflang='en-US', href=AnyUrl('https://ladsweb.modaps.eosdis.nasa.gov/archive/allData/61/MYD02HKM/', scheme='https', host='ladsweb.modaps.eosdis.nasa.gov', tld='gov', host_type='domain', path='/archive/allData/61/MYD02HKM/'), type=None, inherited=True), GranuleLink(hreflang='en-US', href=AnyUrl('https://ladsweb.modaps.eosdis.nasa.gov/opendap/RemoteResources/laads/allData/61/MYD02HKM/contents.html', scheme='https', host='ladsweb.modaps.eosdis.nasa.gov', tld='gov', host_type='domain', path='/opendap/RemoteResources/laads/allData/61/MYD02HKM/contents.html'), type='text/html', inherited=True)], cloud_cover=None, collection_concept_id='C1379758778-LAADS', day_night_flag='DAY', granule_size=127.177217483521, polygons=[['70.886649 -24.866701 62.768973 -77.174537 47.923637 -57.776225 52.574797 -24.91636 70.886649 -24.866701']], producer_granule_id='MYD02HKM.A2022307.1550.061.2022308172954.hdf', time_end=datetime.datetime(2022, 11, 3, 15, 55, tzinfo=datetime.timezone.utc)),\n",
       " Granule(id='G2534268990-LAADS', title='LAADS:7159366533', dataset_id='MODIS/Aqua Calibrated Radiances 5-Min L1B Swath 500m', coordinate_system='GEODETIC', time_start='2022-11-02T16:45:00.000Z', updated=datetime.datetime(2022, 12, 20, 6, 7, 54, 110000, tzinfo=datetime.timezone.utc), links=[GranuleLink(hreflang='en-US', href=AnyUrl('https://ladsweb.modaps.eosdis.nasa.gov/archive/allData/61/MYD02HKM/2022/306/MYD02HKM.A2022306.1645.061.2022308062251.hdf', scheme='https', host='ladsweb.modaps.eosdis.nasa.gov', tld='gov', host_type='domain', path='/archive/allData/61/MYD02HKM/2022/306/MYD02HKM.A2022306.1645.061.2022308062251.hdf'), type='application/x-hdfeos', inherited=None), GranuleLink(hreflang='en-US', href=AnyUrl('s3://prod-lads/MYD02HKM/MYD02HKM.A2022306.1645.061.2022308062251.hdf', scheme='s3', host='prod-lads', host_type='int_domain', path='/MYD02HKM/MYD02HKM.A2022306.1645.061.2022308062251.hdf'), type='application/x-hdfeos', inherited=None), GranuleLink(hreflang='en-US', href=AnyUrl('https://ladsweb.modaps.eosdis.nasa.gov/opendap/RemoteResources/laads/allData/61/MYD02HKM/2022/306/MYD02HKM.A2022306.1645.061.2022308062251.hdf.html', scheme='https', host='ladsweb.modaps.eosdis.nasa.gov', tld='gov', host_type='domain', path='/opendap/RemoteResources/laads/allData/61/MYD02HKM/2022/306/MYD02HKM.A2022306.1645.061.2022308062251.hdf.html'), type='text/html', inherited=None), GranuleLink(hreflang='en-US', href=AnyUrl('http://doi.org/10.5067/MODIS/MYD02HKM.061', scheme='http', host='doi.org', tld='org', host_type='domain', path='/10.5067/MODIS/MYD02HKM.061'), type='text/html', inherited=None), GranuleLink(hreflang='en-US', href=AnyUrl('https://ladsweb.modaps.eosdis.nasa.gov/archive/allData/61/MYBRGB/2022/306/MYBRGB.A2022306.1645.061.2022308082832.jpg', scheme='https', host='ladsweb.modaps.eosdis.nasa.gov', tld='gov', host_type='domain', path='/archive/allData/61/MYBRGB/2022/306/MYBRGB.A2022306.1645.061.2022308082832.jpg'), type='image/jpeg', inherited=None), GranuleLink(hreflang='en-US', href=AnyUrl('https://doi.org/10.5067/MODIS/MYD02HKM.061', scheme='https', host='doi.org', tld='org', host_type='domain', path='/10.5067/MODIS/MYD02HKM.061'), type=None, inherited=True), GranuleLink(hreflang='en-US', href=AnyUrl('https://mcst.gsfc.nasa.gov/sites/default/files/file_attachments/M1054D_PUG_083112_final.pdf', scheme='https', host='mcst.gsfc.nasa.gov', tld='gov', host_type='domain', path='/sites/default/files/file_attachments/M1054D_PUG_083112_final.pdf'), type=None, inherited=True), GranuleLink(hreflang='en-US', href=AnyUrl('https://mcst.gsfc.nasa.gov/sites/mcst.gsfc/files/file_attachments/MODIS_L1B_ATBD_ver4.pdf', scheme='https', host='mcst.gsfc.nasa.gov', tld='gov', host_type='domain', path='/sites/mcst.gsfc/files/file_attachments/MODIS_L1B_ATBD_ver4.pdf'), type=None, inherited=True), GranuleLink(hreflang='en-US', href=AnyUrl('https://ladsweb.modaps.eosdis.nasa.gov/search/order/2/MYD02HKM--61', scheme='https', host='ladsweb.modaps.eosdis.nasa.gov', tld='gov', host_type='domain', path='/search/order/2/MYD02HKM--61'), type=None, inherited=True), GranuleLink(hreflang='en-US', href=AnyUrl('https://ladsweb.modaps.eosdis.nasa.gov/archive/allData/61/MYD02HKM/', scheme='https', host='ladsweb.modaps.eosdis.nasa.gov', tld='gov', host_type='domain', path='/archive/allData/61/MYD02HKM/'), type=None, inherited=True), GranuleLink(hreflang='en-US', href=AnyUrl('https://ladsweb.modaps.eosdis.nasa.gov/opendap/RemoteResources/laads/allData/61/MYD02HKM/contents.html', scheme='https', host='ladsweb.modaps.eosdis.nasa.gov', tld='gov', host_type='domain', path='/opendap/RemoteResources/laads/allData/61/MYD02HKM/contents.html'), type='text/html', inherited=True)], cloud_cover=None, collection_concept_id='C1379758778-LAADS', day_night_flag='DAY', granule_size=132.511219978333, polygons=[['67.377419 -39.503754 60.125856 -86.09432 44.698272 -69.468594 49.058937 -38.77374 67.377419 -39.503754']], producer_granule_id='MYD02HKM.A2022306.1645.061.2022308062251.hdf', time_end=datetime.datetime(2022, 11, 2, 16, 50, tzinfo=datetime.timezone.utc)),\n",
       " Granule(id='G2525973215-LAADS', title='LAADS:7137212059', dataset_id='MODIS/Aqua Calibrated Radiances 5-Min L1B Swath 500m', coordinate_system='GEODETIC', time_start='2022-10-25T16:00:00.000Z', updated=datetime.datetime(2022, 12, 15, 20, 11, 22, 960000, tzinfo=datetime.timezone.utc), links=[GranuleLink(hreflang='en-US', href=AnyUrl('https://ladsweb.modaps.eosdis.nasa.gov/archive/allData/61/MYD02HKM/2022/298/MYD02HKM.A2022298.1600.061.2022299165545.hdf', scheme='https', host='ladsweb.modaps.eosdis.nasa.gov', tld='gov', host_type='domain', path='/archive/allData/61/MYD02HKM/2022/298/MYD02HKM.A2022298.1600.061.2022299165545.hdf'), type='application/x-hdfeos', inherited=None), GranuleLink(hreflang='en-US', href=AnyUrl('s3://prod-lads/MYD02HKM/MYD02HKM.A2022298.1600.061.2022299165545.hdf', scheme='s3', host='prod-lads', host_type='int_domain', path='/MYD02HKM/MYD02HKM.A2022298.1600.061.2022299165545.hdf'), type='application/x-hdfeos', inherited=None), GranuleLink(hreflang='en-US', href=AnyUrl('https://ladsweb.modaps.eosdis.nasa.gov/opendap/RemoteResources/laads/allData/61/MYD02HKM/2022/298/MYD02HKM.A2022298.1600.061.2022299165545.hdf.html', scheme='https', host='ladsweb.modaps.eosdis.nasa.gov', tld='gov', host_type='domain', path='/opendap/RemoteResources/laads/allData/61/MYD02HKM/2022/298/MYD02HKM.A2022298.1600.061.2022299165545.hdf.html'), type='text/html', inherited=None), GranuleLink(hreflang='en-US', href=AnyUrl('http://doi.org/10.5067/MODIS/MYD02HKM.061', scheme='http', host='doi.org', tld='org', host_type='domain', path='/10.5067/MODIS/MYD02HKM.061'), type='text/html', inherited=None), GranuleLink(hreflang='en-US', href=AnyUrl('https://ladsweb.modaps.eosdis.nasa.gov/archive/allData/61/MYBRGB/2022/298/MYBRGB.A2022298.1600.061.2022299180321.jpg', scheme='https', host='ladsweb.modaps.eosdis.nasa.gov', tld='gov', host_type='domain', path='/archive/allData/61/MYBRGB/2022/298/MYBRGB.A2022298.1600.061.2022299180321.jpg'), type='image/jpeg', inherited=None), GranuleLink(hreflang='en-US', href=AnyUrl('https://doi.org/10.5067/MODIS/MYD02HKM.061', scheme='https', host='doi.org', tld='org', host_type='domain', path='/10.5067/MODIS/MYD02HKM.061'), type=None, inherited=True), GranuleLink(hreflang='en-US', href=AnyUrl('https://mcst.gsfc.nasa.gov/sites/default/files/file_attachments/M1054D_PUG_083112_final.pdf', scheme='https', host='mcst.gsfc.nasa.gov', tld='gov', host_type='domain', path='/sites/default/files/file_attachments/M1054D_PUG_083112_final.pdf'), type=None, inherited=True), GranuleLink(hreflang='en-US', href=AnyUrl('https://mcst.gsfc.nasa.gov/sites/mcst.gsfc/files/file_attachments/MODIS_L1B_ATBD_ver4.pdf', scheme='https', host='mcst.gsfc.nasa.gov', tld='gov', host_type='domain', path='/sites/mcst.gsfc/files/file_attachments/MODIS_L1B_ATBD_ver4.pdf'), type=None, inherited=True), GranuleLink(hreflang='en-US', href=AnyUrl('https://ladsweb.modaps.eosdis.nasa.gov/search/order/2/MYD02HKM--61', scheme='https', host='ladsweb.modaps.eosdis.nasa.gov', tld='gov', host_type='domain', path='/search/order/2/MYD02HKM--61'), type=None, inherited=True), GranuleLink(hreflang='en-US', href=AnyUrl('https://ladsweb.modaps.eosdis.nasa.gov/archive/allData/61/MYD02HKM/', scheme='https', host='ladsweb.modaps.eosdis.nasa.gov', tld='gov', host_type='domain', path='/archive/allData/61/MYD02HKM/'), type=None, inherited=True), GranuleLink(hreflang='en-US', href=AnyUrl('https://ladsweb.modaps.eosdis.nasa.gov/opendap/RemoteResources/laads/allData/61/MYD02HKM/contents.html', scheme='https', host='ladsweb.modaps.eosdis.nasa.gov', tld='gov', host_type='domain', path='/opendap/RemoteResources/laads/allData/61/MYD02HKM/contents.html'), type='text/html', inherited=True)], cloud_cover=None, collection_concept_id='C1379758778-LAADS', day_night_flag='DAY', granule_size=132.969711303711, polygons=[['73.248711 -26.609979 64.410261 -83.564068 49.976153 -61.869282 54.858804 -27.372915 73.248711 -26.609979']], producer_granule_id='MYD02HKM.A2022298.1600.061.2022299165545.hdf', time_end=datetime.datetime(2022, 10, 25, 16, 5, tzinfo=datetime.timezone.utc))]"
      ]
     },
     "execution_count": 7,
     "metadata": {},
     "output_type": "execute_result"
    }
   ],
   "source": [
    "labsea2022_granules[0:10]"
   ]
  },
  {
   "cell_type": "code",
   "execution_count": 8,
   "metadata": {},
   "outputs": [],
   "source": [
    "# Specify download folder\n",
    "\n",
    "folder = \"AquaHkmLabSea2022b\"\n",
    "filepath = Path(\"/home/eefjg/OneDrive/Leeds/PhD/Data/MODIS/\"+folder)\n",
    "filepath.mkdir(exist_ok=True, parents=True)"
   ]
  },
  {
   "cell_type": "code",
   "execution_count": 9,
   "metadata": {},
   "outputs": [],
   "source": [
    "# Save the list of granules to a text file\n",
    "with open(filepath / \"granule_list.txt\", \"w\") as f:\n",
    "    for granule in labsea2022_granules:\n",
    "        f.write(f\"{granule}\\n\")"
   ]
  },
  {
   "cell_type": "code",
   "execution_count": 10,
   "metadata": {},
   "outputs": [
    {
     "data": {
      "application/vnd.jupyter.widget-view+json": {
       "model_id": "26117d08e59248058439d60693232ae4",
       "version_major": 2,
       "version_minor": 0
      },
      "text/plain": [
       "Downloading:   0%|          | 0/71 [00:00<?, ?file/s]"
      ]
     },
     "metadata": {},
     "output_type": "display_data"
    },
    {
     "data": {
      "text/plain": [
       "[PosixPath('/home/eefjg/OneDrive/Leeds/PhD/Data/MODIS/AquaHkmLabSea2022b/MYD02HKM.A2022352.1640.061.2022354222030.hdf'),\n",
       " PosixPath('/home/eefjg/OneDrive/Leeds/PhD/Data/MODIS/AquaHkmLabSea2022b/MYD02HKM.A2022343.1650.061.2022344163236.hdf'),\n",
       " PosixPath('/home/eefjg/OneDrive/Leeds/PhD/Data/MODIS/AquaHkmLabSea2022b/MYD02HKM.A2022331.1630.061.2022332160811.hdf'),\n",
       " PosixPath('/home/eefjg/OneDrive/Leeds/PhD/Data/MODIS/AquaHkmLabSea2022b/MYD02HKM.A2022322.1640.061.2022324002759.hdf'),\n",
       " PosixPath('/home/eefjg/OneDrive/Leeds/PhD/Data/MODIS/AquaHkmLabSea2022b/MYD02HKM.A2022319.1610.061.2022320195116.hdf'),\n",
       " PosixPath('/home/eefjg/OneDrive/Leeds/PhD/Data/MODIS/AquaHkmLabSea2022b/MYD02HKM.A2022316.1540.061.2022317180202.hdf'),\n",
       " PosixPath('/home/eefjg/OneDrive/Leeds/PhD/Data/MODIS/AquaHkmLabSea2022b/MYD02HKM.A2022310.1620.061.2022311183559.hdf'),\n",
       " PosixPath('/home/eefjg/OneDrive/Leeds/PhD/Data/MODIS/AquaHkmLabSea2022b/MYD02HKM.A2022307.1550.061.2022308172954.hdf'),\n",
       " PosixPath('/home/eefjg/OneDrive/Leeds/PhD/Data/MODIS/AquaHkmLabSea2022b/MYD02HKM.A2022306.1645.061.2022308062251.hdf'),\n",
       " PosixPath('/home/eefjg/OneDrive/Leeds/PhD/Data/MODIS/AquaHkmLabSea2022b/MYD02HKM.A2022298.1600.061.2022299165545.hdf'),\n",
       " PosixPath('/home/eefjg/OneDrive/Leeds/PhD/Data/MODIS/AquaHkmLabSea2022b/MYD02HKM.A2022294.1625.061.2022295161749.hdf'),\n",
       " PosixPath('/home/eefjg/OneDrive/Leeds/PhD/Data/MODIS/AquaHkmLabSea2022b/MYD02HKM.A2022291.1555.061.2022292211930.hdf'),\n",
       " PosixPath('/home/eefjg/OneDrive/Leeds/PhD/Data/MODIS/AquaHkmLabSea2022b/MYD02HKM.A2022282.1605.061.2022284141302.hdf'),\n",
       " PosixPath('/home/eefjg/OneDrive/Leeds/PhD/Data/MODIS/AquaHkmLabSea2022b/MYD02HKM.A2022279.1535.061.2022280155524.hdf'),\n",
       " PosixPath('/home/eefjg/OneDrive/Leeds/PhD/Data/MODIS/AquaHkmLabSea2022b/MYD02HKM.A2022278.1630.061.2022279161406.hdf'),\n",
       " PosixPath('/home/eefjg/OneDrive/Leeds/PhD/Data/MODIS/AquaHkmLabSea2022b/MYD02HKM.A2022275.1600.061.2022276155530.hdf'),\n",
       " PosixPath('/home/eefjg/OneDrive/Leeds/PhD/Data/MODIS/AquaHkmLabSea2022b/MYD02HKM.A2022266.1610.061.2022267155826.hdf'),\n",
       " PosixPath('/home/eefjg/OneDrive/Leeds/PhD/Data/MODIS/AquaHkmLabSea2022b/MYD02HKM.A2022263.1540.061.2022264194033.hdf'),\n",
       " PosixPath('/home/eefjg/OneDrive/Leeds/PhD/Data/MODIS/AquaHkmLabSea2022b/MYD02HKM.A2022262.1635.061.2022263173949.hdf'),\n",
       " PosixPath('/home/eefjg/OneDrive/Leeds/PhD/Data/MODIS/AquaHkmLabSea2022b/MYD02HKM.A2022259.1605.061.2022260152927.hdf'),\n",
       " PosixPath('/home/eefjg/OneDrive/Leeds/PhD/Data/MODIS/AquaHkmLabSea2022b/MYD02HKM.A2022256.1535.061.2022257180849.hdf'),\n",
       " PosixPath('/home/eefjg/OneDrive/Leeds/PhD/Data/MODIS/AquaHkmLabSea2022b/MYD02HKM.A2022255.1630.061.2022256201233.hdf'),\n",
       " PosixPath('/home/eefjg/OneDrive/Leeds/PhD/Data/MODIS/AquaHkmLabSea2022b/MYD02HKM.A2022252.1600.061.2022253213736.hdf'),\n",
       " PosixPath('/home/eefjg/OneDrive/Leeds/PhD/Data/MODIS/AquaHkmLabSea2022b/MYD02HKM.A2022240.1540.061.2022241154212.hdf'),\n",
       " PosixPath('/home/eefjg/OneDrive/Leeds/PhD/Data/MODIS/AquaHkmLabSea2022b/MYD02HKM.A2022239.1635.061.2022240151716.hdf'),\n",
       " PosixPath('/home/eefjg/OneDrive/Leeds/PhD/Data/MODIS/AquaHkmLabSea2022b/MYD02HKM.A2022236.1605.061.2022237204541.hdf'),\n",
       " PosixPath('/home/eefjg/OneDrive/Leeds/PhD/Data/MODIS/AquaHkmLabSea2022b/MYD02HKM.A2022233.1535.061.2022234165702.hdf'),\n",
       " PosixPath('/home/eefjg/OneDrive/Leeds/PhD/Data/MODIS/AquaHkmLabSea2022b/MYD02HKM.A2022232.1630.061.2022234161103.hdf'),\n",
       " PosixPath('/home/eefjg/OneDrive/Leeds/PhD/Data/MODIS/AquaHkmLabSea2022b/MYD02HKM.A2022229.1600.061.2022230152115.hdf'),\n",
       " PosixPath('/home/eefjg/OneDrive/Leeds/PhD/Data/MODIS/AquaHkmLabSea2022b/MYD02HKM.A2022225.1625.061.2022227062323.hdf'),\n",
       " PosixPath('/home/eefjg/OneDrive/Leeds/PhD/Data/MODIS/AquaHkmLabSea2022b/MYD02HKM.A2022222.1555.061.2022223153516.hdf'),\n",
       " PosixPath('/home/eefjg/OneDrive/Leeds/PhD/Data/MODIS/AquaHkmLabSea2022b/MYD02HKM.A2022210.1535.061.2022211150434.hdf'),\n",
       " PosixPath('/home/eefjg/OneDrive/Leeds/PhD/Data/MODIS/AquaHkmLabSea2022b/MYD02HKM.A2022209.1630.061.2022210155240.hdf'),\n",
       " PosixPath('/home/eefjg/OneDrive/Leeds/PhD/Data/MODIS/AquaHkmLabSea2022b/MYD02HKM.A2022206.1600.061.2022321022240.hdf'),\n",
       " PosixPath('/home/eefjg/OneDrive/Leeds/PhD/Data/MODIS/AquaHkmLabSea2022b/MYD02HKM.A2022202.1625.061.2022320090932.hdf'),\n",
       " PosixPath('/home/eefjg/OneDrive/Leeds/PhD/Data/MODIS/AquaHkmLabSea2022b/MYD02HKM.A2022199.1555.061.2022320001556.hdf'),\n",
       " PosixPath('/home/eefjg/OneDrive/Leeds/PhD/Data/MODIS/AquaHkmLabSea2022b/MYD02HKM.A2022198.1650.061.2022319210103.hdf'),\n",
       " PosixPath('/home/eefjg/OneDrive/Leeds/PhD/Data/MODIS/AquaHkmLabSea2022b/MYD02HKM.A2022195.1620.061.2022319114438.hdf'),\n",
       " PosixPath('/home/eefjg/OneDrive/Leeds/PhD/Data/MODIS/AquaHkmLabSea2022b/MYD02HKM.A2022192.1550.061.2022319013653.hdf'),\n",
       " PosixPath('/home/eefjg/OneDrive/Leeds/PhD/Data/MODIS/AquaHkmLabSea2022b/MYD02HKM.A2022191.1645.061.2022318210604.hdf'),\n",
       " PosixPath('/home/eefjg/OneDrive/Leeds/PhD/Data/MODIS/AquaHkmLabSea2022b/MYD02HKM.A2022188.1615.061.2022318075109.hdf'),\n",
       " PosixPath('/home/eefjg/OneDrive/Leeds/PhD/Data/MODIS/AquaHkmLabSea2022b/MYD02HKM.A2022185.1545.061.2022317225934.hdf'),\n",
       " PosixPath('/home/eefjg/OneDrive/Leeds/PhD/Data/MODIS/AquaHkmLabSea2022b/MYD02HKM.A2022181.1610.061.2022317110427.hdf'),\n",
       " PosixPath('/home/eefjg/OneDrive/Leeds/PhD/Data/MODIS/AquaHkmLabSea2022b/MYD02HKM.A2022178.1540.061.2022317023334.hdf'),\n",
       " PosixPath('/home/eefjg/OneDrive/Leeds/PhD/Data/MODIS/AquaHkmLabSea2022b/MYD02HKM.A2022148.1535.061.2022312055839.hdf'),\n",
       " PosixPath('/home/eefjg/OneDrive/Leeds/PhD/Data/MODIS/AquaHkmLabSea2022b/MYD02HKM.A2022147.1630.061.2022312012858.hdf'),\n",
       " PosixPath('/home/eefjg/OneDrive/Leeds/PhD/Data/MODIS/AquaHkmLabSea2022b/MYD02HKM.A2022144.1600.061.2022311124721.hdf'),\n",
       " PosixPath('/home/eefjg/OneDrive/Leeds/PhD/Data/MODIS/AquaHkmLabSea2022b/MYD02HKM.A2022140.1625.061.2022310221232.hdf'),\n",
       " PosixPath('/home/eefjg/OneDrive/Leeds/PhD/Data/MODIS/AquaHkmLabSea2022b/MYD02HKM.A2022137.1555.061.2022310140348.hdf'),\n",
       " PosixPath('/home/eefjg/OneDrive/Leeds/PhD/Data/MODIS/AquaHkmLabSea2022b/MYD02HKM.A2022107.1545.061.2022306212143.hdf'),\n",
       " PosixPath('/home/eefjg/OneDrive/Leeds/PhD/Data/MODIS/AquaHkmLabSea2022b/MYD02HKM.A2022089.1600.061.2022090153236.hdf'),\n",
       " PosixPath('/home/eefjg/OneDrive/Leeds/PhD/Data/MODIS/AquaHkmLabSea2022b/MYD02HKM.A2022085.1625.061.2022087144751.hdf'),\n",
       " PosixPath('/home/eefjg/OneDrive/Leeds/PhD/Data/MODIS/AquaHkmLabSea2022b/MYD02HKM.A2022077.1535.061.2022078151648.hdf'),\n",
       " PosixPath('/home/eefjg/OneDrive/Leeds/PhD/Data/MODIS/AquaHkmLabSea2022b/MYD02HKM.A2022073.1600.061.2022074151607.hdf'),\n",
       " PosixPath('/home/eefjg/OneDrive/Leeds/PhD/Data/MODIS/AquaHkmLabSea2022b/MYD02HKM.A2022069.1625.061.2022070151908.hdf'),\n",
       " PosixPath('/home/eefjg/OneDrive/Leeds/PhD/Data/MODIS/AquaHkmLabSea2022b/MYD02HKM.A2022066.1555.061.2022067152718.hdf'),\n",
       " PosixPath('/home/eefjg/OneDrive/Leeds/PhD/Data/MODIS/AquaHkmLabSea2022b/MYD02HKM.A2022062.1620.061.2022063191638.hdf'),\n",
       " PosixPath('/home/eefjg/OneDrive/Leeds/PhD/Data/MODIS/AquaHkmLabSea2022b/MYD02HKM.A2022054.1530.061.2022055151728.hdf'),\n",
       " PosixPath('/home/eefjg/OneDrive/Leeds/PhD/Data/MODIS/AquaHkmLabSea2022b/MYD02HKM.A2022053.1625.061.2022054150256.hdf'),\n",
       " PosixPath('/home/eefjg/OneDrive/Leeds/PhD/Data/MODIS/AquaHkmLabSea2022b/MYD02HKM.A2022050.1555.061.2022051151313.hdf'),\n",
       " PosixPath('/home/eefjg/OneDrive/Leeds/PhD/Data/MODIS/AquaHkmLabSea2022b/MYD02HKM.A2022046.1620.061.2022047154346.hdf'),\n",
       " PosixPath('/home/eefjg/OneDrive/Leeds/PhD/Data/MODIS/AquaHkmLabSea2022b/MYD02HKM.A2022043.1550.061.2022044151910.hdf'),\n",
       " PosixPath('/home/eefjg/OneDrive/Leeds/PhD/Data/MODIS/AquaHkmLabSea2022b/MYD02HKM.A2022042.1645.061.2022047030334.hdf'),\n",
       " PosixPath('/home/eefjg/OneDrive/Leeds/PhD/Data/MODIS/AquaHkmLabSea2022b/MYD02HKM.A2022034.1555.061.2022035163714.hdf'),\n",
       " PosixPath('/home/eefjg/OneDrive/Leeds/PhD/Data/MODIS/AquaHkmLabSea2022b/MYD02HKM.A2022030.1620.061.2022031152802.hdf'),\n",
       " PosixPath('/home/eefjg/OneDrive/Leeds/PhD/Data/MODIS/AquaHkmLabSea2022b/MYD02HKM.A2022027.1550.061.2022028152817.hdf'),\n",
       " PosixPath('/home/eefjg/OneDrive/Leeds/PhD/Data/MODIS/AquaHkmLabSea2022b/MYD02HKM.A2022026.1645.061.2022027184656.hdf'),\n",
       " PosixPath('/home/eefjg/OneDrive/Leeds/PhD/Data/MODIS/AquaHkmLabSea2022b/MYD02HKM.A2022018.1555.061.2022020024815.hdf'),\n",
       " PosixPath('/home/eefjg/OneDrive/Leeds/PhD/Data/MODIS/AquaHkmLabSea2022b/MYD02HKM.A2022014.1620.061.2022015231003.hdf'),\n",
       " PosixPath('/home/eefjg/OneDrive/Leeds/PhD/Data/MODIS/AquaHkmLabSea2022b/MYD02HKM.A2022010.1645.061.2022011165005.hdf'),\n",
       " PosixPath('/home/eefjg/OneDrive/Leeds/PhD/Data/MODIS/AquaHkmLabSea2022b/MYD02HKM.A2022002.1555.061.2022003153445.hdf')]"
      ]
     },
     "execution_count": 10,
     "metadata": {},
     "output_type": "execute_result"
    }
   ],
   "source": [
    "# Download the granules\n",
    "\n",
    "GranuleHandler.download_from_granules(labsea2022_granules, session, path=str(filepath), threads=10)"
   ]
  },
  {
   "cell_type": "code",
   "execution_count": null,
   "metadata": {},
   "outputs": [],
   "source": []
  }
 ],
 "metadata": {
  "kernelspec": {
   "display_name": "modis-tools",
   "language": "python",
   "name": "python3"
  },
  "language_info": {
   "codemirror_mode": {
    "name": "ipython",
    "version": 3
   },
   "file_extension": ".py",
   "mimetype": "text/x-python",
   "name": "python",
   "nbconvert_exporter": "python",
   "pygments_lexer": "ipython3",
   "version": "3.1.undefined"
  }
 },
 "nbformat": 4,
 "nbformat_minor": 2
}
