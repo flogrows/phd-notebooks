{
 "cells": [
  {
   "cell_type": "code",
   "execution_count": 1,
   "metadata": {},
   "outputs": [],
   "source": [
    "from modis_tools.auth import ModisSession\n",
    "from modis_tools.resources import CollectionApi, GranuleApi\n",
    "from modis_tools.granule_handler import GranuleHandler\n",
    "\n",
    "from modis_tools.auth import add_earthdata_netrc, remove_earthdata_netrc\n",
    "\n",
    "from datetime import datetime, timedelta\n",
    "from pathlib import Path"
   ]
  },
  {
   "cell_type": "markdown",
   "metadata": {},
   "source": [
    "### Use modis-tools to search and download MODIS granules"
   ]
  },
  {
   "cell_type": "code",
   "execution_count": 2,
   "metadata": {},
   "outputs": [],
   "source": [
    "# Create an entry for Earthdata in the ~/.netrc file, only needs to be run once\n",
    "\n",
    "#username = \"\"\n",
    "#password = \"\"\n",
    "#add_earthdata_netrc(username, password)"
   ]
  },
  {
   "cell_type": "code",
   "execution_count": 2,
   "metadata": {},
   "outputs": [],
   "source": [
    "# Create a session\n",
    "session = ModisSession()"
   ]
  },
  {
   "cell_type": "code",
   "execution_count": 19,
   "metadata": {},
   "outputs": [
    {
     "data": {
      "text/plain": [
       "[Collection(id='C1379758778-LAADS', title='MODIS/Aqua Calibrated Radiances 5-Min L1B Swath 500m', dataset_id='MODIS/Aqua Calibrated Radiances 5-Min L1B Swath 500m', coordinate_system='CARTESIAN', time_start='2002-07-04T00:45:00.000Z', updated=None, links=[CollectionLink(hreflang='en-US', href=AnyUrl('https://doi.org/10.5067/MODIS/MYD02HKM.061', scheme='https', host='doi.org', tld='org', host_type='domain', path='/10.5067/MODIS/MYD02HKM.061'), type=None), CollectionLink(hreflang='en-US', href=AnyUrl('https://mcst.gsfc.nasa.gov/sites/default/files/file_attachments/M1054D_PUG_083112_final.pdf', scheme='https', host='mcst.gsfc.nasa.gov', tld='gov', host_type='domain', path='/sites/default/files/file_attachments/M1054D_PUG_083112_final.pdf'), type=None), CollectionLink(hreflang='en-US', href=AnyUrl('https://mcst.gsfc.nasa.gov/sites/mcst.gsfc/files/file_attachments/MODIS_L1B_ATBD_ver4.pdf', scheme='https', host='mcst.gsfc.nasa.gov', tld='gov', host_type='domain', path='/sites/mcst.gsfc/files/file_attachments/MODIS_L1B_ATBD_ver4.pdf'), type=None), CollectionLink(hreflang='en-US', href=AnyUrl('https://ladsweb.modaps.eosdis.nasa.gov/search/order/2/MYD02HKM--61', scheme='https', host='ladsweb.modaps.eosdis.nasa.gov', tld='gov', host_type='domain', path='/search/order/2/MYD02HKM--61'), type=None), CollectionLink(hreflang='en-US', href=AnyUrl('https://ladsweb.modaps.eosdis.nasa.gov/archive/allData/61/MYD02HKM/', scheme='https', host='ladsweb.modaps.eosdis.nasa.gov', tld='gov', host_type='domain', path='/archive/allData/61/MYD02HKM/'), type=None), CollectionLink(hreflang='en-US', href=AnyUrl('https://ladsweb.modaps.eosdis.nasa.gov/opendap/RemoteResources/laads/allData/61/MYD02HKM/contents.html', scheme='https', host='ladsweb.modaps.eosdis.nasa.gov', tld='gov', host_type='domain', path='/opendap/RemoteResources/laads/allData/61/MYD02HKM/contents.html'), type='text/html')], processing_level_id='1B', short_name='MYD02HKM', summary='The MODIS/Aqua Calibrated Radiances 5Min L1B Swath 500m data set contains calibrated and geolocated at-aperture radiances for 7 discrete bands located in the 0.45 to 2.20 micron region of the electromagnetic spectrum. These data are generated from the MODIS Level 1A scans of raw radiance and in the process converted to geophysical units of W/(m^2 um sr). Additional data are provided including quality flags, error estimates and calibration data.\\r\\n\\r\\nVisible, shortwave infrared, and near infrared measurements are only made during the daytime (except band 26), while radiances for the thermal infrared region (bands 20-25, 27-36) are measured continuously.\\r\\n\\r\\nChannels 1 and 2 have 250 m resolution, channels 3 through 7 have 500 m resolution. However, for the MODIS L1B 500 m product, the 250 m band radiance data and their associated uncertainties have been aggregated to 500m resolution. Thus the entire channel data set has been co-registered to the same spatial scale in the 500 m product. Separate L1B products are available for the 250 m resolution channels (MYD02QKM) and 1 km resolution channels (MYD021KM). For the latter product, the 250 m and 500 m channel data (bands 1 through 7) have been aggregated into equivalent 1 km pixel values.\\r\\n            \\r\\nSpatial resolution for pixels at nadir is 500 km, degrading to 2.4 km in the along-scan direction at the scan extremes. However, thanks to the overlapping of consecutive swaths and respectively pixels there, the resulting resolution at the scan extremes is about 1 km. A 55 degree scanning pattern at the EOS orbit of 705 km results in a 2330 km orbital swath width and provides global coverage every one to two days. A single MODIS Level 1B 500 m granule will contain a scene built from 203 scans sampled 2708 times in the cross-track direction, corresponding to approximately 5 minutes worth of data; thus 288 granules will be produced per day. Since an individual MODIS scan will contain 20 along-track spatial elements for the 500 m channels, the scene will be composed of (2708 x 4060) pixels, resulting in a spatial coverage of (2330 km x 2040 km). Due to the MODIS scan geometry, there will be increasing scan overlap beyond about 20 degrees scan angle.      \\r\\n\\r\\nTo summarize, the MODIS L1B 500 m data product consists of:\\r\\n            \\r\\n1. Calibrated radiances, uncertainties and number of samples for (2) 250 m reflected solar bands aggregated to 500 m resolution\\r\\n            \\r\\n2. Calibrated radiances and uncertainties for (5) 500 m reflected solar bands\\r\\n            \\r\\n3. Geolocation for 1km pixels, that must be interpolated to get 500 m pixel locations. For the relationship of 1km pixels to 500m pixels, see the Geolocation ATBD https://modis.gsfc.nasa.gov/data/atbd/atbd_mod28_v3.pdf.\\r\\n            \\r\\n4. Calibration data for all channels (scale and offset) \\r\\n            \\r\\n5. Comprehensive set of file-level metadata summarizing the spatial, temporal and parameter attributes of the data, as well as auxiliary information pertaining to instrument status and data quality characterization users requiring all geolocation and solar/satellite geometry fields at 1km resolution can obtain the separate MODIS Level 1 Geolocation product (MYD03) from LAADS  https://ladsweb.modaps.eosdis.nasa.gov/ . \\r\\n            \\r\\nThe shortname for this product is MYD02HKM and is stored in the Earth Observing System Hierarchical Data Format (HDF-EOS). A typical MYD02HKM file size is approximately 135 MB.\\r\\n            \\r\\nEnvironmental information derived from MODIS L1B measurements will offer a comprehensive and unprecedented look at terrestrial, atmospheric, and ocean phenomenology for a wide and diverse community of users throughout the world.\\r\\n\\r\\nSee the MODIS Characterization Support Team webpage for more C6 product information at:\\r\\n\\r\\nhttps://mcst.gsfc.nasa.gov/l1b/product-information\\r\\n\\r\\n\\r\\nor visit Science Team homepage at:\\r\\nhttps://modis.gsfc.nasa.gov/data/dataprod/', version_id='6.1')]"
      ]
     },
     "execution_count": 19,
     "metadata": {},
     "output_type": "execute_result"
    }
   ],
   "source": [
    "# Query the MODIS catalog for collections\n",
    "collection_client = CollectionApi(session=session)\n",
    "\n",
    "# Choose a collection to query\n",
    "collections = collection_client.query(short_name=\"MYD02HKM\", version=\"6.1\") # Aqua 500m calibrated radiances\n",
    "#collections = collection_client.query(short_name=\"MYD03\", version=\"6.1\") # Aqua geolocation fields\n",
    "#collections = collection_client.query(short_name=\"MYD29\", version=\"61\") # Aqua sea ice\n",
    "\n",
    "collections"
   ]
  },
  {
   "cell_type": "code",
   "execution_count": 20,
   "metadata": {},
   "outputs": [],
   "source": [
    "# Query the selected collection for granules\n",
    "granule_client = GranuleApi.from_collection(collections[0], session=session)"
   ]
  },
  {
   "cell_type": "code",
   "execution_count": 21,
   "metadata": {},
   "outputs": [],
   "source": [
    "# Filter the selected granules via spatial and temporal parameters\n",
    "# e.g.\n",
    "# nigeria_bbox = [2.1448863675, 4.002583177, 15.289420717, 14.275061098]\n",
    "# nigeria_granules = granule_client.query(start_date=\"2016-01-01\", end_date=\"2018-12-31\", bounding_box=nigeria_bbox)\n",
    "\n",
    "# See https://cmr.earthdata.nasa.gov/search/site/docs/search/api.html for more options\n",
    "\n",
    "# Date range:\n",
    "start_date = \"2022-01-01\"\n",
    "end_date = \"2022-12-31\"\n",
    "\n",
    "# Spatial extent:\n",
    "labsea = [-65.0, 45.0, -40.0, 70.0] # bounding_box for Labrador Sea\n",
    "points = [\"-55.0,53.75\", \"-64.25,61.5\", \"-53.25,64.25\", \"-44.0,59.25\"] # four approximate 'corners' of the Labrador Sea\n",
    "points2 = [\"-56.0,52.5\", \"-68.0,60.0\", \"-53.0,66.0\", \"-41.0,60.0\"] # four corners of a larger area\n",
    "points3 = [\"-64.0,55.0\", \"-44.0,63.0\"] # two ends of a line bisecting the Labrador Sea\n",
    "\n",
    "# NB point co-ordinate is in lon, lat (opposite to earthdata web search!)\n",
    "# Default option for point search is AND, i.e. all points will be within each granule\n",
    "\n",
    "# Get list of granules fitting given criteria:\n",
    "labsea2022_granules = granule_client.query(start_date=start_date, end_date=end_date, \n",
    "                                           day_night_flag=\"day\", bounding_box=labsea) \n",
    "                                           #point=points2) \n",
    "                                            \n",
    "\n",
    "# kwargs must be passed as dict if any options are to be used, e.g OR instead of AND\n",
    "# e.g. \n",
    "# labsea2022_granules = granule_client.query(start_date=start_date, end_date=end_date, \n",
    "#                                           **{\"point\":[\"-52.5,57.5\", \"-62.4,57.5\"], \"options[point][or]\":\"true\",\n",
    "#                                              \"day_night_flag\":\"day\"})\n",
    "\n"
   ]
  },
  {
   "cell_type": "code",
   "execution_count": 22,
   "metadata": {},
   "outputs": [
    {
     "data": {
      "text/plain": [
       "0"
      ]
     },
     "execution_count": 22,
     "metadata": {},
     "output_type": "execute_result"
    }
   ],
   "source": [
    "# Check how many granules before downloading!\n",
    "labsea2022_granules = list(labsea2022_granules) # make it a list as generator can only be used once\n",
    "len(labsea2022_granules)"
   ]
  },
  {
   "cell_type": "code",
   "execution_count": 19,
   "metadata": {},
   "outputs": [
    {
     "data": {
      "text/plain": [
       "[]"
      ]
     },
     "execution_count": 19,
     "metadata": {},
     "output_type": "execute_result"
    }
   ],
   "source": [
    "labsea2022_granules[0:10]"
   ]
  },
  {
   "cell_type": "code",
   "execution_count": 8,
   "metadata": {},
   "outputs": [],
   "source": [
    "# Specify download folder\n",
    "\n",
    "folder = \"AquaHkmLabSea2022b\"\n",
    "#folder = \"AquaHkmLabSea2022b/geoloc\"\n",
    "filepath = Path(\"/home/eefjg/OneDrive/Leeds/PhD/Data/MODIS/\"+folder)\n",
    "filepath.mkdir(exist_ok=True, parents=True)"
   ]
  },
  {
   "cell_type": "code",
   "execution_count": 9,
   "metadata": {},
   "outputs": [],
   "source": [
    "# Save the list of granules to a text file\n",
    "with open(filepath / \"granule_list.txt\", \"w\") as f:\n",
    "    for granule in labsea2022_granules:\n",
    "        f.write(f\"{granule}\\n\")"
   ]
  },
  {
   "cell_type": "code",
   "execution_count": 10,
   "metadata": {},
   "outputs": [
    {
     "data": {
      "application/vnd.jupyter.widget-view+json": {
       "model_id": "f62e2ab470d444c88a713c9300f212af",
       "version_major": 2,
       "version_minor": 0
      },
      "text/plain": [
       "Downloading:   0%|          | 0/71 [00:00<?, ?file/s]"
      ]
     },
     "metadata": {},
     "output_type": "display_data"
    },
    {
     "data": {
      "text/plain": [
       "[PosixPath('/home/eefjg/OneDrive/Leeds/PhD/Data/MODIS/AquaHkmLabSea2022b/geoloc/MYD03.A2022352.1640.061.2022353162327.hdf'),\n",
       " PosixPath('/home/eefjg/OneDrive/Leeds/PhD/Data/MODIS/AquaHkmLabSea2022b/geoloc/MYD03.A2022343.1650.061.2022344151151.hdf'),\n",
       " PosixPath('/home/eefjg/OneDrive/Leeds/PhD/Data/MODIS/AquaHkmLabSea2022b/geoloc/MYD03.A2022331.1630.061.2022332152535.hdf'),\n",
       " PosixPath('/home/eefjg/OneDrive/Leeds/PhD/Data/MODIS/AquaHkmLabSea2022b/geoloc/MYD03.A2022322.1640.061.2022323233701.hdf'),\n",
       " PosixPath('/home/eefjg/OneDrive/Leeds/PhD/Data/MODIS/AquaHkmLabSea2022b/geoloc/MYD03.A2022319.1610.061.2022320182159.hdf'),\n",
       " PosixPath('/home/eefjg/OneDrive/Leeds/PhD/Data/MODIS/AquaHkmLabSea2022b/geoloc/MYD03.A2022316.1540.061.2022317155640.hdf'),\n",
       " PosixPath('/home/eefjg/OneDrive/Leeds/PhD/Data/MODIS/AquaHkmLabSea2022b/geoloc/MYD03.A2022310.1620.061.2022311152222.hdf'),\n",
       " PosixPath('/home/eefjg/OneDrive/Leeds/PhD/Data/MODIS/AquaHkmLabSea2022b/geoloc/MYD03.A2022307.1550.061.2022308152844.hdf'),\n",
       " PosixPath('/home/eefjg/OneDrive/Leeds/PhD/Data/MODIS/AquaHkmLabSea2022b/geoloc/MYD03.A2022306.1645.061.2022308042649.hdf'),\n",
       " PosixPath('/home/eefjg/OneDrive/Leeds/PhD/Data/MODIS/AquaHkmLabSea2022b/geoloc/MYD03.A2022298.1600.061.2022299161342.hdf'),\n",
       " PosixPath('/home/eefjg/OneDrive/Leeds/PhD/Data/MODIS/AquaHkmLabSea2022b/geoloc/MYD03.A2022294.1625.061.2022295153840.hdf'),\n",
       " PosixPath('/home/eefjg/OneDrive/Leeds/PhD/Data/MODIS/AquaHkmLabSea2022b/geoloc/MYD03.A2022291.1555.061.2022292203741.hdf'),\n",
       " PosixPath('/home/eefjg/OneDrive/Leeds/PhD/Data/MODIS/AquaHkmLabSea2022b/geoloc/MYD03.A2022282.1605.061.2022283152155.hdf'),\n",
       " PosixPath('/home/eefjg/OneDrive/Leeds/PhD/Data/MODIS/AquaHkmLabSea2022b/geoloc/MYD03.A2022279.1535.061.2022280152822.hdf'),\n",
       " PosixPath('/home/eefjg/OneDrive/Leeds/PhD/Data/MODIS/AquaHkmLabSea2022b/geoloc/MYD03.A2022278.1630.061.2022279152711.hdf'),\n",
       " PosixPath('/home/eefjg/OneDrive/Leeds/PhD/Data/MODIS/AquaHkmLabSea2022b/geoloc/MYD03.A2022275.1600.061.2022276153707.hdf'),\n",
       " PosixPath('/home/eefjg/OneDrive/Leeds/PhD/Data/MODIS/AquaHkmLabSea2022b/geoloc/MYD03.A2022266.1610.061.2022267155124.hdf'),\n",
       " PosixPath('/home/eefjg/OneDrive/Leeds/PhD/Data/MODIS/AquaHkmLabSea2022b/geoloc/MYD03.A2022263.1540.061.2022264191503.hdf'),\n",
       " PosixPath('/home/eefjg/OneDrive/Leeds/PhD/Data/MODIS/AquaHkmLabSea2022b/geoloc/MYD03.A2022262.1635.061.2022263162539.hdf'),\n",
       " PosixPath('/home/eefjg/OneDrive/Leeds/PhD/Data/MODIS/AquaHkmLabSea2022b/geoloc/MYD03.A2022259.1605.061.2022260151810.hdf'),\n",
       " PosixPath('/home/eefjg/OneDrive/Leeds/PhD/Data/MODIS/AquaHkmLabSea2022b/geoloc/MYD03.A2022256.1535.061.2022257161846.hdf'),\n",
       " PosixPath('/home/eefjg/OneDrive/Leeds/PhD/Data/MODIS/AquaHkmLabSea2022b/geoloc/MYD03.A2022255.1630.061.2022256193505.hdf'),\n",
       " PosixPath('/home/eefjg/OneDrive/Leeds/PhD/Data/MODIS/AquaHkmLabSea2022b/geoloc/MYD03.A2022252.1600.061.2022253213143.hdf'),\n",
       " PosixPath('/home/eefjg/OneDrive/Leeds/PhD/Data/MODIS/AquaHkmLabSea2022b/geoloc/MYD03.A2022240.1540.061.2022241153417.hdf'),\n",
       " PosixPath('/home/eefjg/OneDrive/Leeds/PhD/Data/MODIS/AquaHkmLabSea2022b/geoloc/MYD03.A2022239.1635.061.2022240150624.hdf'),\n",
       " PosixPath('/home/eefjg/OneDrive/Leeds/PhD/Data/MODIS/AquaHkmLabSea2022b/geoloc/MYD03.A2022236.1605.061.2022237165618.hdf'),\n",
       " PosixPath('/home/eefjg/OneDrive/Leeds/PhD/Data/MODIS/AquaHkmLabSea2022b/geoloc/MYD03.A2022233.1535.061.2022234162405.hdf'),\n",
       " PosixPath('/home/eefjg/OneDrive/Leeds/PhD/Data/MODIS/AquaHkmLabSea2022b/geoloc/MYD03.A2022232.1630.061.2022234154607.hdf'),\n",
       " PosixPath('/home/eefjg/OneDrive/Leeds/PhD/Data/MODIS/AquaHkmLabSea2022b/geoloc/MYD03.A2022229.1600.061.2022230151447.hdf'),\n",
       " PosixPath('/home/eefjg/OneDrive/Leeds/PhD/Data/MODIS/AquaHkmLabSea2022b/geoloc/MYD03.A2022225.1625.061.2022227061559.hdf'),\n",
       " PosixPath('/home/eefjg/OneDrive/Leeds/PhD/Data/MODIS/AquaHkmLabSea2022b/geoloc/MYD03.A2022222.1555.061.2022223151556.hdf'),\n",
       " PosixPath('/home/eefjg/OneDrive/Leeds/PhD/Data/MODIS/AquaHkmLabSea2022b/geoloc/MYD03.A2022210.1535.061.2022211145615.hdf'),\n",
       " PosixPath('/home/eefjg/OneDrive/Leeds/PhD/Data/MODIS/AquaHkmLabSea2022b/geoloc/MYD03.A2022209.1630.061.2022210151358.hdf'),\n",
       " PosixPath('/home/eefjg/OneDrive/Leeds/PhD/Data/MODIS/AquaHkmLabSea2022b/geoloc/MYD03.A2022206.1600.061.2022315022220.hdf'),\n",
       " PosixPath('/home/eefjg/OneDrive/Leeds/PhD/Data/MODIS/AquaHkmLabSea2022b/geoloc/MYD03.A2022202.1625.061.2022315014501.hdf'),\n",
       " PosixPath('/home/eefjg/OneDrive/Leeds/PhD/Data/MODIS/AquaHkmLabSea2022b/geoloc/MYD03.A2022199.1555.061.2022315011439.hdf'),\n",
       " PosixPath('/home/eefjg/OneDrive/Leeds/PhD/Data/MODIS/AquaHkmLabSea2022b/geoloc/MYD03.A2022198.1650.061.2022313193311.hdf'),\n",
       " PosixPath('/home/eefjg/OneDrive/Leeds/PhD/Data/MODIS/AquaHkmLabSea2022b/geoloc/MYD03.A2022195.1620.061.2022313191613.hdf'),\n",
       " PosixPath('/home/eefjg/OneDrive/Leeds/PhD/Data/MODIS/AquaHkmLabSea2022b/geoloc/MYD03.A2022192.1550.061.2022313185849.hdf'),\n",
       " PosixPath('/home/eefjg/OneDrive/Leeds/PhD/Data/MODIS/AquaHkmLabSea2022b/geoloc/MYD03.A2022191.1645.061.2022313184848.hdf'),\n",
       " PosixPath('/home/eefjg/OneDrive/Leeds/PhD/Data/MODIS/AquaHkmLabSea2022b/geoloc/MYD03.A2022188.1615.061.2022312184604.hdf'),\n",
       " PosixPath('/home/eefjg/OneDrive/Leeds/PhD/Data/MODIS/AquaHkmLabSea2022b/geoloc/MYD03.A2022185.1545.061.2022312031650.hdf'),\n",
       " PosixPath('/home/eefjg/OneDrive/Leeds/PhD/Data/MODIS/AquaHkmLabSea2022b/geoloc/MYD03.A2022181.1610.061.2022311110257.hdf'),\n",
       " PosixPath('/home/eefjg/OneDrive/Leeds/PhD/Data/MODIS/AquaHkmLabSea2022b/geoloc/MYD03.A2022178.1540.061.2022311045854.hdf'),\n",
       " PosixPath('/home/eefjg/OneDrive/Leeds/PhD/Data/MODIS/AquaHkmLabSea2022b/geoloc/MYD03.A2022148.1535.061.2022309211718.hdf'),\n",
       " PosixPath('/home/eefjg/OneDrive/Leeds/PhD/Data/MODIS/AquaHkmLabSea2022b/geoloc/MYD03.A2022147.1630.061.2022309211500.hdf'),\n",
       " PosixPath('/home/eefjg/OneDrive/Leeds/PhD/Data/MODIS/AquaHkmLabSea2022b/geoloc/MYD03.A2022144.1600.061.2022309205417.hdf'),\n",
       " PosixPath('/home/eefjg/OneDrive/Leeds/PhD/Data/MODIS/AquaHkmLabSea2022b/geoloc/MYD03.A2022140.1625.061.2022309200517.hdf'),\n",
       " PosixPath('/home/eefjg/OneDrive/Leeds/PhD/Data/MODIS/AquaHkmLabSea2022b/geoloc/MYD03.A2022137.1555.061.2022309194407.hdf'),\n",
       " PosixPath('/home/eefjg/OneDrive/Leeds/PhD/Data/MODIS/AquaHkmLabSea2022b/geoloc/MYD03.A2022107.1545.061.2022306180449.hdf'),\n",
       " PosixPath('/home/eefjg/OneDrive/Leeds/PhD/Data/MODIS/AquaHkmLabSea2022b/geoloc/MYD03.A2022089.1600.061.2022090152159.hdf'),\n",
       " PosixPath('/home/eefjg/OneDrive/Leeds/PhD/Data/MODIS/AquaHkmLabSea2022b/geoloc/MYD03.A2022085.1625.061.2022087135737.hdf'),\n",
       " PosixPath('/home/eefjg/OneDrive/Leeds/PhD/Data/MODIS/AquaHkmLabSea2022b/geoloc/MYD03.A2022077.1535.061.2022078151018.hdf'),\n",
       " PosixPath('/home/eefjg/OneDrive/Leeds/PhD/Data/MODIS/AquaHkmLabSea2022b/geoloc/MYD03.A2022073.1600.061.2022074151141.hdf'),\n",
       " PosixPath('/home/eefjg/OneDrive/Leeds/PhD/Data/MODIS/AquaHkmLabSea2022b/geoloc/MYD03.A2022069.1625.061.2022070151321.hdf'),\n",
       " PosixPath('/home/eefjg/OneDrive/Leeds/PhD/Data/MODIS/AquaHkmLabSea2022b/geoloc/MYD03.A2022066.1555.061.2022067151937.hdf'),\n",
       " PosixPath('/home/eefjg/OneDrive/Leeds/PhD/Data/MODIS/AquaHkmLabSea2022b/geoloc/MYD03.A2022062.1620.061.2022063190906.hdf'),\n",
       " PosixPath('/home/eefjg/OneDrive/Leeds/PhD/Data/MODIS/AquaHkmLabSea2022b/geoloc/MYD03.A2022054.1530.061.2022055150730.hdf'),\n",
       " PosixPath('/home/eefjg/OneDrive/Leeds/PhD/Data/MODIS/AquaHkmLabSea2022b/geoloc/MYD03.A2022053.1625.061.2022054145848.hdf'),\n",
       " PosixPath('/home/eefjg/OneDrive/Leeds/PhD/Data/MODIS/AquaHkmLabSea2022b/geoloc/MYD03.A2022050.1555.061.2022051150526.hdf'),\n",
       " PosixPath('/home/eefjg/OneDrive/Leeds/PhD/Data/MODIS/AquaHkmLabSea2022b/geoloc/MYD03.A2022046.1620.061.2022047152256.hdf'),\n",
       " PosixPath('/home/eefjg/OneDrive/Leeds/PhD/Data/MODIS/AquaHkmLabSea2022b/geoloc/MYD03.A2022043.1550.061.2022044150931.hdf'),\n",
       " PosixPath('/home/eefjg/OneDrive/Leeds/PhD/Data/MODIS/AquaHkmLabSea2022b/geoloc/MYD03.A2022042.1645.061.2022047024145.hdf'),\n",
       " PosixPath('/home/eefjg/OneDrive/Leeds/PhD/Data/MODIS/AquaHkmLabSea2022b/geoloc/MYD03.A2022034.1555.061.2022035150641.hdf'),\n",
       " PosixPath('/home/eefjg/OneDrive/Leeds/PhD/Data/MODIS/AquaHkmLabSea2022b/geoloc/MYD03.A2022030.1620.061.2022031151039.hdf'),\n",
       " PosixPath('/home/eefjg/OneDrive/Leeds/PhD/Data/MODIS/AquaHkmLabSea2022b/geoloc/MYD03.A2022027.1550.061.2022028151323.hdf'),\n",
       " PosixPath('/home/eefjg/OneDrive/Leeds/PhD/Data/MODIS/AquaHkmLabSea2022b/geoloc/MYD03.A2022026.1645.061.2022027163219.hdf'),\n",
       " PosixPath('/home/eefjg/OneDrive/Leeds/PhD/Data/MODIS/AquaHkmLabSea2022b/geoloc/MYD03.A2022018.1555.061.2022019203914.hdf'),\n",
       " PosixPath('/home/eefjg/OneDrive/Leeds/PhD/Data/MODIS/AquaHkmLabSea2022b/geoloc/MYD03.A2022014.1620.061.2022015190456.hdf'),\n",
       " PosixPath('/home/eefjg/OneDrive/Leeds/PhD/Data/MODIS/AquaHkmLabSea2022b/geoloc/MYD03.A2022010.1645.061.2022011153857.hdf'),\n",
       " PosixPath('/home/eefjg/OneDrive/Leeds/PhD/Data/MODIS/AquaHkmLabSea2022b/geoloc/MYD03.A2022002.1555.061.2022003152759.hdf')]"
      ]
     },
     "execution_count": 10,
     "metadata": {},
     "output_type": "execute_result"
    }
   ],
   "source": [
    "# Download the granules\n",
    "\n",
    "GranuleHandler.download_from_granules(labsea2022_granules, session, path=str(filepath), threads=10)"
   ]
  },
  {
   "cell_type": "code",
   "execution_count": null,
   "metadata": {},
   "outputs": [],
   "source": []
  }
 ],
 "metadata": {
  "kernelspec": {
   "display_name": "modis-tools",
   "language": "python",
   "name": "python3"
  },
  "language_info": {
   "codemirror_mode": {
    "name": "ipython",
    "version": 3
   },
   "file_extension": ".py",
   "mimetype": "text/x-python",
   "name": "python",
   "nbconvert_exporter": "python",
   "pygments_lexer": "ipython3",
   "version": "3.12.3"
  }
 },
 "nbformat": 4,
 "nbformat_minor": 2
}
